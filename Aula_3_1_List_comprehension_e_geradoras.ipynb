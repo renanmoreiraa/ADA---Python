{
  "cells": [
    {
      "cell_type": "markdown",
      "metadata": {
        "id": "view-in-github",
        "colab_type": "text"
      },
      "source": [
        "<a href=\"https://colab.research.google.com/github/renanmoreiraa/ADA---Python/blob/master/Aula_3_1_List_comprehension_e_geradoras.ipynb\" target=\"_parent\"><img src=\"https://colab.research.google.com/assets/colab-badge.svg\" alt=\"Open In Colab\"/></a>"
      ]
    },
    {
      "cell_type": "markdown",
      "metadata": {
        "id": "2FAcLZMnzPdd"
      },
      "source": [
        "# Aula 3 | List comprehensions e expressões geradoras\n",
        "\n",
        "Nesta aula, vamos explorar conceitos de abrangência/compreensão de listas e expressões geradoras.\n",
        "\n",
        "**Nosso problema hoje**: Como fazer um programa que lê a quantidade de alunos e de provas realizadas por aluno pelo teclado, gera uma matriz de notas, calcula a média de cada aluno e gera uma lista informando quais alunos foram aprovados ou reprovados utilizando código \"idiomático\" em Python.\n",
        "\n",
        "__________"
      ]
    },
    {
      "cell_type": "markdown",
      "metadata": {
        "id": "m4gH8ilGzPdg"
      },
      "source": [
        "## 1. List comprehensions\n",
        "\n",
        "As list comprehensions (compreensões de lista) são uma maneira concisa e eficiente de criar listas. Elas permitem criar novas listas transformando e filtrando elementos de uma sequência existente em uma **única linha de código.**"
      ]
    },
    {
      "cell_type": "markdown",
      "metadata": {
        "id": "fv_xhi9vzPdg"
      },
      "source": [
        "Imagine que você tenhamos uma lista de números e queremos criar uma nova lista onde cada número é o quadrado do número original. Tradicionalmente, resolveríamos assim:"
      ]
    },
    {
      "cell_type": "markdown",
      "metadata": {
        "id": "vy-sCwIAzPdg"
      },
      "source": [
        "Com list comprehensions podemos resumir o loop for em uma única linha.\n",
        "A sintaxe é:\n",
        "\n",
        "```python\n",
        "[operacao for item in lista_base]\n",
        "```"
      ]
    },
    {
      "cell_type": "markdown",
      "metadata": {
        "id": "9mLE30CVzPdg"
      },
      "source": [
        "![](img/list_comprehension1.png)"
      ]
    },
    {
      "cell_type": "code",
      "execution_count": null,
      "metadata": {
        "colab": {
          "base_uri": "https://localhost:8080/"
        },
        "id": "5-xx5ZkRzPdh",
        "outputId": "f7b661e7-29df-411c-bf27-95e4dddf4023"
      },
      "outputs": [
        {
          "output_type": "execute_result",
          "data": {
            "text/plain": [
              "[1, 4, 9, 16, 25]"
            ]
          },
          "metadata": {},
          "execution_count": 1
        }
      ],
      "source": [
        "lista_base = [1, 2, 3, 4, 5]\n",
        "quadrados = []\n",
        "\n",
        "for n in lista_base:\n",
        "    quadrados.append(n*n)\n",
        "\n",
        "quadrados"
      ]
    },
    {
      "cell_type": "code",
      "execution_count": null,
      "metadata": {
        "colab": {
          "base_uri": "https://localhost:8080/"
        },
        "id": "PBKgBzUfzPdh",
        "outputId": "b2d146a3-064e-482f-aef0-d8cd6f134adf"
      },
      "outputs": [
        {
          "output_type": "execute_result",
          "data": {
            "text/plain": [
              "[1, 4, 9, 16, 25]"
            ]
          },
          "metadata": {},
          "execution_count": 2
        }
      ],
      "source": [
        "quadrados = [n*n for n in lista_base]\n",
        "quadrados"
      ]
    },
    {
      "cell_type": "markdown",
      "metadata": {
        "id": "UFNif9ZKzPdh"
      },
      "source": [
        "### 👉🏼 Exemplos de uso"
      ]
    },
    {
      "cell_type": "markdown",
      "metadata": {
        "id": "1tNQx7oCzPdh"
      },
      "source": [
        "**Filtrando elementos:** criar uma lista apenas com números pares de outra lista.\n",
        "\n",
        "```python\n",
        "[operacao for item in lista_base if condicao]\n",
        "```"
      ]
    },
    {
      "cell_type": "markdown",
      "metadata": {
        "id": "F9LWJHhIzPdi"
      },
      "source": [
        "![](img/list_comprehension2.png)"
      ]
    },
    {
      "cell_type": "code",
      "execution_count": null,
      "metadata": {
        "colab": {
          "base_uri": "https://localhost:8080/"
        },
        "id": "VXqxk2X_zPdi",
        "outputId": "4fb0a431-984d-45c8-fe6c-91d0a2f91623"
      },
      "outputs": [
        {
          "output_type": "execute_result",
          "data": {
            "text/plain": [
              "[2, 4]"
            ]
          },
          "metadata": {},
          "execution_count": 3
        }
      ],
      "source": [
        "lista_base = [1, 2, 3, 4, 5]\n",
        "pares = []\n",
        "\n",
        "for n in lista_base:\n",
        "    if n % 2 == 0:\n",
        "        pares.append(n)\n",
        "\n",
        "pares"
      ]
    },
    {
      "cell_type": "code",
      "execution_count": null,
      "metadata": {
        "colab": {
          "base_uri": "https://localhost:8080/"
        },
        "id": "lvINE4KpzPdi",
        "outputId": "c1d80d38-6a2b-44ff-e66e-e833482d856b"
      },
      "outputs": [
        {
          "output_type": "execute_result",
          "data": {
            "text/plain": [
              "[2, 4]"
            ]
          },
          "metadata": {},
          "execution_count": 5
        }
      ],
      "source": [
        "pares = [n for n in lista_base if n % 2 == 0]\n",
        "pares"
      ]
    },
    {
      "cell_type": "markdown",
      "metadata": {
        "id": "DSfK0cVRzPdi"
      },
      "source": [
        "Se for necessário incluir o else na condição, a sintaxe muda um pouco:\n",
        "    \n",
        "```python\n",
        "[valor_caso_if if condicao else valor_caso_else for item in lista_base]\n",
        "```  "
      ]
    },
    {
      "cell_type": "markdown",
      "metadata": {
        "id": "0vl4PJEpzPdi"
      },
      "source": [
        "![](img/list_comprehension3.png)\n",
        "\n",
        "Exemplo: dada uma lista de números, indicar para cada um deles se é par ou ímpar."
      ]
    },
    {
      "cell_type": "code",
      "execution_count": null,
      "metadata": {
        "colab": {
          "base_uri": "https://localhost:8080/"
        },
        "id": "ASe3jaCuzPdi",
        "outputId": "7e08a671-6316-4236-fcb4-984098b834e4"
      },
      "outputs": [
        {
          "output_type": "execute_result",
          "data": {
            "text/plain": [
              "['1 é ímpar',\n",
              " '2 é par',\n",
              " '3 é ímpar',\n",
              " '4 é par',\n",
              " '5 é ímpar',\n",
              " '6 é par',\n",
              " '7 é ímpar',\n",
              " '8 é par',\n",
              " '9 é ímpar']"
            ]
          },
          "metadata": {},
          "execution_count": 6
        }
      ],
      "source": [
        "par_ou_impar = []\n",
        "\n",
        "for n in range(1, 10):\n",
        "    if n % 2 == 0:\n",
        "        par_ou_impar.append(f\"{n} é par\")\n",
        "    else:\n",
        "        par_ou_impar.append(f\"{n} é ímpar\")\n",
        "\n",
        "par_ou_impar"
      ]
    },
    {
      "cell_type": "code",
      "execution_count": null,
      "metadata": {
        "colab": {
          "base_uri": "https://localhost:8080/"
        },
        "id": "cKnyHMcLzPdi",
        "outputId": "79063f2a-b572-4c61-b03b-83ba31838710"
      },
      "outputs": [
        {
          "output_type": "execute_result",
          "data": {
            "text/plain": [
              "['1 é ímpar',\n",
              " '2 é par',\n",
              " '3 é ímpar',\n",
              " '4 é par',\n",
              " '5 é ímpar',\n",
              " '6 é par',\n",
              " '7 é ímpar',\n",
              " '8 é par',\n",
              " '9 é ímpar']"
            ]
          },
          "metadata": {},
          "execution_count": 7
        }
      ],
      "source": [
        "par_ou_impar = [f\"{n} é par\" if n % 2 == 0 else f\"{n} é ímpar\" for n in range(1, 10)]\n",
        "par_ou_impar"
      ]
    },
    {
      "cell_type": "markdown",
      "metadata": {
        "id": "9zvrmH2BzPdi"
      },
      "source": [
        "**Operações mais complexas:** aplicar uma função a cada elemento."
      ]
    },
    {
      "cell_type": "code",
      "execution_count": null,
      "metadata": {
        "colab": {
          "base_uri": "https://localhost:8080/"
        },
        "id": "kvvRC1BJzPdj",
        "outputId": "b3b28d25-cbb3-449b-b394-ae0fb76bf46f"
      },
      "outputs": [
        {
          "output_type": "execute_result",
          "data": {
            "text/plain": [
              "['BEATRIZ', 'ESAAC', 'MARCELO', 'DIANA']"
            ]
          },
          "metadata": {},
          "execution_count": 8
        }
      ],
      "source": [
        "nome = [\"Beatriz\", \"Esaac\", \"Marcelo\", \"Diana\"]\n",
        "nomes_maiusculos = []\n",
        "\n",
        "for n in nome:\n",
        "    nomes_maiusculos.append(n.upper())\n",
        "\n",
        "nomes_maiusculos"
      ]
    },
    {
      "cell_type": "markdown",
      "metadata": {
        "id": "nVLoSBfdzPdj"
      },
      "source": [
        "Ou também usando **loop for encadeados**.\n",
        "\n",
        "Exemplo: calcular a multiplicação entre os elementos de duas listas."
      ]
    },
    {
      "cell_type": "code",
      "execution_count": null,
      "metadata": {
        "colab": {
          "base_uri": "https://localhost:8080/"
        },
        "id": "ekgUJ_5ezPdj",
        "outputId": "6e71227f-82a0-414d-b68a-816a16c07ff1"
      },
      "outputs": [
        {
          "output_type": "execute_result",
          "data": {
            "text/plain": [
              "['BEATRIZ', 'ESAAC', 'MARCELO', 'DIANA']"
            ]
          },
          "metadata": {},
          "execution_count": 9
        }
      ],
      "source": [
        "nomes_maiusculos = [n.upper() for n in nome]\n",
        "nomes_maiusculos"
      ]
    },
    {
      "cell_type": "code",
      "source": [
        "l1 = [1, 2, 3, 4, 5, 6, 7, 8, 9, 10]\n",
        "l2 = [11, 12, 13, 14, 15]"
      ],
      "metadata": {
        "id": "oVc9cuH0-RPD"
      },
      "execution_count": null,
      "outputs": []
    },
    {
      "cell_type": "code",
      "source": [
        "[{num1 * num2} for num1 in l1 for num2 in l2]"
      ],
      "metadata": {
        "colab": {
          "base_uri": "https://localhost:8080/"
        },
        "id": "Uqv3TxHt-TLL",
        "outputId": "3c43faa2-6b5b-47a8-f1d8-3d99def45ec6"
      },
      "execution_count": null,
      "outputs": [
        {
          "output_type": "execute_result",
          "data": {
            "text/plain": [
              "[{11},\n",
              " {12},\n",
              " {13},\n",
              " {14},\n",
              " {15},\n",
              " {22},\n",
              " {24},\n",
              " {26},\n",
              " {28},\n",
              " {30},\n",
              " {33},\n",
              " {36},\n",
              " {39},\n",
              " {42},\n",
              " {45},\n",
              " {44},\n",
              " {48},\n",
              " {52},\n",
              " {56},\n",
              " {60},\n",
              " {55},\n",
              " {60},\n",
              " {65},\n",
              " {70},\n",
              " {75},\n",
              " {66},\n",
              " {72},\n",
              " {78},\n",
              " {84},\n",
              " {90},\n",
              " {77},\n",
              " {84},\n",
              " {91},\n",
              " {98},\n",
              " {105},\n",
              " {88},\n",
              " {96},\n",
              " {104},\n",
              " {112},\n",
              " {120},\n",
              " {99},\n",
              " {108},\n",
              " {117},\n",
              " {126},\n",
              " {135},\n",
              " {110},\n",
              " {120},\n",
              " {130},\n",
              " {140},\n",
              " {150}]"
            ]
          },
          "metadata": {},
          "execution_count": 15
        }
      ]
    },
    {
      "cell_type": "markdown",
      "metadata": {
        "id": "7Ynt3ME_zPdj"
      },
      "source": [
        "#### Dict comprehensions: também podemos fazer isso com dicionários!\n",
        "\n",
        "Elas funcionam de maneira semelhante às list comprehensions, mas produzem dicionários ao invés de listas.\n",
        "\n",
        "Exemplos:"
      ]
    },
    {
      "cell_type": "markdown",
      "metadata": {
        "id": "_hFXB_huzPdj"
      },
      "source": [
        "**Criar um dicionário com chaves e valores quadrados:** suponha que você queira criar um dicionário onde as chaves são números e os valores são os quadrados desses números."
      ]
    },
    {
      "cell_type": "code",
      "execution_count": null,
      "metadata": {
        "colab": {
          "base_uri": "https://localhost:8080/"
        },
        "id": "AVE6HPOKzPdj",
        "outputId": "f590c1da-5e10-43d5-bbc0-938093e04565"
      },
      "outputs": [
        {
          "output_type": "execute_result",
          "data": {
            "text/plain": [
              "{0: 0, 1: 1, 2: 4, 3: 9, 4: 16, 5: 25, 6: 36, 7: 49, 8: 64, 9: 81}"
            ]
          },
          "metadata": {},
          "execution_count": 17
        }
      ],
      "source": [
        "quadrados = {x: x*x for x in range(10)}\n",
        "quadrados"
      ]
    },
    {
      "cell_type": "markdown",
      "metadata": {
        "id": "WyB65LbEzPdj"
      },
      "source": [
        "**Inverter chave e valor de um dicionário**:"
      ]
    },
    {
      "cell_type": "code",
      "execution_count": null,
      "metadata": {
        "colab": {
          "base_uri": "https://localhost:8080/"
        },
        "id": "CrEcSieszPdj",
        "outputId": "19aa1d6c-2ef4-41b3-c47f-0f7278976ace"
      },
      "outputs": [
        {
          "output_type": "stream",
          "name": "stdout",
          "text": [
            "{'Beatriz': 12343, 'Eduardo': 45678, 'Marcelo': 35678, 'Nara': 12345678}\n",
            "{12343: 'Beatriz', 45678: 'Eduardo', 35678: 'Marcelo', 12345678: 'Nara'}\n"
          ]
        }
      ],
      "source": [
        "dict1 = {\"Beatriz\": 12343, \"Eduardo\": 45678, \"Marcelo\": 35678, \"Nara\": 12345678}\n",
        "\n",
        "dict_invertido = {valor: chave for chave, valor in dict1.items()}\n",
        "print(dict1)\n",
        "print(dict_invertido)"
      ]
    },
    {
      "cell_type": "markdown",
      "metadata": {
        "id": "HRMUQnCVzPdj"
      },
      "source": [
        "Em resumo:\n",
        "\n",
        "- **Menos código**: reduzem a quantidade de código necessária para criar uma nova lista.\n",
        "- **Mais legível**: quando usadas adequadamente, podem ser mais fáceis de entender do que loops tradicionais.\n",
        "- **Eficiência**: frequentemente, são mais eficientes em termos de desempenho do que os loops regulares."
      ]
    },
    {
      "cell_type": "markdown",
      "metadata": {
        "id": "mLFX6YYWzPdj"
      },
      "source": [
        "### 👩‍💻 Mão na massa"
      ]
    },
    {
      "cell_type": "markdown",
      "metadata": {
        "id": "NbYQCzH4zPdj"
      },
      "source": [
        "#### Desafio 1\n",
        "\n",
        "Remova todas as vogais de uma dada string utilizando compreensões de lista.\n",
        "\n",
        "Por exemplo em:  \n",
        "`\"banana\"`\n",
        "O retorno deve ser:  \n",
        "`\"bnn\"`\n",
        "\n",
        "> Lembre-se da operação `\"\".join()`"
      ]
    },
    {
      "cell_type": "code",
      "execution_count": null,
      "metadata": {
        "colab": {
          "base_uri": "https://localhost:8080/",
          "height": 36
        },
        "id": "pdRkmBTfzPdj",
        "outputId": "290d1d0a-979e-4dcf-a388-7528de57fb1f"
      },
      "outputs": [
        {
          "output_type": "execute_result",
          "data": {
            "text/plain": [
              "'bnn'"
            ],
            "application/vnd.google.colaboratory.intrinsic+json": {
              "type": "string"
            }
          },
          "metadata": {},
          "execution_count": 24
        }
      ],
      "source": [
        "string = \"banana\" #sem join\n",
        "vogais = [\"a\", \"e\", \"i\", \"o\", \"u\"]\n",
        "nova_string = \"\"\n",
        "\n",
        "for letra in string:\n",
        "    if letra not in vogais:\n",
        "        nova_string += letra\n",
        "\n",
        "nova_string"
      ]
    },
    {
      "cell_type": "code",
      "source": [
        "string = \"banana\"\n",
        "vogais = [\"a\", \"e\", \"i\", \"o\", \"u\"]\n",
        "\n",
        "nova_string = \"\".join([letra for letra in string if letra not in vogais])\n",
        "\n",
        "nova_string\n"
      ],
      "metadata": {
        "colab": {
          "base_uri": "https://localhost:8080/",
          "height": 36
        },
        "id": "N_mfb988A2Ni",
        "outputId": "00ed1729-2dd1-4b9a-cada-312ac131f7be"
      },
      "execution_count": null,
      "outputs": [
        {
          "output_type": "execute_result",
          "data": {
            "text/plain": [
              "'bnn'"
            ],
            "application/vnd.google.colaboratory.intrinsic+json": {
              "type": "string"
            }
          },
          "metadata": {},
          "execution_count": 34
        }
      ]
    },
    {
      "cell_type": "markdown",
      "metadata": {
        "id": "v8CGejA4zPdk"
      },
      "source": [
        "#### Desafio 2\n",
        "\n",
        "Crie um novo dicionário onde a chave é o nome e o valor a quantidade de caracteres do nome.\n",
        "\n",
        "> Exemplo de resuldado: {'ana': 3, 'bruno': 5, 'carla': 5}"
      ]
    },
    {
      "cell_type": "code",
      "source": [
        "nomes = [\"ana\", \"bruno\", \"carla\"]\n",
        "\n",
        "dicio = {n: len(n) for n in nomes}\n",
        "dicio"
      ],
      "metadata": {
        "colab": {
          "base_uri": "https://localhost:8080/"
        },
        "id": "iuHPxR2qAVcx",
        "outputId": "45353bef-6eb4-4dce-e957-ae9a715873a5"
      },
      "execution_count": null,
      "outputs": [
        {
          "output_type": "execute_result",
          "data": {
            "text/plain": [
              "{'ana': 3, 'bruno': 5, 'carla': 5}"
            ]
          },
          "metadata": {},
          "execution_count": 32
        }
      ]
    },
    {
      "cell_type": "markdown",
      "metadata": {
        "id": "8eIgNvmQzPdk"
      },
      "source": [
        "## 2. Expressões geradoras\n",
        "\n",
        "As expressões geradoras são uma maneira compacta de criar **iteradores**. Elas são semelhantes às compreensões de listas, mas, ao invés de construir uma lista inteira de uma vez, elas geram os elementos **sob demanda**.\n",
        "\n",
        "Isso as torna mais eficientes em termos de memória para grandes conjuntos de dados.\n",
        "\n",
        "- Sintaxe: uma expressão geradora é escrita de forma similar a uma compreensão de lista, mas usa parênteses () ao invés de colchetes [].\n",
        "\n",
        "- Preguiçosa: ela não computa os valores de uma só vez; em vez disso, **gera um item por vez**, apenas quando solicitado. Isso é conhecido como avaliação preguiçosa (lazy evaluation)."
      ]
    },
    {
      "cell_type": "code",
      "execution_count": null,
      "metadata": {
        "colab": {
          "base_uri": "https://localhost:8080/"
        },
        "id": "a2W6B8sWzPdk",
        "outputId": "731e5a42-3eec-4e8d-cde6-0e16cc9fb8de"
      },
      "outputs": [
        {
          "output_type": "stream",
          "name": "stdout",
          "text": [
            "<class 'dict'>\n"
          ]
        },
        {
          "output_type": "execute_result",
          "data": {
            "text/plain": [
              "{0: 1, 1: 2, 2: 3, 3: 4, 4: 5}"
            ]
          },
          "metadata": {},
          "execution_count": 39
        }
      ],
      "source": [
        "colchetes = {x: x + 1 for x in range(5)}\n",
        "print(type(colchetes))\n",
        "colchetes"
      ]
    },
    {
      "cell_type": "code",
      "execution_count": null,
      "metadata": {
        "colab": {
          "base_uri": "https://localhost:8080/"
        },
        "id": "aSj78QLezPdk",
        "outputId": "9efe5f39-60e7-4bd4-f769-d5bd89bba107"
      },
      "outputs": [
        {
          "output_type": "stream",
          "name": "stdout",
          "text": [
            "<class 'list'>\n"
          ]
        },
        {
          "output_type": "execute_result",
          "data": {
            "text/plain": [
              "[1, 2, 3, 4, 5]"
            ]
          },
          "metadata": {},
          "execution_count": 38
        }
      ],
      "source": [
        "colchetes = [x + 1 for x in range(5)]\n",
        "print(type(colchetes))\n",
        "colchetes"
      ]
    },
    {
      "cell_type": "markdown",
      "metadata": {
        "id": "_zj7cFvRzPdk"
      },
      "source": [
        "Exemplo: vamos usar uma expressão geradora para somar elementos"
      ]
    },
    {
      "cell_type": "code",
      "execution_count": null,
      "metadata": {
        "colab": {
          "base_uri": "https://localhost:8080/"
        },
        "id": "MCE3sXPSzPdk",
        "outputId": "e0f980c8-4ad8-4f74-f637-48fa8a798744"
      },
      "outputs": [
        {
          "output_type": "execute_result",
          "data": {
            "text/plain": [
              "15"
            ]
          },
          "metadata": {},
          "execution_count": 42
        }
      ],
      "source": [
        "parenteses = (x + 1 for x in range(5))\n",
        "\n",
        "sum(parenteses)"
      ]
    },
    {
      "cell_type": "markdown",
      "metadata": {
        "id": "OQAaFUtYzPdk"
      },
      "source": [
        "O que acontece se eu tentar usar essa variável gerador ```n``` outra vez?"
      ]
    },
    {
      "cell_type": "code",
      "execution_count": null,
      "metadata": {
        "id": "LAv61MFXzPdk"
      },
      "outputs": [],
      "source": [
        "n = ((n * n for n in range(20)))"
      ]
    },
    {
      "cell_type": "code",
      "execution_count": null,
      "metadata": {
        "colab": {
          "base_uri": "https://localhost:8080/"
        },
        "id": "DVocEWPDzPdk",
        "outputId": "188cc584-1111-4e21-bd98-778274b63de0"
      },
      "outputs": [
        {
          "output_type": "stream",
          "name": "stdout",
          "text": [
            "<class 'generator'>\n",
            "0\n"
          ]
        }
      ],
      "source": [
        "print(type(n))\n",
        "print(sum(n))"
      ]
    },
    {
      "cell_type": "code",
      "source": [
        "print(id(n))\n",
        "print(type(n))"
      ],
      "metadata": {
        "colab": {
          "base_uri": "https://localhost:8080/"
        },
        "id": "VCrUO6WpGReF",
        "outputId": "fcc50c6a-e1b2-4ab1-8061-b945b07bccd2"
      },
      "execution_count": null,
      "outputs": [
        {
          "output_type": "stream",
          "name": "stdout",
          "text": [
            "132098567903312\n",
            "<class 'generator'>\n"
          ]
        }
      ]
    },
    {
      "cell_type": "code",
      "execution_count": null,
      "metadata": {
        "colab": {
          "base_uri": "https://localhost:8080/"
        },
        "id": "m8cSeboVzPdk",
        "outputId": "857da277-d3de-468d-e21c-e37fbdf405ad"
      },
      "outputs": [
        {
          "output_type": "stream",
          "name": "stdout",
          "text": [
            "<class 'generator'>\n",
            "361\n"
          ]
        }
      ],
      "source": [
        "print(type(n))\n",
        "print(max(n))"
      ]
    },
    {
      "cell_type": "markdown",
      "metadata": {
        "id": "EAVYTK1lzPdl"
      },
      "source": [
        "📌 Isso ocorreu porque tentamos usar a expressão geradora ```n``` duas vezes: primeiro com a função sum(n) e depois com max(n).\n",
        "\n",
        "**As expressões geradoras são iteradores que podem ser percorridos apenas uma vez.**\n",
        "\n",
        "Isso significa que, depois de serem percorridos, eles ficam **esgotados** e não podem ser usados novamente. Quando você chamamos sum(n), a expressão geradora n foi totalmente consumida para calcular a soma dos quadrados dos números de 0 a 9. Depois disso, n ficou vazio."
      ]
    },
    {
      "cell_type": "markdown",
      "metadata": {
        "id": "sTIFtwgOzPdl"
      },
      "source": [
        "#### Iteradores _versus_ iteráveis\n",
        "\n",
        "- Iterável é **algo que pode ser percorrido** em um loop _(listas, tuplas, dicionários, strings e arquivos são todos exemplos de iteráveis)._\n",
        "- Iterador é um objeto que representa um fluxo de dados, é o **agente que realiza a iteração** mantendo o estado do progresso atual."
      ]
    },
    {
      "cell_type": "markdown",
      "metadata": {
        "id": "FxiaTCl6zPdl"
      },
      "source": [
        "![](https://media.giphy.com/media/3LrK7Q7UhF5MnhZ5ja/giphy.gif)"
      ]
    },
    {
      "cell_type": "markdown",
      "metadata": {
        "id": "znpYdBlKzPdl"
      },
      "source": [
        "## 3. Funções geradoras\n",
        "\n",
        "Funções geradoras nos permitem declarar uma função que se comporta como um iterador, ou seja, ela pode ser usada em loops e pode gerar uma sequência de valores ao longo do tempo, em vez de calcular e retornar todos os valores de uma vez.\n",
        "\n",
        "- Uso da palavra-chave yield: ao contrário de funções regulares que usam return para retornar um valor, as funções geradoras utilizam **yield**. Cada vez que a função geradora encontra um yield, ela retorna o valor especificado e \"pausa\" sua execução, mantendo o estado atual. Na próxima iteração, ela continua de onde parou.\n",
        "\n",
        "- Eficiência de memória: são úteis quando você está lidando com uma grande quantidade de dados ou uma sequência infinita, pois **elas geram os valores sob demanda** e não armazenam toda a sequência na memória.\n",
        "\n",
        "- Iterável: **retorna um objeto que é iterável**, o que significa que podemos usá-lo em um loop for, ou em qualquer lugar onde iteradores são aceitos."
      ]
    },
    {
      "cell_type": "code",
      "execution_count": null,
      "metadata": {
        "colab": {
          "base_uri": "https://localhost:8080/"
        },
        "id": "e-pzLJEtzPdl",
        "outputId": "3a3f05ab-7060-4ed9-ac1a-02451342046b"
      },
      "outputs": [
        {
          "output_type": "stream",
          "name": "stdout",
          "text": [
            "[1, 2, 3, 4, 5, 6]\n",
            "7\n"
          ]
        }
      ],
      "source": [
        "contagem = [1, 2, 3, 4, 5, 6]\n",
        "contador = 1\n",
        "for n in contagem:\n",
        "    contador += 1\n",
        "\n",
        "print(contagem)\n",
        "print(contador)"
      ]
    },
    {
      "cell_type": "code",
      "execution_count": null,
      "metadata": {
        "colab": {
          "base_uri": "https://localhost:8080/"
        },
        "id": "SlWjjBGozPdl",
        "outputId": "19a8cc00-4ebc-4e67-b912-d962d802b400"
      },
      "outputs": [
        {
          "output_type": "stream",
          "name": "stdout",
          "text": [
            "1\n",
            "2\n",
            "3\n",
            "4\n",
            "5\n",
            "6\n",
            "7\n",
            "8\n",
            "9\n",
            "10\n"
          ]
        }
      ],
      "source": [
        "def conta_ate(valor_maximo):\n",
        "    contador = 1\n",
        "    while contador <= valor_maximo:\n",
        "        yield contador\n",
        "        contador += 1\n",
        "\n",
        "for n in conta_ate(10):\n",
        "    print(n)"
      ]
    },
    {
      "cell_type": "code",
      "execution_count": null,
      "metadata": {
        "colab": {
          "base_uri": "https://localhost:8080/"
        },
        "id": "aZNqML6izPdl",
        "outputId": "9782eed8-004d-4bef-ea36-98750a8d3559"
      },
      "outputs": [
        {
          "output_type": "stream",
          "name": "stdout",
          "text": [
            "1\n",
            "2\n",
            "3\n",
            "4\n",
            "5\n",
            "6\n",
            "7\n",
            "8\n",
            "9\n",
            "10\n"
          ]
        }
      ],
      "source": [
        "def conta_ate(valor_maximo):\n",
        "    c = []\n",
        "    contador = 1\n",
        "    while contador <= valor_maximo:\n",
        "        #yield contador\n",
        "        c.append(contador)\n",
        "        contador += 1\n",
        "    return c\n",
        "\n",
        "for n in conta_ate(10):\n",
        "    print(n)"
      ]
    },
    {
      "cell_type": "code",
      "source": [
        "c = conta_ate(10)\n",
        "print(c)\n"
      ],
      "metadata": {
        "id": "HmXLBBqoMHNx"
      },
      "execution_count": null,
      "outputs": []
    },
    {
      "cell_type": "markdown",
      "metadata": {
        "id": "3JUyCOjhzPdl"
      },
      "source": [
        "Gerador simples:"
      ]
    },
    {
      "cell_type": "markdown",
      "metadata": {
        "id": "zMOLmGBfzPdl"
      },
      "source": [
        "## 🙃 Voltando ao problema inicial da aula\n",
        "**Nosso problema hoje**: Como fazer um programa que lê a quantidade de alunos e de provas realizadas por aluno pelo teclado, gera uma matriz de notas, calcula a média de cada aluno e gera uma lista informando quais alunos foram aprovados ou reprovados utilizando código \"idiomático\" em Python."
      ]
    },
    {
      "cell_type": "code",
      "execution_count": 2,
      "metadata": {
        "id": "_juun2IvzPdm",
        "colab": {
          "base_uri": "https://localhost:8080/"
        },
        "outputId": "aaa6d8da-5a6e-4f47-836f-8938b96a02d3"
      },
      "outputs": [
        {
          "output_type": "stream",
          "name": "stdout",
          "text": [
            "Digite a quantidade de alunos: 2\n",
            "Digite a quantidade de provas realizadas por aluno: 2\n",
            "Digite a nota da prova 1 do aluno 1: 10\n",
            "Digite a nota da prova 2 do aluno 1: 7\n",
            "Digite a nota da prova 1 do aluno 2: 4\n",
            "Digite a nota da prova 2 do aluno 2: 6\n",
            "Aluno 1: Aprovado - Média: 8.50\n",
            "Aluno 2: Reprovado - Média: 5.00\n"
          ]
        }
      ],
      "source": [
        "def ler_dados():\n",
        "    num_alunos = int(input(\"Digite a quantidade de alunos: \"))\n",
        "    num_provas = int(input(\"Digite a quantidade de provas realizadas por aluno: \"))\n",
        "    return num_alunos, num_provas\n",
        "\n",
        "def gerar_matriz_notas(num_alunos, num_provas):\n",
        "    matriz_notas = []\n",
        "    for i in range(num_alunos):\n",
        "        notas = []\n",
        "        for j in range(num_provas):\n",
        "            nota = float(input(f\"Digite a nota da prova {j+1} do aluno {i+1}: \"))\n",
        "            notas.append(nota)\n",
        "        matriz_notas.append(notas)\n",
        "    return matriz_notas\n",
        "\n",
        "def calcular_media_alunos(matriz_notas):\n",
        "    return [sum(notas) / len(notas) for notas in matriz_notas]\n",
        "\n",
        "def verificar_aprovacao(medias, media_minima=7.0):\n",
        "    return [\"Aprovado\" if media >= media_minima else \"Reprovado\" for media in medias]\n",
        "\n",
        "def main():\n",
        "    num_alunos, num_provas = ler_dados()\n",
        "    matriz_notas = gerar_matriz_notas(num_alunos, num_provas)\n",
        "    medias = calcular_media_alunos(matriz_notas)\n",
        "    status_alunos = verificar_aprovacao(medias)\n",
        "\n",
        "    for i, status in enumerate(status_alunos):\n",
        "        print(f\"Aluno {i+1}: {status} - Média: {medias[i]:.2f}\")\n",
        "\n",
        "if __name__ == \"__main__\":\n",
        "    main()"
      ]
    },
    {
      "cell_type": "code",
      "execution_count": 1,
      "metadata": {
        "id": "CWWfbbQgzPdm",
        "colab": {
          "base_uri": "https://localhost:8080/"
        },
        "outputId": "bb065c69-33f1-4ca6-9d7e-b3b990dbac92"
      },
      "outputs": [
        {
          "output_type": "stream",
          "name": "stdout",
          "text": [
            "Digite a quantidade de alunos: 2\n",
            "Digite a quantidade de provas realizadas por aluno: 2\n",
            "Digite a nota da prova 1 do aluno 1: 10\n",
            "Digite a nota da prova 2 do aluno 1: 7\n",
            "Digite a nota da prova 1 do aluno 2: 4\n",
            "Digite a nota da prova 2 do aluno 2: 6\n",
            "Aluno 1: Aprovado - Média: 8.50\n",
            "Aluno 2: Reprovado - Média: 5.00\n"
          ]
        }
      ],
      "source": [
        "#codigo sem utilizar o if __name__\n",
        "def ler_dados():\n",
        "    num_alunos = int(input(\"Digite a quantidade de alunos: \"))\n",
        "    num_provas = int(input(\"Digite a quantidade de provas realizadas por aluno: \"))\n",
        "    return num_alunos, num_provas\n",
        "\n",
        "def gerar_matriz_notas(num_alunos, num_provas):\n",
        "    matriz_notas = []\n",
        "    for i in range(num_alunos):\n",
        "        notas = []\n",
        "        for j in range(num_provas):\n",
        "            nota = float(input(f\"Digite a nota da prova {j+1} do aluno {i+1}: \"))\n",
        "            notas.append(nota)\n",
        "        matriz_notas.append(notas)\n",
        "    return matriz_notas\n",
        "\n",
        "def calcular_media_alunos(matriz_notas):\n",
        "    return [sum(notas) / len(notas) for notas in matriz_notas]\n",
        "\n",
        "def verificar_aprovacao(medias, media_minima=7.0):\n",
        "    return [\"Aprovado\" if media >= media_minima else \"Reprovado\" for media in medias]\n",
        "\n",
        "num_alunos, num_provas = ler_dados()\n",
        "matriz_notas = gerar_matriz_notas(num_alunos, num_provas)\n",
        "medias = calcular_media_alunos(matriz_notas)\n",
        "status_alunos = verificar_aprovacao(medias)\n",
        "\n",
        "for i, status in enumerate(status_alunos):\n",
        "    print(f\"Aluno {i+1}: {status} - Média: {medias[i]:.2f}\")\n"
      ]
    },
    {
      "cell_type": "code",
      "execution_count": null,
      "metadata": {
        "id": "xVLfrlrpzPdm"
      },
      "outputs": [],
      "source": []
    },
    {
      "cell_type": "code",
      "execution_count": null,
      "metadata": {
        "id": "hC6ovljFzPdm"
      },
      "outputs": [],
      "source": []
    }
  ],
  "metadata": {
    "kernelspec": {
      "display_name": "Python 3",
      "language": "python",
      "name": "python3"
    },
    "language_info": {
      "codemirror_mode": {
        "name": "ipython",
        "version": 3
      },
      "file_extension": ".py",
      "mimetype": "text/x-python",
      "name": "python",
      "nbconvert_exporter": "python",
      "pygments_lexer": "ipython3",
      "version": "3.11.2"
    },
    "colab": {
      "provenance": [],
      "include_colab_link": true
    }
  },
  "nbformat": 4,
  "nbformat_minor": 0
}