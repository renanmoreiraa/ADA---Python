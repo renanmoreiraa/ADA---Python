{
  "cells": [
    {
      "cell_type": "markdown",
      "metadata": {
        "id": "view-in-github",
        "colab_type": "text"
      },
      "source": [
        "<a href=\"https://colab.research.google.com/github/renanmoreiraa/ADA---Python/blob/master/Aula_1_Coding_Tank.ipynb\" target=\"_parent\"><img src=\"https://colab.research.google.com/assets/colab-badge.svg\" alt=\"Open In Colab\"/></a>"
      ]
    },
    {
      "cell_type": "markdown",
      "id": "423e117e",
      "metadata": {
        "id": "423e117e"
      },
      "source": [
        "<div style=\"background-color: black; padding: 18px;\">\n",
        "    <h1> Coding Tank | Vem Ser Tech\n",
        "</div>"
      ]
    },
    {
      "cell_type": "markdown",
      "id": "2bd0fc7d",
      "metadata": {
        "id": "2bd0fc7d"
      },
      "source": [
        "<div style=\"background-color: black; padding: 10px;\">\n",
        "    <h2> Tópicos da aula - AULA 1\n",
        "</div>\n",
        "\n",
        "- Variáveis\n",
        "- Tipos básicos\n",
        "- Entradas/Saídas\n",
        "- Operadores aritméticos, atribuição e comparação"
      ]
    },
    {
      "cell_type": "markdown",
      "id": "b8600ec3",
      "metadata": {
        "id": "b8600ec3"
      },
      "source": [
        "# Introdução\n",
        "\n",
        "Vamos explorar como o jupyter notebook funciona, botões, comandos e tipos de célula"
      ]
    },
    {
      "cell_type": "markdown",
      "id": "fa313866",
      "metadata": {
        "id": "fa313866"
      },
      "source": [
        "Markdown"
      ]
    },
    {
      "cell_type": "code",
      "execution_count": null,
      "id": "9463f580",
      "metadata": {
        "colab": {
          "base_uri": "https://localhost:8080/"
        },
        "id": "9463f580",
        "outputId": "ef1ad556-41db-4921-9ad7-2446c862be24"
      },
      "outputs": [
        {
          "output_type": "execute_result",
          "data": {
            "text/plain": [
              "5"
            ]
          },
          "metadata": {},
          "execution_count": 1
        }
      ],
      "source": [
        "2+3"
      ]
    },
    {
      "cell_type": "code",
      "execution_count": null,
      "id": "241b511d",
      "metadata": {
        "colab": {
          "base_uri": "https://localhost:8080/"
        },
        "id": "241b511d",
        "outputId": "93a94651-fc1c-41b9-cecb-0a86c359cddd"
      },
      "outputs": [
        {
          "output_type": "execute_result",
          "data": {
            "text/plain": [
              "3"
            ]
          },
          "metadata": {},
          "execution_count": 2
        }
      ],
      "source": [
        "5-2"
      ]
    },
    {
      "cell_type": "code",
      "execution_count": null,
      "id": "9326204d",
      "metadata": {
        "colab": {
          "base_uri": "https://localhost:8080/"
        },
        "id": "9326204d",
        "outputId": "2662b07a-4ec4-4b55-c658-24fe59d67e00"
      },
      "outputs": [
        {
          "output_type": "execute_result",
          "data": {
            "text/plain": [
              "7.5"
            ]
          },
          "metadata": {},
          "execution_count": 3
        }
      ],
      "source": [
        "15/2"
      ]
    },
    {
      "cell_type": "code",
      "execution_count": null,
      "id": "213c2d0a",
      "metadata": {
        "colab": {
          "base_uri": "https://localhost:8080/"
        },
        "id": "213c2d0a",
        "outputId": "93f9386c-fd57-42f3-b8ee-238f0f77c61b"
      },
      "outputs": [
        {
          "output_type": "execute_result",
          "data": {
            "text/plain": [
              "7"
            ]
          },
          "metadata": {},
          "execution_count": 4
        }
      ],
      "source": [
        "15//2"
      ]
    },
    {
      "cell_type": "code",
      "execution_count": null,
      "id": "fa52c5b3",
      "metadata": {
        "colab": {
          "base_uri": "https://localhost:8080/"
        },
        "id": "fa52c5b3",
        "outputId": "3521158d-dbc5-4ad1-990f-013200e5c2eb"
      },
      "outputs": [
        {
          "output_type": "execute_result",
          "data": {
            "text/plain": [
              "1"
            ]
          },
          "metadata": {},
          "execution_count": 5
        }
      ],
      "source": [
        "15 % 2"
      ]
    },
    {
      "cell_type": "code",
      "execution_count": null,
      "id": "be77b7b6",
      "metadata": {
        "colab": {
          "base_uri": "https://localhost:8080/"
        },
        "id": "be77b7b6",
        "outputId": "5a551482-f06e-4687-8109-a8a13883c64e"
      },
      "outputs": [
        {
          "output_type": "execute_result",
          "data": {
            "text/plain": [
              "225"
            ]
          },
          "metadata": {},
          "execution_count": 6
        }
      ],
      "source": [
        "15**2"
      ]
    },
    {
      "cell_type": "code",
      "execution_count": null,
      "id": "ba116bad",
      "metadata": {
        "id": "ba116bad"
      },
      "outputs": [],
      "source": []
    },
    {
      "cell_type": "code",
      "execution_count": null,
      "id": "2e30b6d1",
      "metadata": {
        "id": "2e30b6d1"
      },
      "outputs": [],
      "source": []
    },
    {
      "cell_type": "code",
      "execution_count": null,
      "id": "4e004797",
      "metadata": {
        "id": "4e004797"
      },
      "outputs": [],
      "source": []
    },
    {
      "cell_type": "markdown",
      "id": "2f4c88b7",
      "metadata": {
        "id": "2f4c88b7"
      },
      "source": [
        "**Operadores Aritméticos**\n",
        "\n",
        "|     Operador    |     Nome                 |     Função                                                                       |\n",
        "|-----------------|--------------------------|----------------------------------------------------------------------------------|\n",
        "|     +           |     Adição               |     Realiza   a soma de ambos operandos.                                         |\n",
        "|     -           |     Subtração            |     Realiza   a subtração de ambos operandos.                                    |\n",
        "|     *           |     Multiplicação        |     Realiza   a multiplicação de ambos operandos.                                |\n",
        "|     /           |     Divisão              |     Realiza   a Divisão de ambos operandos.                                      |\n",
        "|     //          |     Divisão   inteira    |     Realiza   a divisão entre operandos e a parte decimal de ambos operandos.    |\n",
        "|     %           |     Módulo               |     Retorna   o resto da divisão de ambos operandos.                             |\n",
        "|     **          |     Exponenciação        |     Retorna   o resultado da elevação da potência pelo outro.                    |"
      ]
    },
    {
      "cell_type": "markdown",
      "id": "5393993e",
      "metadata": {
        "id": "5393993e"
      },
      "source": [
        "Mas como podemos armazenar esses valores?"
      ]
    },
    {
      "cell_type": "markdown",
      "id": "c3208653",
      "metadata": {
        "id": "c3208653"
      },
      "source": [
        "# Variáveis\n",
        "\n",
        "Variável é o nome dado ao tipo de conteúdo que pode apresentar diferentes valores enquanto o sistema está em execução. Tudo dependerá do comando do usuário e o tipo de operação que é realizado.\n",
        "\n",
        "Imagine que você conhece uma nova pessoa. A variável seria o lugar no seu cérebro no qual você guarda, por exemplo, o nome desta pessoa, ou seja, é alocado um espaço para armazenar esta informação e posteriormente é passado o valor referente aquele dado.\n",
        "\n",
        "`nome = \"Renata\"`\n",
        "\n",
        "## Tipos básicos\n",
        "\n",
        "Podemos ter informações relacionadas às outras pessoas como nome, idade e salário. Cada uma delas possui o que chamamos de tipos de variável. Os tipos de dados são os seguintes:"
      ]
    },
    {
      "cell_type": "code",
      "execution_count": null,
      "id": "dab98564",
      "metadata": {
        "colab": {
          "base_uri": "https://localhost:8080/"
        },
        "id": "dab98564",
        "outputId": "b67ba872-1386-4c18-dc47-071c0c7a7a97"
      },
      "outputs": [
        {
          "output_type": "execute_result",
          "data": {
            "text/plain": [
              "str"
            ]
          },
          "metadata": {},
          "execution_count": 8
        }
      ],
      "source": [
        "name = 'Renan'\n",
        "type(name)"
      ]
    },
    {
      "cell_type": "code",
      "execution_count": null,
      "id": "63bfa46a",
      "metadata": {
        "colab": {
          "base_uri": "https://localhost:8080/",
          "height": 35
        },
        "id": "63bfa46a",
        "outputId": "0f31595e-b78f-436f-e40f-c795401d40af"
      },
      "outputs": [
        {
          "output_type": "execute_result",
          "data": {
            "text/plain": [
              "'Renan'"
            ],
            "application/vnd.google.colaboratory.intrinsic+json": {
              "type": "string"
            }
          },
          "metadata": {},
          "execution_count": 9
        }
      ],
      "source": [
        "name\n"
      ]
    },
    {
      "cell_type": "code",
      "execution_count": null,
      "id": "0ce06f61",
      "metadata": {
        "colab": {
          "base_uri": "https://localhost:8080/"
        },
        "id": "0ce06f61",
        "outputId": "abd03d06-e21f-408e-fa28-e6ebda282c88"
      },
      "outputs": [
        {
          "output_type": "execute_result",
          "data": {
            "text/plain": [
              "int"
            ]
          },
          "metadata": {},
          "execution_count": 25
        }
      ],
      "source": [
        "idade = 21\n",
        "type(idade)"
      ]
    },
    {
      "cell_type": "code",
      "execution_count": null,
      "id": "04ad08d4",
      "metadata": {
        "colab": {
          "base_uri": "https://localhost:8080/"
        },
        "id": "04ad08d4",
        "outputId": "61aefa14-b75b-49c0-fde5-878e775adaf7"
      },
      "outputs": [
        {
          "output_type": "execute_result",
          "data": {
            "text/plain": [
              "21.5"
            ]
          },
          "metadata": {},
          "execution_count": 13
        }
      ],
      "source": [
        "idade"
      ]
    },
    {
      "cell_type": "code",
      "execution_count": null,
      "id": "9309e7f3",
      "metadata": {
        "colab": {
          "base_uri": "https://localhost:8080/"
        },
        "id": "9309e7f3",
        "outputId": "897492bc-a38d-420c-9d0f-46aa818c0573"
      },
      "outputs": [
        {
          "output_type": "execute_result",
          "data": {
            "text/plain": [
              "bool"
            ]
          },
          "metadata": {},
          "execution_count": 16
        }
      ],
      "source": [
        "certificado = True\n",
        "type(certificado)"
      ]
    },
    {
      "cell_type": "code",
      "execution_count": null,
      "id": "b45f1b53",
      "metadata": {
        "colab": {
          "base_uri": "https://localhost:8080/"
        },
        "id": "b45f1b53",
        "outputId": "2633d4fc-f2c1-4011-dc23-2b1252076a43"
      },
      "outputs": [
        {
          "output_type": "execute_result",
          "data": {
            "text/plain": [
              "True"
            ]
          },
          "metadata": {},
          "execution_count": 17
        }
      ],
      "source": [
        "certificado"
      ]
    },
    {
      "cell_type": "code",
      "execution_count": null,
      "id": "15812d79",
      "metadata": {
        "id": "15812d79"
      },
      "outputs": [],
      "source": [
        "certificado: bool = True"
      ]
    },
    {
      "cell_type": "code",
      "execution_count": null,
      "id": "6639df36",
      "metadata": {
        "colab": {
          "base_uri": "https://localhost:8080/"
        },
        "id": "6639df36",
        "outputId": "036dff22-6899-46e2-f730-eeb4272dfe3c"
      },
      "outputs": [
        {
          "output_type": "execute_result",
          "data": {
            "text/plain": [
              "True"
            ]
          },
          "metadata": {},
          "execution_count": 19
        }
      ],
      "source": [
        "certificado"
      ]
    },
    {
      "cell_type": "code",
      "execution_count": null,
      "id": "932ee297",
      "metadata": {
        "id": "932ee297"
      },
      "outputs": [],
      "source": []
    },
    {
      "cell_type": "markdown",
      "id": "945f06b6",
      "metadata": {
        "id": "945f06b6"
      },
      "source": [
        "Idade é diferente de idade"
      ]
    },
    {
      "cell_type": "markdown",
      "id": "ae10d9dc",
      "metadata": {
        "id": "ae10d9dc"
      },
      "source": [
        "# Entradas\n",
        "\n",
        "Para solicitarmos entradas de informações a serem fornecidas pelo usuário podemos utilizar a função input. Com ela você poderá (opcional) passar uma mensagem instrutiva ao usuário do que deseja que ele insira.  \n",
        "No exemplo abaixo utilizaremos o input."
      ]
    },
    {
      "cell_type": "code",
      "execution_count": null,
      "id": "f62524ea",
      "metadata": {
        "colab": {
          "base_uri": "https://localhost:8080/",
          "height": 53
        },
        "id": "f62524ea",
        "outputId": "b92edf3e-223b-4b40-b646-595d1fbe0b6a"
      },
      "outputs": [
        {
          "name": "stdout",
          "output_type": "stream",
          "text": [
            "hello world\n"
          ]
        },
        {
          "output_type": "execute_result",
          "data": {
            "text/plain": [
              "'hello world'"
            ],
            "application/vnd.google.colaboratory.intrinsic+json": {
              "type": "string"
            }
          },
          "metadata": {},
          "execution_count": 20
        }
      ],
      "source": [
        "input()"
      ]
    },
    {
      "cell_type": "markdown",
      "id": "a9be572a",
      "metadata": {
        "id": "a9be572a"
      },
      "source": [
        "**Intuição**  \n",
        "Veja que ele funciona, porém sem uma mensagem de qual informação é solicitada não é possível identificar o que se deve passar ao programa."
      ]
    },
    {
      "cell_type": "code",
      "execution_count": null,
      "id": "f974c3df",
      "metadata": {
        "colab": {
          "base_uri": "https://localhost:8080/",
          "height": 53
        },
        "id": "f974c3df",
        "outputId": "f23ea046-c463-4e38-cc06-8631b3541c38"
      },
      "outputs": [
        {
          "name": "stdout",
          "output_type": "stream",
          "text": [
            "insira a sua idade: 21\n"
          ]
        },
        {
          "output_type": "execute_result",
          "data": {
            "text/plain": [
              "'21'"
            ],
            "application/vnd.google.colaboratory.intrinsic+json": {
              "type": "string"
            }
          },
          "metadata": {},
          "execution_count": 22
        }
      ],
      "source": [
        "input('insira a sua idade: ')"
      ]
    },
    {
      "cell_type": "markdown",
      "id": "8dec4efe",
      "metadata": {
        "id": "8dec4efe"
      },
      "source": [
        "**Variável**  \n",
        "Podemos guardar o valor passado pelo usuário numa variável"
      ]
    },
    {
      "cell_type": "code",
      "execution_count": null,
      "id": "5b1a0065",
      "metadata": {
        "colab": {
          "base_uri": "https://localhost:8080/",
          "height": 53
        },
        "id": "5b1a0065",
        "outputId": "f681a683-5de2-45d2-877e-94875c4592c8"
      },
      "outputs": [
        {
          "name": "stdout",
          "output_type": "stream",
          "text": [
            "insira a sua idade:21\n"
          ]
        },
        {
          "output_type": "execute_result",
          "data": {
            "text/plain": [
              "'21'"
            ],
            "application/vnd.google.colaboratory.intrinsic+json": {
              "type": "string"
            }
          },
          "metadata": {},
          "execution_count": 29
        }
      ],
      "source": [
        "idade = input('insira a sua idade:')\n",
        "idade"
      ]
    },
    {
      "cell_type": "markdown",
      "id": "1e00f439",
      "metadata": {
        "id": "1e00f439"
      },
      "source": [
        "Repare nas aspas que saem quando utilizamos apenas a função input. Isso quer dizer que este valor capturado pelo programa é uma string, independente do que o usuário insira."
      ]
    },
    {
      "cell_type": "code",
      "execution_count": null,
      "id": "7f15c937",
      "metadata": {
        "id": "7f15c937"
      },
      "outputs": [],
      "source": []
    },
    {
      "cell_type": "markdown",
      "id": "a0007819",
      "metadata": {
        "id": "a0007819"
      },
      "source": [
        "**Convertendo o tipo de dado**\n",
        "\n",
        "Neste caso é interessante que a idade seja um número, visto que em geral o utilizamos para realizar contas, por exemplo. Para converter este valor para um inteiro, podemos fazer da seguinte forma:"
      ]
    },
    {
      "cell_type": "code",
      "execution_count": null,
      "id": "3abfbb24",
      "metadata": {
        "colab": {
          "base_uri": "https://localhost:8080/"
        },
        "id": "3abfbb24",
        "outputId": "8b104951-70ae-4866-c018-24acab4cbcdb"
      },
      "outputs": [
        {
          "output_type": "execute_result",
          "data": {
            "text/plain": [
              "int"
            ]
          },
          "metadata": {},
          "execution_count": 33
        }
      ],
      "source": [
        "idade = int(idade)\n",
        "type(idade)"
      ]
    },
    {
      "cell_type": "code",
      "execution_count": null,
      "id": "b2d05721",
      "metadata": {
        "colab": {
          "base_uri": "https://localhost:8080/"
        },
        "id": "b2d05721",
        "outputId": "3c1217da-fa05-44d9-d3a2-dd460046291e"
      },
      "outputs": [
        {
          "output_type": "execute_result",
          "data": {
            "text/plain": [
              "21.0"
            ]
          },
          "metadata": {},
          "execution_count": 34
        }
      ],
      "source": [
        "float(idade)"
      ]
    },
    {
      "cell_type": "code",
      "execution_count": null,
      "id": "cdd2d645",
      "metadata": {
        "colab": {
          "base_uri": "https://localhost:8080/",
          "height": 35
        },
        "id": "cdd2d645",
        "outputId": "6c991122-de44-4cc6-d03b-33dc66c1293f"
      },
      "outputs": [
        {
          "output_type": "execute_result",
          "data": {
            "text/plain": [
              "'21.0'"
            ],
            "application/vnd.google.colaboratory.intrinsic+json": {
              "type": "string"
            }
          },
          "metadata": {},
          "execution_count": 35
        }
      ],
      "source": [
        "str(float(idade))"
      ]
    },
    {
      "cell_type": "code",
      "execution_count": null,
      "id": "e717563c",
      "metadata": {
        "id": "e717563c"
      },
      "outputs": [],
      "source": []
    },
    {
      "cell_type": "code",
      "execution_count": null,
      "id": "3caa3d85",
      "metadata": {
        "id": "3caa3d85"
      },
      "outputs": [],
      "source": []
    },
    {
      "cell_type": "code",
      "execution_count": null,
      "id": "82f17db5",
      "metadata": {
        "id": "82f17db5"
      },
      "outputs": [],
      "source": []
    },
    {
      "cell_type": "markdown",
      "id": "295fd764",
      "metadata": {
        "id": "295fd764"
      },
      "source": [
        "E para simplificar ainda mais é comum que já realizemos a conversão da variável logo na chamada do input."
      ]
    },
    {
      "cell_type": "code",
      "execution_count": null,
      "id": "a71c320f",
      "metadata": {
        "colab": {
          "base_uri": "https://localhost:8080/"
        },
        "id": "a71c320f",
        "outputId": "990a9904-a5a6-46a9-c467-224aff399a71"
      },
      "outputs": [
        {
          "name": "stdout",
          "output_type": "stream",
          "text": [
            "insira a sua idade: 21\n"
          ]
        }
      ],
      "source": [
        "idade = int(input('insira a sua idade: '))"
      ]
    },
    {
      "cell_type": "code",
      "execution_count": null,
      "id": "73266b5a",
      "metadata": {
        "colab": {
          "base_uri": "https://localhost:8080/"
        },
        "id": "73266b5a",
        "outputId": "b1094fd8-a836-4029-fec0-1d419254d8a7"
      },
      "outputs": [
        {
          "output_type": "execute_result",
          "data": {
            "text/plain": [
              "int"
            ]
          },
          "metadata": {},
          "execution_count": 38
        }
      ],
      "source": [
        "type(idade)"
      ]
    },
    {
      "cell_type": "markdown",
      "id": "fa2168c4",
      "metadata": {
        "id": "fa2168c4"
      },
      "source": [
        "## Saídas\n",
        "\n",
        "Em diversas situações desejamos imprimir na tela o resultado de alguma operação que realizamos ou simplesmente emitirmos uma mensagem, para estas situações utilizamos o `print`."
      ]
    },
    {
      "cell_type": "code",
      "execution_count": null,
      "id": "8ae62362",
      "metadata": {
        "colab": {
          "base_uri": "https://localhost:8080/"
        },
        "id": "8ae62362",
        "outputId": "a6be3f3c-554c-40b2-d08f-256da69e3f31"
      },
      "outputs": [
        {
          "output_type": "stream",
          "name": "stdout",
          "text": [
            "Hello World \n",
            "Olá Mundo\n"
          ]
        }
      ],
      "source": [
        "print(\"Hello World \\nOlá Mundo\")"
      ]
    },
    {
      "cell_type": "code",
      "execution_count": null,
      "id": "712911a2",
      "metadata": {
        "colab": {
          "base_uri": "https://localhost:8080/"
        },
        "id": "712911a2",
        "outputId": "4ec6802f-a597-47ab-808f-5a401c86317d"
      },
      "outputs": [
        {
          "output_type": "stream",
          "name": "stdout",
          "text": [
            "\tHello World\n"
          ]
        }
      ],
      "source": [
        "print(\"\\tHello World\")"
      ]
    },
    {
      "cell_type": "code",
      "execution_count": null,
      "id": "cebac0fa",
      "metadata": {
        "colab": {
          "base_uri": "https://localhost:8080/"
        },
        "id": "cebac0fa",
        "outputId": "fde07907-86fe-4b03-a73d-fa5cbadc6d6a"
      },
      "outputs": [
        {
          "output_type": "stream",
          "name": "stdout",
          "text": [
            "olá end: !\n"
          ]
        }
      ],
      "source": [
        "print(\"olá\", \"end: !\")"
      ]
    },
    {
      "cell_type": "code",
      "execution_count": null,
      "id": "b532987d",
      "metadata": {
        "id": "b532987d"
      },
      "outputs": [],
      "source": []
    },
    {
      "cell_type": "code",
      "execution_count": null,
      "id": "18506214",
      "metadata": {
        "id": "18506214"
      },
      "outputs": [],
      "source": []
    },
    {
      "cell_type": "code",
      "execution_count": null,
      "id": "495c3b18",
      "metadata": {
        "id": "495c3b18"
      },
      "outputs": [],
      "source": []
    },
    {
      "cell_type": "code",
      "execution_count": null,
      "id": "1e37b974",
      "metadata": {
        "id": "1e37b974"
      },
      "outputs": [],
      "source": []
    },
    {
      "cell_type": "code",
      "execution_count": null,
      "id": "72fe1a3d",
      "metadata": {
        "id": "72fe1a3d"
      },
      "outputs": [],
      "source": []
    },
    {
      "cell_type": "markdown",
      "id": "c575d984",
      "metadata": {
        "id": "c575d984"
      },
      "source": [
        "**Mais de um argumento**  \n",
        "Para imprimir mais de uma informação, o print permite inserir quantos argumentos forem necessários, desde que separados por vírgula. Veja o exemplo:"
      ]
    },
    {
      "cell_type": "code",
      "execution_count": null,
      "id": "2dfe08f0",
      "metadata": {
        "id": "2dfe08f0"
      },
      "outputs": [],
      "source": []
    },
    {
      "cell_type": "code",
      "execution_count": null,
      "id": "a28e8533",
      "metadata": {
        "id": "a28e8533"
      },
      "outputs": [],
      "source": []
    },
    {
      "cell_type": "markdown",
      "id": "944f604d",
      "metadata": {
        "id": "944f604d"
      },
      "source": [
        "**Print de variáveis**  \n",
        "Também é possível imprimir variáveis de forma simples, basta passar o nome dado para a variável dentro dos parênteses."
      ]
    },
    {
      "cell_type": "code",
      "execution_count": null,
      "id": "2b510478",
      "metadata": {
        "id": "2b510478"
      },
      "outputs": [],
      "source": []
    },
    {
      "cell_type": "markdown",
      "id": "ba3cfb0e",
      "metadata": {
        "id": "ba3cfb0e"
      },
      "source": [
        "E se for necessário imprimir a mensagem \"Olá, eu sou Renata Marchese\", de forma que o nome e o sobrenome sejam provenientes de variáveis nome e sobrenome"
      ]
    },
    {
      "cell_type": "code",
      "execution_count": null,
      "id": "7b142c5e",
      "metadata": {
        "id": "7b142c5e"
      },
      "outputs": [],
      "source": [
        "nome = \"Renata\"\n",
        "sobrenome = \"Marchese\"\n",
        "idade = 21"
      ]
    },
    {
      "cell_type": "code",
      "execution_count": null,
      "id": "f814dd24",
      "metadata": {
        "colab": {
          "base_uri": "https://localhost:8080/"
        },
        "id": "f814dd24",
        "outputId": "2a9f54a1-5806-4286-f813-aaedb6e0fee7"
      },
      "outputs": [
        {
          "output_type": "stream",
          "name": "stdout",
          "text": [
            "Olá, eu sou Renan Moreira e eu tenho 21 anos!"
          ]
        }
      ],
      "source": [
        "print(\"Olá, eu sou\", nome, sobrenome, \"e eu tenho\", idade, \"anos\", end=\"!\")"
      ]
    },
    {
      "cell_type": "code",
      "execution_count": null,
      "id": "09ada37a",
      "metadata": {
        "colab": {
          "base_uri": "https://localhost:8080/"
        },
        "id": "09ada37a",
        "outputId": "05c6fe69-cec2-4b4b-f209-16475848ebdd"
      },
      "outputs": [
        {
          "output_type": "stream",
          "name": "stdout",
          "text": [
            "Olá, eu sou Renan Moreira e eu tenho 21 anos\n"
          ]
        }
      ],
      "source": [
        "print(\"Olá, eu sou {} {} e eu tenho {} anos\".format(nome, sobrenome, idade))"
      ]
    },
    {
      "cell_type": "markdown",
      "id": "08b9c448",
      "metadata": {
        "id": "08b9c448"
      },
      "source": [
        "**Print com f string**  \n",
        "Outra forma de utilizarmos o print com variáveis é por meio do que chamamos de f string."
      ]
    },
    {
      "cell_type": "code",
      "execution_count": null,
      "id": "37382cff",
      "metadata": {
        "colab": {
          "base_uri": "https://localhost:8080/"
        },
        "id": "37382cff",
        "outputId": "2e5ca802-ae43-4b58-a459-e2700ac97e00"
      },
      "outputs": [
        {
          "output_type": "stream",
          "name": "stdout",
          "text": [
            "Olá, eu sou Renan Moreira e eu tenho 21 anos\n"
          ]
        }
      ],
      "source": [
        "print(f\"Olá, eu sou {nome} {sobrenome} e eu tenho {idade} anos\")"
      ]
    },
    {
      "cell_type": "markdown",
      "id": "99da0d47",
      "metadata": {
        "id": "99da0d47"
      },
      "source": [
        "**Bora praticar!**  \n",
        "Escreva um programa que receba seu nome, sua idade, hobby e escreva uma única sentença que seja, por exemplo, \"Meu nome é Renata, tenho 22 anos e meu hobby é viajar\""
      ]
    },
    {
      "cell_type": "code",
      "execution_count": null,
      "id": "c7e45e40",
      "metadata": {
        "colab": {
          "base_uri": "https://localhost:8080/"
        },
        "id": "c7e45e40",
        "outputId": "d5c8f9d4-e5a8-47c0-b5fe-c98d1ca7631b"
      },
      "outputs": [
        {
          "output_type": "stream",
          "name": "stdout",
          "text": [
            "Qual seu nome? Renan\n",
            "Qual sua idade? 21\n",
            "Qual seu hobby? jogar\n",
            "Meu nome é Renan, tenho 21 anos e meu hobby é jogar\n"
          ]
        }
      ],
      "source": [
        "nome = input(\"Qual seu nome? \")\n",
        "idade = int(input(\"Qual sua idade? \"))\n",
        "hobby = input(\"Qual seu hobby? \")\n",
        "print(f\"Meu nome é {nome}, tenho {idade} anos e meu hobby é {hobby}\")"
      ]
    },
    {
      "cell_type": "code",
      "execution_count": null,
      "id": "d93df66c",
      "metadata": {
        "colab": {
          "base_uri": "https://localhost:8080/"
        },
        "id": "d93df66c",
        "outputId": "d67123a7-5bc1-4b0b-c753-b5afc318d3e0"
      },
      "outputs": [
        {
          "output_type": "stream",
          "name": "stdout",
          "text": [
            "Meu nome é Renan Moreira, tenho 21 anos e meu hobby é jogar CS\n"
          ]
        }
      ],
      "source": []
    },
    {
      "cell_type": "markdown",
      "id": "5ffd55f4",
      "metadata": {
        "id": "5ffd55f4"
      },
      "source": [
        "# Operadores Algébricos e de Atribuição\n",
        "Rotineiramente nos deparamos com a necessidade de realizarmos cálculos, para isso utilizamos os operadores algébricos como conhecemos na matemática tradicional. Mas como usar com variáveis?"
      ]
    },
    {
      "cell_type": "code",
      "execution_count": null,
      "id": "66ec66c5",
      "metadata": {
        "colab": {
          "base_uri": "https://localhost:8080/"
        },
        "id": "66ec66c5",
        "outputId": "d67c3d9c-d806-445a-fc4d-0e7a6e92182c"
      },
      "outputs": [
        {
          "output_type": "stream",
          "name": "stdout",
          "text": [
            "25\n"
          ]
        }
      ],
      "source": [
        "valor_01 = 10\n",
        "valor_02 = 15\n",
        "print(valor_01 + valor_02)"
      ]
    },
    {
      "cell_type": "code",
      "execution_count": null,
      "id": "2de8314e",
      "metadata": {
        "colab": {
          "base_uri": "https://localhost:8080/"
        },
        "id": "2de8314e",
        "outputId": "f5692aa0-f19f-4635-d395-a99b4dc1b76c"
      },
      "outputs": [
        {
          "output_type": "stream",
          "name": "stdout",
          "text": [
            "5\n",
            "2\n",
            "7\n",
            "6\n",
            "7\n"
          ]
        }
      ],
      "source": [
        "x = 5\n",
        "y = 2\n",
        "z = x + y\n",
        "\n",
        "print(x)\n",
        "print(y)\n",
        "print(z)\n",
        "\n",
        "x = x + 1\n",
        "\n",
        "print(x)\n",
        "print(z)"
      ]
    },
    {
      "cell_type": "markdown",
      "id": "1c7dee09",
      "metadata": {
        "id": "1c7dee09"
      },
      "source": [
        "**Operadores de atribuição**\n",
        "\n",
        "|     Operador    |     Equivalente a    |\n",
        "|:---------------:|----------------------|\n",
        "|         =       |     x =   1          |\n",
        "|        +=       |     x =   x + 1      |\n",
        "|        -=       |     x =   x - 1      |\n",
        "|        *=       |     x =   x * 1      |\n",
        "|        /=       |     x =   x / 1      |\n",
        "|        %=       |     x =   x % 1      |"
      ]
    },
    {
      "cell_type": "markdown",
      "id": "e6332069",
      "metadata": {
        "id": "e6332069"
      },
      "source": [
        "**Bora praticar!**  \n",
        "Com tudo que vimos até o momento faça um programa que solicite ao usuário que insira seu ano de nascimento. Desconsiderando o mês do ano de nascimento, emita uma mensagem dizendo quantos anos ele possui."
      ]
    },
    {
      "cell_type": "code",
      "execution_count": null,
      "id": "e81365a4",
      "metadata": {
        "colab": {
          "base_uri": "https://localhost:8080/"
        },
        "id": "e81365a4",
        "outputId": "7cf79673-f045-47f6-c07e-011197bb6d71"
      },
      "outputs": [
        {
          "output_type": "stream",
          "name": "stdout",
          "text": [
            "Insira seu ano de nascimento: 1990\n",
            "Você possui 34 anos.\n"
          ]
        }
      ],
      "source": [
        "ano_de_nascimento = int(input(\"Insira seu ano de nascimento: \"))\n",
        "\n",
        "ano_atual = int(2024)\n",
        "\n",
        "idade = ano_atual - ano_de_nascimento\n",
        "\n",
        "print(f\"Você possui {idade} anos.\")"
      ]
    },
    {
      "cell_type": "markdown",
      "id": "423e0da3",
      "metadata": {
        "id": "423e0da3"
      },
      "source": [
        "## Operadores de Comparação  \n",
        "Os operadores de comparação são aqueles que possuem o objetivo de analisar os valores de uma expressão e retornar um valor booleano, ou seja, verdadeiro (1) ou falso (0).\n",
        "\n",
        "**Operadores de comparação**\n",
        "\n",
        "|     Operador    |           Nome          |     Função                                              |\n",
        "|:---------------:|:-----------------------:|---------------------------------------------------------|\n",
        "|        ==       |         Igual   a       |     Verifica   se um valor é igual ao outro             |\n",
        "|        !=       |      Diferente   de     |     Verifica   se um valor é diferente ao outro         |\n",
        "|         >       |        Maior   que      |     Verifica   se um valor é maior que outro            |\n",
        "|        >=       |     Maior   ou igual    |     Verifica   se um valor é maior ou igual ao outro    |\n",
        "|         <       |        Menor   que      |     Verifica   se um valor é menor que outro            |\n",
        "|        <=       |     Menor   ou igual    |     Verifica   se um valor é menor ou igual ao outro    |"
      ]
    },
    {
      "cell_type": "code",
      "execution_count": null,
      "id": "c04d8858",
      "metadata": {
        "colab": {
          "base_uri": "https://localhost:8080/"
        },
        "id": "c04d8858",
        "outputId": "bef12401-8164-4057-e794-c6fff41e44a5"
      },
      "outputs": [
        {
          "output_type": "stream",
          "name": "stdout",
          "text": [
            "True\n"
          ]
        }
      ],
      "source": [
        "print(3 > 2)"
      ]
    },
    {
      "cell_type": "code",
      "execution_count": null,
      "id": "da130611",
      "metadata": {
        "colab": {
          "base_uri": "https://localhost:8080/"
        },
        "id": "da130611",
        "outputId": "1c627802-2775-4954-d979-548fd0acad59"
      },
      "outputs": [
        {
          "output_type": "stream",
          "name": "stdout",
          "text": [
            "False\n"
          ]
        }
      ],
      "source": [
        "print(3 < 2)"
      ]
    },
    {
      "cell_type": "code",
      "execution_count": null,
      "id": "6b195a66",
      "metadata": {
        "colab": {
          "base_uri": "https://localhost:8080/"
        },
        "id": "6b195a66",
        "outputId": "25e91fae-2d9b-4945-963f-3e78af4404a1"
      },
      "outputs": [
        {
          "output_type": "stream",
          "name": "stdout",
          "text": [
            "False\n"
          ]
        }
      ],
      "source": [
        "print(3 == 2)"
      ]
    },
    {
      "cell_type": "code",
      "execution_count": null,
      "id": "941af887",
      "metadata": {
        "colab": {
          "base_uri": "https://localhost:8080/"
        },
        "id": "941af887",
        "outputId": "53d52a64-9e3e-4a75-a6a2-d13c9304a781"
      },
      "outputs": [
        {
          "output_type": "stream",
          "name": "stdout",
          "text": [
            "True\n"
          ]
        }
      ],
      "source": [
        "print(3 != 2)"
      ]
    },
    {
      "cell_type": "code",
      "execution_count": null,
      "id": "087160a3",
      "metadata": {
        "id": "087160a3"
      },
      "outputs": [],
      "source": []
    },
    {
      "cell_type": "markdown",
      "id": "c7e1072f",
      "metadata": {
        "id": "c7e1072f"
      },
      "source": [
        "**Bora praticar!**  \n",
        "Imagine que você está implementando um sistema para verificar se os alunos de uma turma estudantil passaram na disciplina ou não. Para isso solicite que o usuário insira as notas das 4 provas realizadas por um estudante e calcule a média. Após isso, emita uma resposta booleana (True ou False) se o estudante passou na disciplina pensando que a média mínima para aprovação é que seja pelo menos 5."
      ]
    },
    {
      "cell_type": "code",
      "execution_count": null,
      "id": "970f58f3",
      "metadata": {
        "colab": {
          "base_uri": "https://localhost:8080/"
        },
        "id": "970f58f3",
        "outputId": "37a5fa98-59fa-4bc5-ebba-09f21aec5000"
      },
      "outputs": [
        {
          "output_type": "stream",
          "name": "stdout",
          "text": [
            "Insira a primeira nota: 5\n",
            "Insira a segunda nota: 5\n",
            "Insira a terceira nota: 5\n",
            "Insira a quarta nota: 5\n",
            "5.0\n",
            "Aprovado\n"
          ]
        }
      ],
      "source": [
        "nota1 = float(input(\"Insira a primeira nota: \"))\n",
        "nota2 = float(input(\"Insira a segunda nota: \"))\n",
        "nota3 = float(input(\"Insira a terceira nota: \"))\n",
        "nota4 = float(input(\"Insira a quarta nota: \"))\n",
        "\n",
        "media = (nota1 + nota2 + nota3 + nota4) / 4\n",
        "\n",
        "print(media)\n",
        "\n",
        "if media >= 5:\n",
        "    aprovado=True\n",
        "    print(\"Aprovado\")\n",
        "else:\n",
        "    reprovado=False\n",
        "    print(\"Reprovado\")"
      ]
    },
    {
      "cell_type": "markdown",
      "id": "57b1c875",
      "metadata": {
        "id": "57b1c875"
      },
      "source": [
        "Crie um algoritmo que calcule o IMC (índice de massa corporal). O IMC é calculado com a formula PESO/(ALTURA ^ 2). Para isso, coloque as informações nas variáveis e ao final apresente o resultado como no exemplo: \"O IMC é 18\""
      ]
    },
    {
      "cell_type": "code",
      "execution_count": null,
      "id": "5f01e70b",
      "metadata": {
        "colab": {
          "base_uri": "https://localhost:8080/"
        },
        "id": "5f01e70b",
        "outputId": "b1b15fa5-18b4-454f-9440-86832e569954"
      },
      "outputs": [
        {
          "output_type": "stream",
          "name": "stdout",
          "text": [
            "Digite seu peso(kg):70\n",
            "Digite sua altura(ex: 1.80): 1.80\n",
            "O IMC é 21.60\n"
          ]
        }
      ],
      "source": [
        "peso = float(input(\"Digite seu peso(kg):\"))\n",
        "altura = float(input(\"Digite sua altura(ex: 1.80): \"))\n",
        "imc = peso / (altura ** 2)\n",
        "print(f\"O IMC é {imc:.2f}\")"
      ]
    },
    {
      "cell_type": "markdown",
      "id": "7e0e1ca3",
      "metadata": {
        "id": "7e0e1ca3"
      },
      "source": [
        "Escreva um algoritmo que calcule (x + y) * (x + y). Os valores de x e y devem ser inseridos pelo usuário"
      ]
    },
    {
      "cell_type": "code",
      "execution_count": null,
      "id": "8b5c7977",
      "metadata": {
        "colab": {
          "base_uri": "https://localhost:8080/"
        },
        "id": "8b5c7977",
        "outputId": "c4be2003-7d80-4b04-a093-9a2c34253e5c"
      },
      "outputs": [
        {
          "output_type": "stream",
          "name": "stdout",
          "text": [
            "Digite o valor de x: 2.5\n",
            "Digite o valor de y: 2.5\n",
            "25.0\n"
          ]
        }
      ],
      "source": [
        "x = float(input(\"Digite o valor de x: \"))\n",
        "y = float(input(\"Digite o valor de y: \"))\n",
        "calculo = (x + y) * (x + y)\n",
        "print(calculo)"
      ]
    },
    {
      "cell_type": "code",
      "source": [],
      "metadata": {
        "id": "DR0QbAS2B-Ok"
      },
      "id": "DR0QbAS2B-Ok",
      "execution_count": null,
      "outputs": []
    }
  ],
  "metadata": {
    "kernelspec": {
      "display_name": "Python 3 (ipykernel)",
      "language": "python",
      "name": "python3"
    },
    "language_info": {
      "codemirror_mode": {
        "name": "ipython",
        "version": 3
      },
      "file_extension": ".py",
      "mimetype": "text/x-python",
      "name": "python",
      "nbconvert_exporter": "python",
      "pygments_lexer": "ipython3",
      "version": "3.12.2"
    },
    "colab": {
      "provenance": [],
      "include_colab_link": true
    }
  },
  "nbformat": 4,
  "nbformat_minor": 5
}