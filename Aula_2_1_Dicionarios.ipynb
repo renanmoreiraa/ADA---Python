{
  "cells": [
    {
      "cell_type": "markdown",
      "metadata": {
        "id": "view-in-github",
        "colab_type": "text"
      },
      "source": [
        "<a href=\"https://colab.research.google.com/github/renanmoreiraa/ADA---Python/blob/master/Aula_2_1_Dicionarios.ipynb\" target=\"_parent\"><img src=\"https://colab.research.google.com/assets/colab-badge.svg\" alt=\"Open In Colab\"/></a>"
      ]
    },
    {
      "cell_type": "markdown",
      "metadata": {
        "id": "TOx1bWaMgL3t"
      },
      "source": [
        "# Aula 2 | Dicionários\n",
        "\n",
        "Nesta aula, vamos explorar conceitos fundamentais de dicionários: estruturas de dados que armazenam pares de chave-valor.\n",
        "\n",
        "**Nosso problema hoje**: Como fazer um sistema de cadastro utilizando uma estrutura fácil de navegar indexada por um identificador único (ex: cpf).\n",
        "\n",
        "__________"
      ]
    },
    {
      "cell_type": "markdown",
      "metadata": {
        "id": "maCIvDJpgL3u"
      },
      "source": [
        "## 1. Dicionários\n",
        "\n",
        "O dicionário também é uma **coleção de dados** que, diferente de listas e tuplas, é definido a partir de dois elementos: uma **chave** e um **valor** (ou como também chamamos, par chave-valor).\n",
        "\n",
        "- Par chave-valor: cada elemento em um dicionário é um par de chave-valor. A chave é usada para identificar unicamente o elemento, e o valor é o dado associado a essa chave.\n",
        "- Chaves únicas: cada chave deve ser única. Ao adicionar um par chave-valor onde a chave já existe, o valor antigo será substituído pelo novo.\n",
        "- Acesso sápido: são otimizados para recuperar rapidamente o valor quando a chave é conhecida.\n",
        "- Mutáveis: é possível adicionar, remover e modificar os pares chave-valor em um dicionário.\n",
        "\n",
        "São extremamente úteis para organizar dados de maneira a facilitar a busca e atualização, sendo uma das estruturas de dados mais versáteis e utilizadas em Python.\n",
        "\n",
        "**Usos comuns**: dicionários são úteis quando precisamos armazenar informações relacionadas de maneira estruturada, lidar com estruturas de dados mais complexas e também são análogos aos objetos JSON, tornando-os ideais para trabalhar com dados de APIs."
      ]
    },
    {
      "cell_type": "markdown",
      "metadata": {
        "id": "33CBx1EPgL3u"
      },
      "source": [
        "### Criando dicionários\n",
        "\n",
        "Dicionários são definidos **entre chaves {}** seguindo a estrutura:\n",
        "```dicionario = {\"chave\": valor}```\n",
        "ou com a função dict()."
      ]
    },
    {
      "cell_type": "code",
      "execution_count": null,
      "metadata": {
        "id": "kcLB7jNtgL3v",
        "outputId": "b8ddcea8-77cb-427d-c6cd-131c35654a90"
      },
      "outputs": [
        {
          "data": {
            "text/plain": [
              "dict"
            ]
          },
          "execution_count": 1,
          "metadata": {},
          "output_type": "execute_result"
        }
      ],
      "source": [
        "dict_vazio = {}\n",
        "\n",
        "type(dict_vazio)"
      ]
    },
    {
      "cell_type": "code",
      "execution_count": null,
      "metadata": {
        "id": "efW6j_Q0gL3w",
        "outputId": "f039e984-0b7f-4bd4-e126-d91b77cbfc8b"
      },
      "outputs": [
        {
          "data": {
            "text/plain": [
              "dict"
            ]
          },
          "execution_count": 2,
          "metadata": {},
          "output_type": "execute_result"
        }
      ],
      "source": [
        "dict_vazio2 = dict()\n",
        "type(dict_vazio2)"
      ]
    },
    {
      "cell_type": "code",
      "execution_count": null,
      "metadata": {
        "id": "WAntKUQfgL3w",
        "outputId": "6b26aa5b-587f-4d22-aa99-6d263680e559"
      },
      "outputs": [
        {
          "data": {
            "text/plain": [
              "{'nome': 'Nara', 'Estado': 'SP'}"
            ]
          },
          "execution_count": 3,
          "metadata": {},
          "output_type": "execute_result"
        }
      ],
      "source": [
        "dict1 = {'nome': 'Nara', 'Estado': 'SP'}\n",
        "dict1"
      ]
    },
    {
      "cell_type": "code",
      "execution_count": null,
      "metadata": {
        "id": "5QH7AcDbgL3w",
        "outputId": "a2692632-53a6-4d12-f2b3-6cfda05b3a89"
      },
      "outputs": [
        {
          "data": {
            "text/plain": [
              "{'nome': 'Nara', 'estado': 'SP'}"
            ]
          },
          "execution_count": 4,
          "metadata": {},
          "output_type": "execute_result"
        }
      ],
      "source": [
        "dict2 = dict(nome='Nara', estado='SP')\n",
        "dict2"
      ]
    },
    {
      "cell_type": "code",
      "execution_count": null,
      "metadata": {
        "id": "0to7H3jwgL3w",
        "outputId": "7e97f79b-4999-4cf5-df52-acb2a8263748"
      },
      "outputs": [
        {
          "data": {
            "text/plain": [
              "{'nome': 'Nara', 'estado': 'SP'}"
            ]
          },
          "execution_count": 5,
          "metadata": {},
          "output_type": "execute_result"
        }
      ],
      "source": [
        "dict2 = dict(nome='Nara', estado='SP')\n",
        "dict2"
      ]
    },
    {
      "cell_type": "markdown",
      "metadata": {
        "id": "hOtOZa31gL3w"
      },
      "source": [
        "Podemos também criar dicionários a partir de sequências, usando a função ```zip```.\n",
        "\n",
        "> Lembrando: A função zip() em Python é usada para *combinar elementos de duas ou mais sequências* (como listas, tuplas ou strings) em pares ou grupos de elementos. Funciona \"emparelhando\" os elementos de cada sequência, criando uma nova sequência de tuplas."
      ]
    },
    {
      "cell_type": "code",
      "execution_count": null,
      "metadata": {
        "id": "50kuMfDOgL3w",
        "outputId": "e3f76828-379c-4079-e198-1f648a2ea0f0"
      },
      "outputs": [
        {
          "data": {
            "text/plain": [
              "{'Nara': 'GO', 'Vytor': 'PE', 'Diana': 'GO'}"
            ]
          },
          "execution_count": 37,
          "metadata": {},
          "output_type": "execute_result"
        }
      ],
      "source": [
        "nomes = [\"Nara\", \"Vytor\", \"Diana\", \"Nara\", \"Nara\", \"Nara\", \"Nara\"]\n",
        "estados = [\"SP\", \"PE\", \"GO\", \"SP\", \"PE\", \"GO\"]\n",
        "\n",
        "alunos = dict(zip(nomes, estados))\n",
        "alunos"
      ]
    },
    {
      "cell_type": "code",
      "execution_count": null,
      "metadata": {
        "id": "IqKtOhSdgL3x",
        "outputId": "68daf37d-6464-4980-fe47-4be6bc6b689e"
      },
      "outputs": [
        {
          "data": {
            "text/plain": [
              "'GO'"
            ]
          },
          "execution_count": 7,
          "metadata": {},
          "output_type": "execute_result"
        }
      ],
      "source": [
        "alunos[\"Nara\"]"
      ]
    },
    {
      "cell_type": "code",
      "execution_count": null,
      "metadata": {
        "id": "mJHRA9iNgL3x",
        "outputId": "3a9e4698-3056-409d-991d-53017abf4a0c"
      },
      "outputs": [
        {
          "data": {
            "text/plain": [
              "[('Nara', 'SP'),\n",
              " ('Vytor', 'PE'),\n",
              " ('Diana', 'GO'),\n",
              " ('Nara', 'SP'),\n",
              " ('Nara', 'PE'),\n",
              " ('Nara', 'GO'),\n",
              " ('Nara', 'SC')]"
            ]
          },
          "execution_count": 42,
          "metadata": {},
          "output_type": "execute_result"
        }
      ],
      "source": [
        "chaves = [\"Nara\", \"Vytor\", \"Diana\", \"Nara\", \"Nara\", \"Nara\", \"Nara\"]\n",
        "valores = [\"SP\", \"PE\", \"GO\", \"SP\", \"PE\", \"GO\", \"SC\", \"BA\"]\n",
        "\n",
        "alunos = list(zip(chaves, valores))\n",
        "alunos"
      ]
    },
    {
      "cell_type": "code",
      "execution_count": null,
      "metadata": {
        "id": "VNlRR2tmgL3x",
        "outputId": "4fb4ddd5-f14c-4882-aba9-a1030511eb08"
      },
      "outputs": [
        {
          "data": {
            "text/plain": [
              "{'Nara': 'SC', 'Vytor': 'PE', 'Diana': 'GO'}"
            ]
          },
          "execution_count": 43,
          "metadata": {},
          "output_type": "execute_result"
        }
      ],
      "source": [
        "chaves = [\"Nara\", \"Vytor\", \"Diana\", \"Nara\", \"Nara\", \"Nara\", \"Nara\"]\n",
        "valores = [\"SP\", \"PE\", \"GO\", \"SP\", \"PE\", \"GO\", \"SC\", \"BA\"]\n",
        "\n",
        "alunos = dict(zip(chaves, valores))\n",
        "alunos"
      ]
    },
    {
      "cell_type": "code",
      "execution_count": null,
      "metadata": {
        "id": "k-QIKGRdgL3x",
        "outputId": "904f218c-2ed7-40b7-f3b0-3d3f977d3d41"
      },
      "outputs": [
        {
          "data": {
            "text/plain": [
              "'SC'"
            ]
          },
          "execution_count": 44,
          "metadata": {},
          "output_type": "execute_result"
        }
      ],
      "source": [
        "alunos['Nara']"
      ]
    },
    {
      "cell_type": "code",
      "execution_count": null,
      "metadata": {
        "id": "_zaqfJnugL3x",
        "outputId": "a672fadb-461a-4fb6-bc44-310c41bf4881"
      },
      "outputs": [
        {
          "data": {
            "text/plain": [
              "[('Nara', 'SP'), ('Vytor', 'PE'), ('Diana', 'GO')]"
            ]
          },
          "execution_count": 8,
          "metadata": {},
          "output_type": "execute_result"
        }
      ],
      "source": [
        "nomes = [\"Nara\", \"Vytor\", \"Diana\"]\n",
        "estados = [\"SP\", \"PE\", \"GO\"]\n",
        "\n",
        "alunos = list(zip(nomes, estados))\n",
        "alunos"
      ]
    },
    {
      "cell_type": "code",
      "execution_count": null,
      "metadata": {
        "id": "QibXn-56gL3y",
        "outputId": "76bbcc8d-f1bf-4a7c-f34d-893cac10d2f7"
      },
      "outputs": [
        {
          "data": {
            "text/plain": [
              "{'Nara': 'SP', 'Vytor': 'PE', 'Diana': 'GO'}"
            ]
          },
          "execution_count": 9,
          "metadata": {},
          "output_type": "execute_result"
        }
      ],
      "source": [
        "nomes = [\"Nara\", \"Vytor\", \"Diana\", \"Nara\"]\n",
        "estados = [\"SP\", \"PE\", \"GO\", \"SP\"]\n",
        "\n",
        "alunos = dict(list(zip(nomes, estados)))\n",
        "alunos"
      ]
    },
    {
      "cell_type": "code",
      "execution_count": null,
      "metadata": {
        "id": "f_Mwubs5gL3y",
        "outputId": "9d0a748b-47ae-4687-eb4a-23d48bc8c102"
      },
      "outputs": [
        {
          "data": {
            "text/plain": [
              "'PE'"
            ]
          },
          "execution_count": 10,
          "metadata": {},
          "output_type": "execute_result"
        }
      ],
      "source": [
        "alunos[\"Vytor\"]"
      ]
    },
    {
      "cell_type": "code",
      "execution_count": null,
      "metadata": {
        "id": "IEhu61JUgL3y",
        "outputId": "99cdf0e0-0f7b-4313-bcdb-ff2f4c0eb314"
      },
      "outputs": [
        {
          "data": {
            "text/plain": [
              "{'SP': 'Lauro', 'PE': 'Vytor', 'GO': 'Diana'}"
            ]
          },
          "execution_count": 11,
          "metadata": {},
          "output_type": "execute_result"
        }
      ],
      "source": [
        "nomes = [\"Nara\", \"Vytor\", \"Diana\", \"Lauro\"]\n",
        "estados = [\"SP\", \"PE\", \"GO\", \"SP\"]\n",
        "\n",
        "alunos_modificado = dict(list(zip(estados, nomes )))\n",
        "alunos_modificado"
      ]
    },
    {
      "cell_type": "code",
      "execution_count": null,
      "metadata": {
        "id": "uJrHHlhsgL3y",
        "outputId": "c3cf2053-55ca-46b3-e9c2-3a0c0323c084"
      },
      "outputs": [
        {
          "data": {
            "text/plain": [
              "'Lauro'"
            ]
          },
          "execution_count": 12,
          "metadata": {},
          "output_type": "execute_result"
        }
      ],
      "source": [
        "alunos_modificado.get(\"SP\")"
      ]
    },
    {
      "cell_type": "code",
      "execution_count": null,
      "metadata": {
        "id": "96-c49oxgL3y"
      },
      "outputs": [],
      "source": [
        "alunos_modificado.get(\"Nara\")"
      ]
    },
    {
      "cell_type": "code",
      "execution_count": null,
      "metadata": {
        "id": "NCJymHB7gL3y",
        "outputId": "08719066-96bc-4ed4-cb09-38951001d290"
      },
      "outputs": [
        {
          "ename": "KeyError",
          "evalue": "'Nara'",
          "output_type": "error",
          "traceback": [
            "\u001b[1;31m---------------------------------------------------------------------------\u001b[0m",
            "\u001b[1;31mKeyError\u001b[0m                                  Traceback (most recent call last)",
            "Cell \u001b[1;32mIn[45], line 1\u001b[0m\n\u001b[1;32m----> 1\u001b[0m \u001b[43malunos_modificado\u001b[49m\u001b[43m[\u001b[49m\u001b[38;5;124;43m\"\u001b[39;49m\u001b[38;5;124;43mNara\u001b[39;49m\u001b[38;5;124;43m\"\u001b[39;49m\u001b[43m]\u001b[49m\n",
            "\u001b[1;31mKeyError\u001b[0m: 'Nara'"
          ]
        }
      ],
      "source": [
        "alunos_modificado[\"Nara\"]"
      ]
    },
    {
      "cell_type": "markdown",
      "metadata": {
        "id": "uMw2F03-gL3y"
      },
      "source": [
        "### Consultando elementos de um dicionário\n",
        "\n",
        "Podemos acessar os valores do dicionário a partir das chaves:"
      ]
    },
    {
      "cell_type": "code",
      "execution_count": null,
      "metadata": {
        "id": "W-mjP5jDgL3z",
        "outputId": "784e0c84-625b-4711-d45a-0196f020c68d"
      },
      "outputs": [
        {
          "data": {
            "text/plain": [
              "'SP'"
            ]
          },
          "execution_count": 14,
          "metadata": {},
          "output_type": "execute_result"
        }
      ],
      "source": [
        "alunos[\"Nara\"]"
      ]
    },
    {
      "cell_type": "code",
      "execution_count": null,
      "metadata": {
        "id": "ww-X1NLCgL3z",
        "outputId": "da2b12b4-cf9e-4547-a7d4-ac3503b6276a"
      },
      "outputs": [
        {
          "ename": "KeyError",
          "evalue": "'bla'",
          "output_type": "error",
          "traceback": [
            "\u001b[1;31m---------------------------------------------------------------------------\u001b[0m",
            "\u001b[1;31mKeyError\u001b[0m                                  Traceback (most recent call last)",
            "Cell \u001b[1;32mIn[15], line 1\u001b[0m\n\u001b[1;32m----> 1\u001b[0m \u001b[43mdict1\u001b[49m\u001b[43m[\u001b[49m\u001b[38;5;124;43m\"\u001b[39;49m\u001b[38;5;124;43mbla\u001b[39;49m\u001b[38;5;124;43m\"\u001b[39;49m\u001b[43m]\u001b[49m\n",
            "\u001b[1;31mKeyError\u001b[0m: 'bla'"
          ]
        }
      ],
      "source": [
        "dict1[\"bla\"]"
      ]
    },
    {
      "cell_type": "markdown",
      "metadata": {
        "id": "Mi38RdYsgL3z"
      },
      "source": [
        "Ou usando o método get():"
      ]
    },
    {
      "cell_type": "code",
      "execution_count": null,
      "metadata": {
        "id": "v5irRHxRgL3z",
        "outputId": "6d64aee4-2243-468d-8b3d-edeec9c90463"
      },
      "outputs": [
        {
          "data": {
            "text/plain": [
              "'Nara'"
            ]
          },
          "execution_count": 16,
          "metadata": {},
          "output_type": "execute_result"
        }
      ],
      "source": [
        "dict1.get(\"nome\")"
      ]
    },
    {
      "cell_type": "code",
      "execution_count": null,
      "metadata": {
        "id": "WzprK9drgL3z",
        "outputId": "19efb153-b744-4904-ddf4-c54531149c37"
      },
      "outputs": [
        {
          "data": {
            "text/plain": [
              "'SP'"
            ]
          },
          "execution_count": 17,
          "metadata": {},
          "output_type": "execute_result"
        }
      ],
      "source": [
        "dict1.get(\"Estado\")"
      ]
    },
    {
      "cell_type": "markdown",
      "metadata": {
        "id": "O1sg9YHAgL3z"
      },
      "source": [
        "Se usarmos o get() com uma chave que não existe:"
      ]
    },
    {
      "cell_type": "code",
      "execution_count": null,
      "metadata": {
        "id": "VP8kDn_SgL3z"
      },
      "outputs": [],
      "source": [
        "dict1.get(\"telefone\")"
      ]
    },
    {
      "cell_type": "markdown",
      "metadata": {
        "id": "I8MpontbgL3z"
      },
      "source": [
        "Poderíamos configurar um valor padrão caso a chave não exista:"
      ]
    },
    {
      "cell_type": "code",
      "execution_count": null,
      "metadata": {
        "id": "FXx8HEu2gL30",
        "outputId": "fd4aadd5-65b8-4b45-d147-b56ca01b9b8f"
      },
      "outputs": [
        {
          "data": {
            "text/plain": [
              "'Número não informado!'"
            ]
          },
          "execution_count": 19,
          "metadata": {},
          "output_type": "execute_result"
        }
      ],
      "source": [
        "dict1.get(\"telefone\", \"Número não informado!\")"
      ]
    },
    {
      "cell_type": "markdown",
      "metadata": {
        "id": "9KyfDhtAgL30"
      },
      "source": [
        "Podemos verificar se um dicionário contém uma chave usando o `in`:"
      ]
    },
    {
      "cell_type": "code",
      "execution_count": null,
      "metadata": {
        "id": "DRsv3DYzgL30",
        "outputId": "c6befa8e-aa85-4380-eb4b-ff498fed5d17"
      },
      "outputs": [
        {
          "data": {
            "text/plain": [
              "False"
            ]
          },
          "execution_count": 20,
          "metadata": {},
          "output_type": "execute_result"
        }
      ],
      "source": [
        "'telefone' in dict1"
      ]
    },
    {
      "cell_type": "code",
      "execution_count": null,
      "metadata": {
        "id": "27aYkuLXgL30",
        "outputId": "cca8fbc2-af14-4813-e198-e04e401c274e"
      },
      "outputs": [
        {
          "data": {
            "text/plain": [
              "True"
            ]
          },
          "execution_count": 21,
          "metadata": {},
          "output_type": "execute_result"
        }
      ],
      "source": [
        "'nome' in dict1"
      ]
    },
    {
      "cell_type": "code",
      "execution_count": null,
      "metadata": {
        "id": "C5FV2NBYgL30",
        "outputId": "81ae02ce-e374-4ea5-bc2f-943196cc7dcd"
      },
      "outputs": [
        {
          "data": {
            "text/plain": [
              "{'nome': 'Nara', 'Estado': 'SP'}"
            ]
          },
          "execution_count": 22,
          "metadata": {},
          "output_type": "execute_result"
        }
      ],
      "source": [
        "dict1"
      ]
    },
    {
      "cell_type": "code",
      "execution_count": null,
      "metadata": {
        "id": "xMytpFElgL30",
        "outputId": "38f855fc-3fd6-4c7c-faec-f6dc254c947a"
      },
      "outputs": [
        {
          "data": {
            "text/plain": [
              "dict_keys(['nome', 'Estado'])"
            ]
          },
          "execution_count": 23,
          "metadata": {},
          "output_type": "execute_result"
        }
      ],
      "source": [
        "dict1.keys()"
      ]
    },
    {
      "cell_type": "code",
      "execution_count": null,
      "metadata": {
        "id": "cD819dJ_gL31",
        "outputId": "266f81aa-589f-4d66-8801-ee31a1ff41b2"
      },
      "outputs": [
        {
          "data": {
            "text/plain": [
              "dict_values(['Nara', 'SP'])"
            ]
          },
          "execution_count": 24,
          "metadata": {},
          "output_type": "execute_result"
        }
      ],
      "source": [
        "dict1.values()"
      ]
    },
    {
      "cell_type": "code",
      "execution_count": null,
      "metadata": {
        "id": "e4l4tzCygL31",
        "outputId": "05a64ad3-7ba8-4256-ca35-c621ef88c401"
      },
      "outputs": [
        {
          "data": {
            "text/plain": [
              "dict_items([('nome', 'Nara'), ('Estado', 'SP')])"
            ]
          },
          "execution_count": 25,
          "metadata": {},
          "output_type": "execute_result"
        }
      ],
      "source": [
        "dict1.items()"
      ]
    },
    {
      "cell_type": "markdown",
      "metadata": {
        "id": "iEr-hS7AgL31"
      },
      "source": [
        "### Adicionando e removendo elementos\n",
        "\n",
        "Alterações nos dicionários para inserção ou remoção de valores podem ser feitas de algumas formas:"
      ]
    },
    {
      "cell_type": "markdown",
      "metadata": {
        "id": "jpAso2fTgL31"
      },
      "source": [
        "Atribuição direta: para adicionar um novo par chave-valor, atribua um valor a uma nova chave usando colchetes []."
      ]
    },
    {
      "cell_type": "code",
      "execution_count": null,
      "metadata": {
        "id": "Eze6QB06gL31",
        "outputId": "39f7de4e-629b-4dea-e411-cf8b1be2c323"
      },
      "outputs": [
        {
          "data": {
            "text/plain": [
              "{'nome': 'Nara', 'Estado': 'SP', 'cpf': '12345566'}"
            ]
          },
          "execution_count": 26,
          "metadata": {},
          "output_type": "execute_result"
        }
      ],
      "source": [
        "dict1['cpf'] = '12345566'\n",
        "dict1"
      ]
    },
    {
      "cell_type": "markdown",
      "metadata": {
        "id": "iPCjXcSIgL31"
      },
      "source": [
        "Método update(): permite adicionar múltiplos pares chave-valor de uma só vez, ou atualizar o valor de chaves existentes"
      ]
    },
    {
      "cell_type": "code",
      "execution_count": null,
      "metadata": {
        "id": "4aTHIDtGgL31",
        "outputId": "09c828d8-5a08-413a-b398-148f62388658"
      },
      "outputs": [
        {
          "data": {
            "text/plain": [
              "{'nome': 'Nara',\n",
              " 'Estado': 'SP',\n",
              " 'cpf': '12345566',\n",
              " 'dt_nascimento': '08/02/2024',\n",
              " 'rg': '3212334321'}"
            ]
          },
          "execution_count": 27,
          "metadata": {},
          "output_type": "execute_result"
        }
      ],
      "source": [
        "dict1.update({'dt_nascimento': '08/02/2024', 'rg': '3212334321'})\n",
        "dict1"
      ]
    },
    {
      "cell_type": "code",
      "execution_count": null,
      "metadata": {
        "id": "kbThbljQgL31"
      },
      "outputs": [],
      "source": []
    },
    {
      "cell_type": "markdown",
      "metadata": {
        "id": "OsofT2IagL31"
      },
      "source": [
        "Método pop(): remove a chave especificada e retorna o valor associado. Se a chave não existir, um erro é gerado, a menos que um valor padrão seja fornecido."
      ]
    },
    {
      "cell_type": "code",
      "execution_count": null,
      "metadata": {
        "id": "dWsBxHpWgL31",
        "outputId": "18af805e-2369-45c4-b4db-7425d0fc7859"
      },
      "outputs": [
        {
          "name": "stdout",
          "output_type": "stream",
          "text": [
            "3212334321\n",
            "{'nome': 'Nara', 'Estado': 'SP', 'cpf': '12345566', 'dt_nascimento': '08/02/2024'}\n"
          ]
        }
      ],
      "source": [
        "valor_removido = dict1.pop('rg')\n",
        "print(valor_removido)\n",
        "\n",
        "print(dict1)"
      ]
    },
    {
      "cell_type": "code",
      "execution_count": null,
      "metadata": {
        "id": "TAeW86t9gL32",
        "outputId": "11a37ce3-3e92-44b7-ccd3-840d13b4a67a"
      },
      "outputs": [
        {
          "name": "stdout",
          "output_type": "stream",
          "text": [
            "12345566\n",
            "{'nome': 'Nara', 'Estado': 'SP', 'dt_nascimento': '08/02/2024'}\n"
          ]
        }
      ],
      "source": [
        "valor_removido = dict1.pop('cpf')\n",
        "print(valor_removido)\n",
        "\n",
        "print(dict1)"
      ]
    },
    {
      "cell_type": "markdown",
      "metadata": {
        "id": "zdMeYs5cgL32"
      },
      "source": [
        "Operação del: remove um par chave-valor usando a chave. Se a chave não existir, um erro é gerado."
      ]
    },
    {
      "cell_type": "code",
      "execution_count": null,
      "metadata": {
        "id": "4VfToHPSgL32",
        "outputId": "578d0c01-3b41-43bc-af48-e7654e3717cc"
      },
      "outputs": [
        {
          "name": "stdout",
          "output_type": "stream",
          "text": [
            "{'nome': 'Nara', 'dt_nascimento': '08/02/2024'}\n"
          ]
        }
      ],
      "source": [
        "del dict1['Estado']\n",
        "print(dict1)"
      ]
    },
    {
      "cell_type": "code",
      "execution_count": null,
      "metadata": {
        "id": "447e0VwHgL32",
        "outputId": "379f6838-9568-4f0b-c56f-82dd2369670d"
      },
      "outputs": [
        {
          "name": "stdout",
          "output_type": "stream",
          "text": [
            "{'nome': 'Nara'}\n"
          ]
        }
      ],
      "source": [
        "del dict1['dt_nascimento']\n",
        "print(dict1)"
      ]
    },
    {
      "cell_type": "code",
      "execution_count": null,
      "metadata": {
        "id": "PBU4kbVOgL32",
        "outputId": "61fca1b3-04a4-4a98-a41f-46a5d8362063"
      },
      "outputs": [
        {
          "name": "stdout",
          "output_type": "stream",
          "text": [
            "{}\n"
          ]
        }
      ],
      "source": [
        "del dict1['nome']\n",
        "print(dict1)"
      ]
    },
    {
      "cell_type": "markdown",
      "metadata": {
        "id": "EByocPp8gL32"
      },
      "source": [
        "### Iterando um dicionário\n",
        "\n",
        "Percorrer os elementos de um dicionário em Python pode ser feito de várias maneiras, dependendo se precisamos das chaves, valores ou de ambos."
      ]
    },
    {
      "cell_type": "markdown",
      "metadata": {
        "id": "-bUEzoB7gL32"
      },
      "source": [
        "Iterar **apenas sobre as chaves**: por padrão, quando você itera sobre um dicionário, você está iterando sobre suas chaves."
      ]
    },
    {
      "cell_type": "code",
      "execution_count": null,
      "metadata": {
        "id": "5f8Dz2pNgL32",
        "outputId": "8383ac01-6efd-41d8-833d-b45c8a076c5f"
      },
      "outputs": [
        {
          "name": "stdout",
          "output_type": "stream",
          "text": [
            "{'nome': 'Nara', 'estado': 'SP'}\n",
            "nome\n",
            "estado\n"
          ]
        }
      ],
      "source": [
        "print(dict2)\n",
        "\n",
        "for chave in dict2:\n",
        "    print(chave)"
      ]
    },
    {
      "cell_type": "markdown",
      "metadata": {
        "id": "Tfeqm_X0gL33"
      },
      "source": [
        "Iterar **sobre os valores**: usamos o método values()."
      ]
    },
    {
      "cell_type": "code",
      "execution_count": null,
      "metadata": {
        "id": "i3bidhbpgL33",
        "outputId": "4f9863ec-9e08-4ac7-b9d9-4ed1cf10c586"
      },
      "outputs": [
        {
          "name": "stdout",
          "output_type": "stream",
          "text": [
            "{'nome': 'Nara', 'estado': 'SP'}\n",
            "Nara\n",
            "SP\n"
          ]
        }
      ],
      "source": [
        "print(dict2)\n",
        "\n",
        "for chave in dict2.values():\n",
        "    print(chave)"
      ]
    },
    {
      "cell_type": "markdown",
      "metadata": {
        "id": "skl8m2QUgL33"
      },
      "source": [
        "Iterar **sobre chaves e valores**: para iterar sobre ambos, chaves e valores, use o método items(). Isso retorna cada item como uma tupla (chave, valor)."
      ]
    },
    {
      "cell_type": "code",
      "execution_count": null,
      "metadata": {
        "id": "d2nOtvE-gL33",
        "outputId": "1389771f-87c3-492e-b335-c3a76c89143e"
      },
      "outputs": [
        {
          "name": "stdout",
          "output_type": "stream",
          "text": [
            "{'nome': 'Nara', 'estado': 'SP'}\n",
            "chave: nome, valor: Nara\n",
            "chave: estado, valor: SP\n"
          ]
        }
      ],
      "source": [
        "print(dict2)\n",
        "\n",
        "for chave, valor in dict2.items():\n",
        "    print(f\"chave: {chave}, valor: {valor}\")"
      ]
    },
    {
      "cell_type": "markdown",
      "metadata": {
        "id": "qsGcMQmpgL33"
      },
      "source": [
        "🤔 E se eu quiser trazer também o índice ao percorrer os elementos do dicionário?\n",
        "\n",
        "> Iterar com **controle de índice**: se precisarmos de um índice durante a iteração, podemos usar a função enumerate()."
      ]
    },
    {
      "cell_type": "code",
      "execution_count": null,
      "metadata": {
        "id": "RcUaOAUdgL33",
        "outputId": "5ec1d94a-7582-4421-e493-3a0af5d17578"
      },
      "outputs": [
        {
          "name": "stdout",
          "output_type": "stream",
          "text": [
            "{'nome': 'Nara', 'estado': 'SP'}\n",
            "indice:0, chave: nome, valor: Nara\n",
            "indice:1, chave: estado, valor: SP\n"
          ]
        }
      ],
      "source": [
        "print(dict2)\n",
        "\n",
        "for i, (chave, valor) in enumerate(dict2.items()):\n",
        "    print(f\"indice:{i}, chave: {chave}, valor: {valor}\")"
      ]
    },
    {
      "cell_type": "markdown",
      "metadata": {
        "id": "kada4-pqgL33"
      },
      "source": [
        "### Combinando outras estruturas no dicionário\n",
        "\n",
        "O conteúdo de um dicionário pode ter outras estruturas de dados, inclusive o próprio dicionário.\n",
        "\n",
        "Exemplo: Suponha que queremos criar um dicionário que agrupe números em diferentes categorias, como \"pares\" e \"ímpares\". Podemos resolver assim:"
      ]
    },
    {
      "cell_type": "code",
      "execution_count": null,
      "metadata": {
        "id": "Rzb-WcPqgL33",
        "outputId": "1475ff8d-f8ef-4a45-ca7a-476c24c8b2c7"
      },
      "outputs": [
        {
          "data": {
            "text/plain": [
              "{'pares': [], 'impares': []}"
            ]
          },
          "execution_count": 46,
          "metadata": {},
          "output_type": "execute_result"
        }
      ],
      "source": [
        "dicionario_numero = {'pares': [], 'impares':[]}\n",
        "dicionario_numero"
      ]
    },
    {
      "cell_type": "code",
      "execution_count": null,
      "metadata": {
        "id": "_XI7UOHlgL33",
        "outputId": "0b7176e5-f9ec-494c-cf53-43bc73da2ab4"
      },
      "outputs": [
        {
          "name": "stdout",
          "output_type": "stream",
          "text": [
            "{'pares': [0, 2, 4, 6, 8, 10, 12, 14, 16, 18, 20, 22, 24, 26, 28, 30, 32, 34, 36, 38, 40, 42, 44, 46, 48], 'impares': [1, 3, 5, 7, 9, 11, 13, 15, 17, 19, 21, 23, 25, 27, 29, 31, 33, 35, 37, 39, 41, 43, 45, 47, 49]}\n"
          ]
        }
      ],
      "source": [
        "for i in range(50):\n",
        "    if i % 2 == 0:\n",
        "        dicionario_numero['pares'].append(i)\n",
        "    else:\n",
        "        dicionario_numero['impares'].append(i)\n",
        "\n",
        "print(dicionario_numero)"
      ]
    },
    {
      "cell_type": "markdown",
      "metadata": {
        "id": "GO40651agL34"
      },
      "source": [
        "Dentro de cada lista, poderíamos realizar as operações que são pertinentes às listas."
      ]
    },
    {
      "cell_type": "code",
      "execution_count": null,
      "metadata": {
        "id": "xBtB-5VjgL34",
        "outputId": "02889f35-9037-4695-90df-0b5c5709cd1b"
      },
      "outputs": [
        {
          "data": {
            "text/plain": [
              "[1,\n",
              " 3,\n",
              " 5,\n",
              " 7,\n",
              " 9,\n",
              " 11,\n",
              " 13,\n",
              " 15,\n",
              " 17,\n",
              " 19,\n",
              " 21,\n",
              " 23,\n",
              " 25,\n",
              " 27,\n",
              " 29,\n",
              " 31,\n",
              " 33,\n",
              " 35,\n",
              " 37,\n",
              " 39,\n",
              " 41,\n",
              " 43,\n",
              " 45,\n",
              " 47,\n",
              " 49]"
            ]
          },
          "execution_count": 52,
          "metadata": {},
          "output_type": "execute_result"
        }
      ],
      "source": [
        "dicionario_numero.get('impares')"
      ]
    },
    {
      "cell_type": "code",
      "execution_count": null,
      "metadata": {
        "id": "ANLNE82sgL34",
        "outputId": "08549393-5d73-42ae-be00-408b1f337863"
      },
      "outputs": [
        {
          "data": {
            "text/plain": [
              "[0,\n",
              " 2,\n",
              " 4,\n",
              " 6,\n",
              " 8,\n",
              " 10,\n",
              " 12,\n",
              " 14,\n",
              " 16,\n",
              " 18,\n",
              " 20,\n",
              " 24,\n",
              " 26,\n",
              " 28,\n",
              " 30,\n",
              " 32,\n",
              " 34,\n",
              " 36,\n",
              " 38,\n",
              " 40,\n",
              " 42,\n",
              " 44,\n",
              " 46,\n",
              " 48,\n",
              " 22]"
            ]
          },
          "execution_count": 56,
          "metadata": {},
          "output_type": "execute_result"
        }
      ],
      "source": [
        "dicionario_numero.get('pares')"
      ]
    },
    {
      "cell_type": "code",
      "execution_count": null,
      "metadata": {
        "id": "QQbHm8gcgL34",
        "outputId": "f2964519-537f-4e16-df18-0a2601788b47"
      },
      "outputs": [
        {
          "data": {
            "text/plain": [
              "22"
            ]
          },
          "execution_count": 53,
          "metadata": {},
          "output_type": "execute_result"
        }
      ],
      "source": [
        "dicionario_numero.get('pares').pop(11)"
      ]
    },
    {
      "cell_type": "code",
      "execution_count": null,
      "metadata": {
        "id": "X1aTl05egL34"
      },
      "outputs": [],
      "source": [
        "dicionario_numero['pares'].append(22)"
      ]
    },
    {
      "cell_type": "code",
      "execution_count": null,
      "metadata": {
        "id": "39VMgW5DgL34"
      },
      "outputs": [],
      "source": []
    },
    {
      "cell_type": "markdown",
      "metadata": {
        "id": "oMjalc76gL34"
      },
      "source": [
        "### 👩‍💻 Mão na massa"
      ]
    },
    {
      "cell_type": "markdown",
      "metadata": {
        "id": "aBOfnh-ugL34"
      },
      "source": [
        "#### Desafio 1\n",
        "\n",
        "Considere que temos um dicionário de tamanho N.\n",
        "\n",
        "Com os nomes sendo as chaves e as notas sendo os valores\n",
        "\n",
        "```\n",
        "{'Alex': [10, 5, 3],\n",
        " 'Maria': [5, 7, 6.5],\n",
        " ...}\n",
        "```\n",
        "Escreva um programa que pegue esse dicionário e retorne um novo dicionário com as chaves sendo os nomes dos estudantes e os valores a média de suas notas:\n",
        "\n",
        "```\n",
        "{'Alex': 6.0,\n",
        " 'Maria': 6.16\n",
        " ...\n",
        "```\n"
      ]
    },
    {
      "cell_type": "code",
      "source": [
        "alunos_notas = {\"Alex\": [10, 5, 3], \"Maria\": [5, 7, 6.5]}\n",
        "resultado = {}\n",
        "for alunos, notas in alunos_notas.items():\n",
        "  resultado[alunos] = sum(notas) / len(notas)\n",
        "\n",
        "print(resultado)"
      ],
      "metadata": {
        "id": "qG7-1S5-iKK4"
      },
      "execution_count": null,
      "outputs": []
    },
    {
      "cell_type": "code",
      "execution_count": null,
      "metadata": {
        "id": "_lI_QaedgL34",
        "outputId": "42496969-7298-4ddd-bf0d-002242a945c1"
      },
      "outputs": [
        {
          "name": "stdout",
          "output_type": "stream",
          "text": [
            "{'Nara': 'SC', 'Vytor': 'PE', 'Diana': 'GO'}\n",
            "{'Daiana': 7.333333333333333, 'Vytor': 7.0, 'Diogo': 8.0}\n"
          ]
        }
      ],
      "source": [
        "alunos_notas = {\n",
        "    'Daiana': [10, 7, 5],\n",
        "    'Vytor': [7, 9, 5],\n",
        "    'Diogo': [5, 9, 10]\n",
        "}\n",
        "\n",
        "resultado = {}\n",
        "\n",
        "for chave, valor in alunos_notas.items():\n",
        "    resultado[chave] = sum(valor)/len(valor)\n",
        "\n",
        "print(alunos)\n",
        "print(resultado)"
      ]
    },
    {
      "cell_type": "markdown",
      "metadata": {
        "id": "WeiHaiAhgL34"
      },
      "source": [
        "#### Desafio 2\n",
        "\n",
        "Escreva um programa que aceite um inteiro (k) e retorne um dicionário em que a chave é um inteiro de 1 até o valor (k) e os valores são o fatorial desses (1!, 2!, ..., k!).\n",
        "\n",
        "Por exemplo:  \n",
        "> Entrada k=1\n",
        "```\n",
        "{1: 1}\n",
        "```\n",
        "\n",
        "> Entrada k=2\n",
        "```\n",
        "{1: 1,\n",
        " 2: 2}\n",
        "```\n",
        "\n",
        "> Entrada k=5\n",
        "```\n",
        "{1: 1,\n",
        " 2: 2,\n",
        " 3: 6,\n",
        " 4: 24,\n",
        " 5: 120}\n",
        "```"
      ]
    },
    {
      "cell_type": "code",
      "execution_count": null,
      "metadata": {
        "id": "BAwDtt4kgL35",
        "outputId": "60b38354-b1bd-4db6-ada0-4af2e49a0f46"
      },
      "outputs": [
        {
          "data": {
            "text/plain": [
              "{1: 1,\n",
              " 2: 2,\n",
              " 3: 6,\n",
              " 4: 24,\n",
              " 5: 120,\n",
              " 6: 720,\n",
              " 7: 5040,\n",
              " 8: 40320,\n",
              " 9: 362880,\n",
              " 10: 3628800}"
            ]
          },
          "execution_count": 59,
          "metadata": {},
          "output_type": "execute_result"
        }
      ],
      "source": [
        "k = 10\n",
        "\n",
        "dict_fatorial = {}\n",
        "\n",
        "for i in range(1, k+1):\n",
        "    if i == 1:\n",
        "        dict_fatorial[i] = 1\n",
        "    else:\n",
        "        dict_fatorial[i] = dict_fatorial[i-1] *  i\n",
        "\n",
        "dict_fatorial"
      ]
    },
    {
      "cell_type": "markdown",
      "metadata": {
        "id": "wbzh7Y3TgL35"
      },
      "source": [
        "#### Desafio 3\n",
        "\n",
        "Considere uma lista de palavras qualquer, exemplo:\n",
        "\n",
        "```palavras = ['abacaxi', 'maçã', 'mamão', 'abacate', 'kiwi', 'laranja', 'limão']```\n",
        "\n",
        "Classifique essa lista de acordo com as primeiras letras, como um dicionário de listas nesse formato:\n",
        "\n",
        "```\n",
        "{'a': ['abacaxi', 'abacate'],\n",
        " 'k': ['kiwi'],\n",
        " 'l': ['laranja', 'limao'],\n",
        " 'm': ['maçã', 'mamão']\n",
        "}\n",
        "```"
      ]
    },
    {
      "cell_type": "code",
      "execution_count": null,
      "metadata": {
        "id": "9uPgwSBdgL35",
        "outputId": "6b2791d7-d26f-4f96-ae11-7f1d17e928a8"
      },
      "outputs": [
        {
          "data": {
            "text/plain": [
              "{'a': ['abacaxi', 'abacate'],\n",
              " 'm': ['maçã', 'mamão'],\n",
              " 'k': ['kiwi'],\n",
              " 'l': ['laranja', 'limão']}"
            ]
          },
          "execution_count": 60,
          "metadata": {},
          "output_type": "execute_result"
        }
      ],
      "source": [
        "palavras = ['abacaxi', 'maçã', 'mamão', 'abacate', 'kiwi', 'laranja', 'limão']\n",
        "\n",
        "indice = {}\n",
        "\n",
        "for p in palavras:\n",
        "    letra_inicial = p[0]\n",
        "    if letra_inicial not in indice:\n",
        "        indice[letra_inicial] = [p]\n",
        "    else:\n",
        "        indice[letra_inicial].append(p)\n",
        "\n",
        "indice"
      ]
    },
    {
      "cell_type": "markdown",
      "metadata": {
        "id": "4iNZXpMGgL37"
      },
      "source": [
        "## 🙃 Voltando ao problema inicial da aula\n",
        "**Nosso problema hoje**: Como fazer um sistema de cadastro utilizando uma estrutura fácil de navegar indexada por um identificador único (ex: cpf)."
      ]
    },
    {
      "cell_type": "code",
      "execution_count": null,
      "metadata": {
        "id": "L1fQPaaPgL37",
        "outputId": "8227a98d-6350-4f46-d5d8-f276688b8e03"
      },
      "outputs": [
        {
          "data": {
            "text/plain": [
              "{'123': {'nome': 'Eduardo', 'idade': '29', 'estado': 'RS'},\n",
              " 'Mauro': {'nome': 'Mauro', 'idade': '26', 'estado': 'MG'}}"
            ]
          },
          "execution_count": 63,
          "metadata": {},
          "output_type": "execute_result"
        }
      ],
      "source": [
        "cadastro = {}\n",
        "\n",
        "while True:\n",
        "    cpf = input(\"Digite o CPF (ou deixe em branco para encerrar): \")\n",
        "    if cpf.strip() == \"\":\n",
        "        break\n",
        "\n",
        "    nome = input(\"Digite o nome: \")\n",
        "    idade = input(\"Digite a idade: \")\n",
        "    estado = input(\"Digite o estado: \")\n",
        "\n",
        "    cadastro[cpf] = {\n",
        "        \"nome\": nome,\n",
        "        \"idade\": idade,\n",
        "        \"estado\": estado\n",
        "    }\n",
        "cadastro"
      ]
    },
    {
      "cell_type": "code",
      "execution_count": null,
      "metadata": {
        "id": "UTD0WfcKgL37",
        "outputId": "181450f0-0204-4e62-ef2d-b3b3e6b60e64"
      },
      "outputs": [
        {
          "name": "stdout",
          "output_type": "stream",
          "text": [
            "chave: {'nome': 'Eduardo', 'idade': '29', 'estado': 'RS'}\n",
            "chave: {'nome': 'Mauro', 'idade': '26', 'estado': 'MG'}\n"
          ]
        }
      ],
      "source": [
        "for chave in cadastro.values():\n",
        "    print(f\"chave: {chave}\")"
      ]
    },
    {
      "cell_type": "code",
      "execution_count": null,
      "metadata": {
        "id": "QkzYyCj7gL38",
        "outputId": "ee6bd3d5-7f33-4fe4-d715-ab241ebfe22c"
      },
      "outputs": [
        {
          "name": "stdout",
          "output_type": "stream",
          "text": [
            "CPF: 123, idade: 29, estado: RS, rg: Não informado!\n",
            "CPF: Mauro, idade: 26, estado: MG, rg: Não informado!\n"
          ]
        }
      ],
      "source": [
        "for cpf, valor in cadastro.items():\n",
        "    print(f\"CPF: {cpf}, idade: {valor['idade']}, estado: {valor['estado']}, rg: {valor.get('rg', \"Não informado!\")}\")"
      ]
    },
    {
      "cell_type": "code",
      "execution_count": null,
      "metadata": {
        "id": "6vYJAkqbgL38"
      },
      "outputs": [],
      "source": []
    }
  ],
  "metadata": {
    "kernelspec": {
      "display_name": "Python 3",
      "language": "python",
      "name": "python3"
    },
    "language_info": {
      "codemirror_mode": {
        "name": "ipython",
        "version": 3
      },
      "file_extension": ".py",
      "mimetype": "text/x-python",
      "name": "python",
      "nbconvert_exporter": "python",
      "pygments_lexer": "ipython3",
      "version": "3.12.2"
    },
    "colab": {
      "provenance": [],
      "include_colab_link": true
    }
  },
  "nbformat": 4,
  "nbformat_minor": 0
}