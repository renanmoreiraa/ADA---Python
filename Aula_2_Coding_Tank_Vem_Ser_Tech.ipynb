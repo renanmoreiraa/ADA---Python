{
  "cells": [
    {
      "cell_type": "markdown",
      "metadata": {
        "id": "view-in-github",
        "colab_type": "text"
      },
      "source": [
        "<a href=\"https://colab.research.google.com/github/renanmoreiraa/ADA---Python/blob/master/Aula_2_Coding_Tank_Vem_Ser_Tech.ipynb\" target=\"_parent\"><img src=\"https://colab.research.google.com/assets/colab-badge.svg\" alt=\"Open In Colab\"/></a>"
      ]
    },
    {
      "cell_type": "markdown",
      "id": "bd275093",
      "metadata": {
        "id": "bd275093"
      },
      "source": [
        "<div style=\"background-color: black; padding: 18px;\">\n",
        "    <h1> Coding Tank | Vem Ser Tech\n",
        "</div>"
      ]
    },
    {
      "cell_type": "markdown",
      "id": "cf23d9e5",
      "metadata": {
        "id": "cf23d9e5"
      },
      "source": [
        "<div style=\"background-color: black; padding: 10px;\">\n",
        "    <h2> Tópicos da aula - AULA 2\n",
        "</div>\n",
        "\n",
        "- Operador lógico\n",
        "- Estrutura condicional e controle de fluxo\n",
        "- Comando if\n",
        "- Comando else\n",
        "- Comando elif\n",
        "- Funções de string (introdutório) - opcional\n",
        "\n"
      ]
    },
    {
      "cell_type": "markdown",
      "id": "643dc92b",
      "metadata": {
        "id": "643dc92b"
      },
      "source": [
        "Imagine que o critério de aprovação em uma escola seja a média superior a 7.0 e presença superior a 75%. Neste caso, o aluno precisa atender a ambos os critérios para ser aprovado. Se ele tirou uma ótima nota, mas faltou demais, será reprovado. Se ele compareceu a todas as aulas, mas teve notas baixas, idem.\n"
      ]
    },
    {
      "cell_type": "code",
      "execution_count": null,
      "id": "66ebea14",
      "metadata": {
        "colab": {
          "base_uri": "https://localhost:8080/"
        },
        "id": "66ebea14",
        "outputId": "36ef991f-a0bb-403c-fe97-2ff3717f7ea2"
      },
      "outputs": [
        {
          "name": "stdout",
          "output_type": "stream",
          "text": [
            "Digite a média do aluno: 7\n",
            "Digite a presença do aluno: 1\n",
            "O aluno foi aprovado?  True\n"
          ]
        }
      ],
      "source": [
        "media = float(input(\"Digite a média do aluno: \"))\n",
        "presenca = float(input(\"Digite a presença do aluno: \"))\n",
        "\n",
        "print(\"O aluno foi aprovado? \", media >= 7.0 and presenca >= 0.75)"
      ]
    },
    {
      "cell_type": "code",
      "execution_count": null,
      "id": "b9f7c2fe",
      "metadata": {
        "colab": {
          "base_uri": "https://localhost:8080/"
        },
        "id": "b9f7c2fe",
        "outputId": "9692b16d-e39a-4f89-f2c9-796897e95c4a"
      },
      "outputs": [
        {
          "data": {
            "text/plain": [
              "1.0"
            ]
          },
          "execution_count": 5,
          "metadata": {},
          "output_type": "execute_result"
        }
      ],
      "source": [
        "presenca"
      ]
    },
    {
      "cell_type": "markdown",
      "id": "3b8a9808",
      "metadata": {
        "id": "3b8a9808"
      },
      "source": [
        "**Operadores lógicos**\n",
        "\n",
        "|     Operador    |                            Definição                           |     Operação    |\n",
        "|:---------------:|:--------------------------------------------------------------:|:---------------:|\n",
        "|        and      |     Retorna   True se ambas as afirmações forem verdadeiras    |         e       |\n",
        "|        or       |       Retorna   True se uma das afirmações for verdadeira      |        ou       |\n",
        "|        not      |          retorna   Falso se o resultado for verdadeiro         |        não      |\n",
        "\n",
        "\n",
        "**AND** é uma conjunção lógica e o **OR** é uma disjunção lógica. O **not** é a negação lógica.\n",
        "\n",
        "| *A*   | *B*   | *A and B* | *A or B* | *not A* |\n",
        "|-------|-------|-----------|----------|---------|\n",
        "| False | False | False     | False    | True    |\n",
        "| False | True  | False     | True     | True    |\n",
        "| True  | False | False     | True     | False   |\n",
        "| True  | True  | True      | True     | False   |\n",
        "\n",
        "\n",
        "Será que conseguimos escrever o problema acima de uma forma mais fácil?\n",
        "\n",
        "## Estrutura condicional\n",
        "\n",
        "- if\n",
        "\n",
        "Obs.: Python é uma linguagem indentada"
      ]
    },
    {
      "cell_type": "code",
      "execution_count": null,
      "id": "9070e790",
      "metadata": {
        "colab": {
          "base_uri": "https://localhost:8080/"
        },
        "id": "9070e790",
        "outputId": "3db41551-44ca-4013-996d-98afd995a17f"
      },
      "outputs": [
        {
          "name": "stdout",
          "output_type": "stream",
          "text": [
            "Digite nota 1: 7\n",
            "Digite nota 2: 8\n",
            "Aprovado\n",
            "A média é 7.5\n"
          ]
        }
      ],
      "source": [
        "nota1 = float(input(\"Digite nota 1: \"))\n",
        "nota2 = float(input(\"Digite nota 2: \"))\n",
        "media = (nota1 + nota2) / 2\n",
        "\n",
        "if media >= 7:\n",
        "    print(\"Aprovado\")\n",
        "    print(f\"A média é {media}\")"
      ]
    },
    {
      "cell_type": "markdown",
      "id": "21328f19",
      "metadata": {
        "id": "21328f19"
      },
      "source": [
        "Está faltando alguma coisa"
      ]
    },
    {
      "cell_type": "code",
      "execution_count": null,
      "id": "7375b6a2",
      "metadata": {
        "id": "7375b6a2"
      },
      "outputs": [],
      "source": [
        "nota1 = float(input(\"Digite nota 1: \"))\n",
        "nota2 = float(input(\"Digite nota 2: \"))\n",
        "media = (nota1 + nota2) / 2\n",
        "\n",
        "if media >= 7:\n",
        "    print(\"Aprovado\")\n",
        "\n",
        "if media < 7:\n",
        "    print(\"Reprovado\")\n",
        "\n",
        "    print(f\"A média é {media}\")"
      ]
    },
    {
      "cell_type": "markdown",
      "id": "223d6399",
      "metadata": {
        "id": "223d6399"
      },
      "source": [
        "- else"
      ]
    },
    {
      "cell_type": "code",
      "execution_count": null,
      "id": "92cef6ca",
      "metadata": {
        "id": "92cef6ca"
      },
      "outputs": [],
      "source": [
        "nota1 = float(input(\"Digite nota 1: \"))\n",
        "nota2 = float(input(\"Digite nota 2: \"))\n",
        "media = (nota1 + nota2) / 2\n",
        "\n",
        "if media >= 7:\n",
        "    print(\"Aprovado\")\n",
        "else:\n",
        "    print(\"Reprovado\")\n",
        "\n",
        "print(f\"A média é {media}\")"
      ]
    },
    {
      "cell_type": "markdown",
      "id": "36c4da02",
      "metadata": {
        "id": "36c4da02"
      },
      "source": [
        "Vamos acrescentar a presença para a aprovação do aluno"
      ]
    },
    {
      "cell_type": "code",
      "execution_count": null,
      "id": "8fc754ec",
      "metadata": {
        "colab": {
          "base_uri": "https://localhost:8080/"
        },
        "id": "8fc754ec",
        "outputId": "6a6b8f63-76f0-4c1b-b741-ce5fee735bb8"
      },
      "outputs": [
        {
          "name": "stdout",
          "output_type": "stream",
          "text": [
            "Digite nota 1: 10\n",
            "Digite nota 2: 10\n",
            "Digite a presença do aluno: 0.75\n",
            "\n",
            "Aprovado\n",
            "\n",
            "A média é 10.0\n",
            "A presença é 0.75\n"
          ]
        }
      ],
      "source": [
        "nota1 = float(input(\"Digite nota 1: \"))\n",
        "nota2 = float(input(\"Digite nota 2: \"))\n",
        "presenca = float(input(\"Digite a presença do aluno: \"))\n",
        "media = (nota1 + nota2) / 2\n",
        "\n",
        "if media >= 7:\n",
        "    print(\"\\nAprovado\\n\")\n",
        "else:\n",
        "    print(\"\\nReprovado\\n\")\n",
        "\n",
        "print(f\"A média é {media}\\nA presença é {presenca*100}%\")"
      ]
    },
    {
      "cell_type": "markdown",
      "id": "9df03ba0",
      "metadata": {
        "id": "9df03ba0"
      },
      "source": [
        "A estrutura é essa (por enquanto):\n",
        "\n",
        "```python\n",
        "if (condicao): # condição\n",
        "    to do  # só executa se a condição for verdadeira\n",
        "else:\n",
        "    to do\n",
        "```  \n",
        "\n",
        "\n",
        "\n",
        "\n",
        "\n",
        "Vamos incluir a recuperação nesse exemplo (para facilitar, vamos deixar de lado a presença). O aluno tem direito a recuperação se a média é maior que 5.\n",
        "\n",
        "- se media for maior ou igual a 7: aprovado\n",
        "- se a media for maior ou igual a 5 e menor que 7: recuperacao\n",
        "- se a media for menor que 5: reprovado"
      ]
    },
    {
      "cell_type": "code",
      "execution_count": null,
      "id": "334fd649",
      "metadata": {
        "colab": {
          "base_uri": "https://localhost:8080/"
        },
        "id": "334fd649",
        "outputId": "cb02303a-af0f-49bc-b5d1-d359506e1787"
      },
      "outputs": [
        {
          "name": "stdout",
          "output_type": "stream",
          "text": [
            "Digite nota 1: 5\n",
            "Digite nota 2: 6\n",
            "Recuperação\n"
          ]
        }
      ],
      "source": [
        "nota1 = float(input(\"Digite nota 1: \"))\n",
        "nota2 = float(input(\"Digite nota 2: \"))\n",
        "\n",
        "media = (nota1 + nota2) / 2\n",
        "\n",
        "if media >= 7:\n",
        "    print(\"Aprovado\")\n",
        "if media >= 5 and media < 7:\n",
        "    print(\"Recuperação\")\n",
        "if media < 5:\n",
        "    print(\"Reprovado\")"
      ]
    },
    {
      "cell_type": "markdown",
      "id": "b9e9e46f",
      "metadata": {
        "id": "b9e9e46f"
      },
      "source": [
        "- elif"
      ]
    },
    {
      "cell_type": "code",
      "execution_count": null,
      "id": "2d84dbe3",
      "metadata": {
        "id": "2d84dbe3"
      },
      "outputs": [],
      "source": [
        "nota1 = float(input(\"Digite nota 1: \"))\n",
        "nota2 = float(input(\"Digite nota 2: \"))\n",
        "\n",
        "media = (nota1 + nota2) / 2\n",
        "\n",
        "if media >= 7:\n",
        "    print(\"Aprovado\")\n",
        "elif media >= 5:\n",
        "    print(\"Recuperação\")\n",
        "else:\n",
        "    print(\"Reprovado\")"
      ]
    },
    {
      "cell_type": "code",
      "execution_count": null,
      "id": "d22c248e",
      "metadata": {
        "id": "d22c248e"
      },
      "outputs": [],
      "source": []
    },
    {
      "cell_type": "code",
      "execution_count": null,
      "id": "5225a4e0",
      "metadata": {
        "id": "5225a4e0"
      },
      "outputs": [],
      "source": []
    },
    {
      "cell_type": "markdown",
      "id": "1441f388",
      "metadata": {
        "id": "1441f388"
      },
      "source": [
        "![image.png](attachment:image.png)"
      ]
    },
    {
      "cell_type": "markdown",
      "id": "0471ee21",
      "metadata": {
        "id": "0471ee21"
      },
      "source": [
        "## Saiba mais\n",
        "**Funções de strings (só uma introdução para facilitar em alguns exercícios)**\n",
        "\n",
        "Temos algumas funções prontas para alterar a capitalização das letras. Uma delas é a função upper, que transforma todas as letras da string original em maiúsculas:"
      ]
    },
    {
      "cell_type": "code",
      "execution_count": null,
      "id": "e24c3d9f",
      "metadata": {
        "colab": {
          "base_uri": "https://localhost:8080/"
        },
        "id": "e24c3d9f",
        "outputId": "737b9ebd-0589-471a-eaea-8f5fc940fdb3"
      },
      "outputs": [
        {
          "name": "stdout",
          "output_type": "stream",
          "text": [
            "VAMOS PROGRAMAR\n"
          ]
        }
      ],
      "source": [
        "frase = \"vamos PrOgraMar\"\n",
        "maiuscula = frase.upper()\n",
        "print(maiuscula)"
      ]
    },
    {
      "cell_type": "markdown",
      "id": "234041d6",
      "metadata": {
        "id": "234041d6"
      },
      "source": [
        "Analogamente, temos a função lower para transformar todas as letras em minúsculas:"
      ]
    },
    {
      "cell_type": "code",
      "execution_count": null,
      "id": "c1ab913c",
      "metadata": {
        "colab": {
          "base_uri": "https://localhost:8080/"
        },
        "id": "c1ab913c",
        "outputId": "a1ae92e0-178d-4cc0-9988-610877aa080b"
      },
      "outputs": [
        {
          "name": "stdout",
          "output_type": "stream",
          "text": [
            "vamos programar\n"
          ]
        }
      ],
      "source": [
        "frase = \"vamos PrOgraMar\"\n",
        "maiuscula = frase.lower()\n",
        "print(maiuscula)"
      ]
    },
    {
      "cell_type": "markdown",
      "id": "7b3e877e",
      "metadata": {
        "id": "7b3e877e"
      },
      "source": [
        "Também é possível formatar a string inteira como um nome próprio: primeira letra de cada palavra maiúscula, todo o restante em minúscula. Para isso temos a função title:"
      ]
    },
    {
      "cell_type": "code",
      "execution_count": null,
      "id": "91d7ba1c",
      "metadata": {
        "colab": {
          "base_uri": "https://localhost:8080/"
        },
        "id": "91d7ba1c",
        "outputId": "212e9367-597c-447e-8543-7602639d8a8a"
      },
      "outputs": [
        {
          "name": "stdout",
          "output_type": "stream",
          "text": [
            "Vamos Programar\n"
          ]
        }
      ],
      "source": [
        "frase = \"vamos PrOgraMar\"\n",
        "titulo = frase.title()\n",
        "print(titulo)"
      ]
    },
    {
      "cell_type": "markdown",
      "id": "8422ef8c",
      "metadata": {
        "id": "8422ef8c"
      },
      "source": [
        "E, por fim, é possível tratar nossa string como uma frase gramaticalmente correta: primeira letra maiúscula, todo o resto minúsculo. Essa função é a capitalize:"
      ]
    },
    {
      "cell_type": "code",
      "execution_count": null,
      "id": "52c0383c",
      "metadata": {
        "colab": {
          "base_uri": "https://localhost:8080/"
        },
        "id": "52c0383c",
        "outputId": "9f0685f4-eca3-4065-b860-5e358cd86b2f"
      },
      "outputs": [
        {
          "name": "stdout",
          "output_type": "stream",
          "text": [
            "Vamos programar\n"
          ]
        }
      ],
      "source": [
        "frase = \"vamos PrOgraMar\"\n",
        "correta = frase.capitalize()\n",
        "print(correta)"
      ]
    },
    {
      "cell_type": "markdown",
      "id": "93b4c1f2",
      "metadata": {
        "id": "93b4c1f2"
      },
      "source": [
        "Uma utilidade para essas funções é padronizar entrada de usuário. Quando pedimos para o usuário digitar 'sim' caso ele deseje fazer algo, ele pode digitar 'SIM', 'sim', 'Sim', 'sIm', 'siM', 'SIm', 'sIM' ou 'SiM'. Prever todas essas condições em uma condicional pode ser bastante trabalhoso, ou mesmo impossível. Imagine se fosse uma string de várias letras... Porém, podemos forçar um padrão para a entrada do usuário e comparar com esse padrão:"
      ]
    },
    {
      "cell_type": "code",
      "execution_count": null,
      "id": "0b519b7a",
      "metadata": {
        "colab": {
          "base_uri": "https://localhost:8080/"
        },
        "id": "0b519b7a",
        "outputId": "23e29929-025f-4532-89c0-97aa5c161a5d"
      },
      "outputs": [
        {
          "name": "stdout",
          "output_type": "stream",
          "text": [
            "Digite 'sim' se aceita os termos de uso: SiM\n",
            "Seja bem-vindo!\n"
          ]
        }
      ],
      "source": [
        "usuario = input(\"Digite 'sim' se aceita os termos de uso: \")\n",
        "if usuario.upper() == 'SIM':\n",
        "  print(\"Seja bem-vindo!\")\n",
        "else:\n",
        "   print(\"Que pena.\")"
      ]
    },
    {
      "cell_type": "markdown",
      "id": "b723013f",
      "metadata": {
        "id": "b723013f"
      },
      "source": [
        "Qualquer forma que o usuário digite a palavra 'sim' será aceita.\n",
        "\n",
        "Se quiser confirmar se dentro de uma string qo valor é um número, usamos o .isdigit(). Assim como tem o .isalpha()."
      ]
    },
    {
      "cell_type": "code",
      "execution_count": null,
      "id": "b6e84769",
      "metadata": {
        "colab": {
          "base_uri": "https://localhost:8080/"
        },
        "id": "b6e84769",
        "outputId": "6cfc2c70-7a26-4aa4-a93a-f46215102a3d"
      },
      "outputs": [
        {
          "data": {
            "text/plain": [
              "True"
            ]
          },
          "execution_count": 33,
          "metadata": {},
          "output_type": "execute_result"
        }
      ],
      "source": [
        "valor = \"5\"\n",
        "valor.isdigit()"
      ]
    },
    {
      "cell_type": "code",
      "execution_count": null,
      "id": "69c684ae",
      "metadata": {
        "colab": {
          "base_uri": "https://localhost:8080/"
        },
        "id": "69c684ae",
        "outputId": "c4b5a36f-88c7-42d5-c336-d6078ff90003"
      },
      "outputs": [
        {
          "data": {
            "text/plain": [
              "False"
            ]
          },
          "execution_count": 36,
          "metadata": {},
          "output_type": "execute_result"
        }
      ],
      "source": [
        "valor = \"5\"\n",
        "valor.isalpha()"
      ]
    },
    {
      "cell_type": "code",
      "execution_count": null,
      "id": "baab7bd9",
      "metadata": {
        "colab": {
          "base_uri": "https://localhost:8080/"
        },
        "id": "baab7bd9",
        "outputId": "bf1cab3c-264b-41bb-a556-20163ef5ec00"
      },
      "outputs": [
        {
          "data": {
            "text/plain": [
              "True"
            ]
          },
          "execution_count": 37,
          "metadata": {},
          "output_type": "execute_result"
        }
      ],
      "source": [
        "valor = \"texto\"\n",
        "\n",
        "valor.isalpha()"
      ]
    },
    {
      "cell_type": "markdown",
      "id": "8fc83d82",
      "metadata": {
        "id": "8fc83d82"
      },
      "source": [
        "Extra: O que será que acontece quando usamos o operador + com duas strings?"
      ]
    },
    {
      "cell_type": "code",
      "execution_count": null,
      "id": "8bd9f1c8",
      "metadata": {
        "colab": {
          "base_uri": "https://localhost:8080/"
        },
        "id": "8bd9f1c8",
        "outputId": "51d50d18-026f-4641-a779-f53606050a1a"
      },
      "outputs": [
        {
          "data": {
            "text/plain": [
              "2"
            ]
          },
          "execution_count": 38,
          "metadata": {},
          "output_type": "execute_result"
        }
      ],
      "source": [
        "1 + 1"
      ]
    },
    {
      "cell_type": "code",
      "execution_count": null,
      "id": "ead12e59",
      "metadata": {
        "id": "ead12e59"
      },
      "outputs": [],
      "source": [
        "\"1\" + \"1\""
      ]
    },
    {
      "cell_type": "markdown",
      "id": "94c64b66",
      "metadata": {
        "id": "94c64b66"
      },
      "source": [
        "**Bora praticar**\n",
        "\n",
        "1) Faça um programa que peça a idade do usuário e imprima se ele é maior ou menor de 18 anos.\n",
        "\n",
        "2) Faça um programa que peça um número e mostre se ele é positivo ou negativo. Alternativa: acrescentar nulo\n",
        "\n",
        "3) Faça um programa que peça dois números e mostre o maior deles.\n",
        "\n",
        "4) Faça um programa que leia a validade das informações:\n",
        "\n",
        "a. Idade: entre 0 e 150;\n",
        "\n",
        "b. Salário: maior que 0;\n",
        "\n",
        "c. Sexo: M, F ou Outro;\n",
        "\n",
        "O programa deve imprimir uma mensagem de erro para cada informação inválida.\n",
        "\n",
        "5) Escreva um programa que peça a nota de 3 provas de um aluno e verifique se ele passou ou não de ano.\n",
        "Obs.: O aluno irá passar de ano se sua média for maior que 6.\n",
        "\n",
        "6) Faça um programa que mostre uma questão de múltipla escolha com 5 opções (letras a, b, c, d, e).\n",
        "Sabendo a resposta certa, o programa deve receber a opção do usuário e informar a letra que o usuário marcou e se a resposta está certa ou errada.\n",
        "\n",
        "7) Vamos fazer um programa para verificar quem é o assassino de um crime. Para descobrir o assassino,\n",
        "a polícia faz um pequeno questionário com 5 perguntas\n",
        "onde a resposta só pode ser sim ou não:\n",
        "\n",
        "a. Mora perto da vítima?\n",
        "\n",
        "b. Já trabalhou com a vítima?\n",
        "\n",
        "c. Telefonou para a vítima?\n",
        "\n",
        "d. Esteve no local do crime?\n",
        "\n",
        "e. Devia para a vítima?\n",
        "\n",
        "Cada resposta sim dá um ponto para o suspeito. A polícia considera que os suspeitos com 5 pontos são os assassinos, com 4 a 3 pontos\n",
        "são cúmplices e 2 pontos são apenas suspeitos, necessitando outras investigações. Valores iguais ou abaixo de 1 são liberados.'''\n",
        "\n",
        "8) Um produto vai sofrer aumento de acordo com a Tabela 1 abaixo. Faça um programa que peça para o usuário digitar o valor do produto de acordo\n",
        "com o preço antigo e escreva uma das mensagens da Tabela 2, de acordo com o preço reajustado:\n",
        "\n",
        "Tabela 1\n",
        "\n",
        "| Preço Antigo         | % de aumento |\n",
        "|----------------------|--------------|\n",
        "| Até 50 reais         | 5%           |\n",
        "| Entre 50 e 100 reais | 10%          |\n",
        "| De 100 a 150 reais   | 13%          |\n",
        "| Acima de 150 reais   | 15%          |\n",
        "\n",
        "Tabela 2\n",
        "\n",
        "| Preço Novo            | Mensagem   |\n",
        "|-----------------------|------------|\n",
        "| Até 80 reais          | Barato     |\n",
        "| Entre 80 e 115 reais  | Razoável   |\n",
        "| Entre 115 e 150 reais | Normal     |\n",
        "| Entre 150 e 170 reais | Caro       |\n",
        "| Acima de 170 reais    | Muito Caro |\n",
        "\n",
        "9) Desafio 1 - Faça um programa que leia 3 números e informe o maior deles.\n",
        "\n",
        "# Resolução dos exercícios\n",
        "Lembrando que não há uma única forma de resolver\n",
        "\n",
        "Coloquem as respostas em dontpad.com/turma999 e vou escolher algumas resoluções"
      ]
    },
    {
      "cell_type": "markdown",
      "id": "ecb9c538",
      "metadata": {
        "id": "ecb9c538"
      },
      "source": [
        "1) Faça um programa que peça a idade do usuário e imprima se ele é maior ou menor de 18 anos."
      ]
    },
    {
      "cell_type": "code",
      "execution_count": null,
      "id": "a0948962",
      "metadata": {
        "colab": {
          "base_uri": "https://localhost:8080/"
        },
        "id": "a0948962",
        "outputId": "b39c8424-41a9-4437-c96d-9d775148358d"
      },
      "outputs": [
        {
          "name": "stdout",
          "output_type": "stream",
          "text": [
            "Digite sua idade:\n",
            "19\n",
            "Maior de idade\n"
          ]
        }
      ],
      "source": [
        "print(\"Digite sua idade:\")\n",
        "idade = int(input())\n",
        "if idade >= 18:\n",
        "    print(\"Maior de idade\")\n",
        "else:\n",
        "    print(\"Menor de idade\")"
      ]
    },
    {
      "cell_type": "markdown",
      "id": "8854719d",
      "metadata": {
        "id": "8854719d"
      },
      "source": [
        "2) Faça um programa que peça um número e mostre se ele é positivo ou negativo. Alternativa: acrescentar zero. Desafio: acrescentar nulo"
      ]
    },
    {
      "cell_type": "code",
      "source": [
        "num = input(\"Digite um número: \")\n",
        "\n",
        "if not num.replace(\"-\", \"\").isdigit():\n",
        "    print(\"Nulo\")\n",
        "else:\n",
        "    num = float(num)\n",
        "\n",
        "    if num > 0:\n",
        "        print(\"Positivo\")\n",
        "    elif num < 0:\n",
        "        print(\"Negativo\")\n",
        "    else:\n",
        "        print(\"Zero\")\n"
      ],
      "metadata": {
        "colab": {
          "base_uri": "https://localhost:8080/"
        },
        "id": "z3u-JIzo1xWM",
        "outputId": "0a22d25b-268c-4492-a7a7-559cedf08bf5"
      },
      "id": "z3u-JIzo1xWM",
      "execution_count": null,
      "outputs": [
        {
          "output_type": "stream",
          "name": "stdout",
          "text": [
            "Digite um número: -1\n",
            "Negativo\n"
          ]
        }
      ]
    },
    {
      "cell_type": "markdown",
      "id": "2d29d00a",
      "metadata": {
        "id": "2d29d00a"
      },
      "source": [
        "3) Faça um programa que peça dois números e mostre o maior deles."
      ]
    },
    {
      "cell_type": "code",
      "execution_count": null,
      "id": "04d34213",
      "metadata": {
        "colab": {
          "base_uri": "https://localhost:8080/"
        },
        "id": "04d34213",
        "outputId": "51278278-e8f7-4df9-c3df-e3dc6e5e3187"
      },
      "outputs": [
        {
          "name": "stdout",
          "output_type": "stream",
          "text": [
            "Digite dois numeros:\n",
            "1.1\n",
            "1\n",
            "Maior numero: 1.1\n"
          ]
        }
      ],
      "source": [
        "print(\"Digite dois numeros:\")\n",
        "n1 = float(input())\n",
        "n2 = float(input())\n",
        "if n1 > n2:\n",
        "  print(f\"Maior numero: {n1}\")\n",
        "else:\n",
        "  print(f\"Maior numero: {n2}\")"
      ]
    },
    {
      "cell_type": "markdown",
      "id": "d1180335",
      "metadata": {
        "id": "d1180335"
      },
      "source": [
        "4) Faça um programa que leia a validade das informações:\n",
        "\n",
        "    a. Idade: entre 0 e 150;\n",
        "\n",
        "    b. Salário: maior que 0;\n",
        "\n",
        "    c. Sexo: M, F ou Outro;\n",
        "\n",
        "O programa deve imprimir uma mensagem de erro para cada informação inválida."
      ]
    },
    {
      "cell_type": "code",
      "execution_count": null,
      "id": "43340ccf",
      "metadata": {
        "colab": {
          "base_uri": "https://localhost:8080/"
        },
        "id": "43340ccf",
        "outputId": "73ebd065-1854-4168-a793-ece1e69cf11f"
      },
      "outputs": [
        {
          "output_type": "stream",
          "name": "stdout",
          "text": [
            "Digita a idade: \n",
            "151\n",
            "Digite o salario: \n",
            "-1\n",
            "Digite o sexo (M, F ou Outro): m\n",
            "Idade invalida\n",
            "Salario invalido\n"
          ]
        }
      ],
      "source": [
        "print(\"Digita a idade: \")\n",
        "idade = int(input())\n",
        "print(\"Digite o salario: \")\n",
        "salario = float(input())\n",
        "sexo = input(\"Digite o sexo (M, F ou Outro): \")\n",
        "\n",
        "\n",
        "if idade < 0 or idade > 150:\n",
        "  print(\"Idade invalida\")\n",
        "if salario < 0:\n",
        "  print(\"Salario invalido\")\n",
        "if sexo.upper() != \"M\" and sexo.upper() != \"F\" and sexo.upper() != \"OUTRO\":\n",
        "  print(\"Sexo invalido\")"
      ]
    },
    {
      "cell_type": "markdown",
      "id": "a8a65e5a",
      "metadata": {
        "id": "a8a65e5a"
      },
      "source": [
        "5) Escreva um programa que peça a nota de 3 provas de um aluno e verifique se ele passou ou não de ano.\n",
        "Obs.: O aluno irá passar de ano se sua média for maior que 6."
      ]
    },
    {
      "cell_type": "code",
      "execution_count": null,
      "id": "e7a19e2f",
      "metadata": {
        "colab": {
          "base_uri": "https://localhost:8080/"
        },
        "id": "e7a19e2f",
        "outputId": "e1f94321-e60d-4381-8242-c457f548850d"
      },
      "outputs": [
        {
          "name": "stdout",
          "output_type": "stream",
          "text": [
            "Digite as 3 notas: \n",
            "6\n",
            "6\n",
            "7\n",
            "6.3\n",
            "Aprovado\n"
          ]
        }
      ],
      "source": [
        "print(\"Digite as 3 notas: \")\n",
        "n1 = float(input())\n",
        "n2 = float(input())\n",
        "n3 = float(input())\n",
        "\n",
        "media = (n1 + n2 + n3) / 3\n",
        "print(f\"{media:.1f}\")\n",
        "\n",
        "if media > 6:\n",
        "  print(\"Aprovado\")\n",
        "else:\n",
        "  print(\"Reprovado\")"
      ]
    },
    {
      "cell_type": "markdown",
      "id": "e669f8cc",
      "metadata": {
        "id": "e669f8cc"
      },
      "source": [
        "6) Faça um programa que mostre uma questão de múltipla escolha com 5 opções (letras a, b, c, d, e).\n",
        "Sabendo a resposta certa, o programa deve receber a opção do usuário e informar a letra que o usuário marcou e se a resposta está certa ou errada."
      ]
    },
    {
      "cell_type": "code",
      "execution_count": null,
      "id": "afbbc0ac",
      "metadata": {
        "colab": {
          "base_uri": "https://localhost:8080/"
        },
        "id": "afbbc0ac",
        "outputId": "0caeee9b-148a-4f14-e3f1-c28bcd966807"
      },
      "outputs": [
        {
          "output_type": "stream",
          "name": "stdout",
          "text": [
            "1 + 1 = ?\n",
            "a) 1\n",
            "b) 1.5\n",
            "c) 2\n",
            "d) 2.5\n",
            "e) 3\n",
            "Digite a resposta: C\n",
            "Resposta correta.\n"
          ]
        }
      ],
      "source": [
        "print(\"1 + 1 = ?\")\n",
        "print(\"a) 1\")\n",
        "print(\"b) 1.5\")\n",
        "print(\"c) 2\")\n",
        "print(\"d) 2.5\")\n",
        "print(\"e) 3\")\n",
        "\n",
        "resposta = 'c'\n",
        "resposta_usuario = input(\"Digite a resposta: \").lower()\n",
        "\n",
        "if resposta_usuario == resposta:\n",
        "  print(\"Resposta correta.\")\n",
        "else:\n",
        "  print(\"Resposta errada.\")"
      ]
    },
    {
      "cell_type": "markdown",
      "id": "43e66438",
      "metadata": {
        "id": "43e66438"
      },
      "source": [
        "7) Vamos fazer um programa para verificar quem é o assassino de um crime. Para descobrir o assassino, a polícia faz um pequeno questionário com 5 perguntas onde a resposta só pode ser sim ou não:  \n",
        "\n",
        "\n",
        "    a. Mora perto da vítima?\n",
        "\n",
        "    b. Já trabalhou com a vítima?\n",
        "\n",
        "    c. Telefonou para a vítima?\n",
        "\n",
        "    d. Esteve no local do crime?\n",
        "\n",
        "    e. Devia para a vítima?\n",
        "\n",
        "Cada resposta sim dá um ponto para o suspeito. A polícia considera que os suspeitos com 5 pontos são os assassinos, com 4 a 3 pontos\n",
        "são cúmplices e 2 pontos são apenas suspeitos, necessitando outras investigações. Valores iguais ou abaixo de 1 são liberados."
      ]
    },
    {
      "cell_type": "code",
      "source": [
        "r1 = input(\"Mora perto da vítima? (s/n): \")\n",
        "r2 = input(\"Já trabalhou com a vítima? (s/n): \")\n",
        "r3 = input(\"Telefonou para a vítima? (s/n): \")\n",
        "r4 = input(\"Esteve no local do crime? (s/n): \")\n",
        "r5 = input(\"Devia para a vítima? (s/n): \")\n",
        "\n",
        "pontos = 0\n",
        "if r1 == \"s\":\n",
        "    pontos += 1\n",
        "if r2 == \"s\":\n",
        "    pontos += 1\n",
        "if r3 == \"s\":\n",
        "    pontos += 1\n",
        "if r4 == \"s\":\n",
        "    pontos += 1\n",
        "if r5 == \"s\":\n",
        "    pontos += 1\n",
        "\n",
        "if pontos == 5:\n",
        "    print(\"Assassino\")\n",
        "elif pontos == 4 or pontos == 3:\n",
        "    print(\"Cúmplice\")\n",
        "elif pontos == 2:\n",
        "    print(\"Suspeito\")\n",
        "else:\n",
        "    print(\"Liberado\")"
      ],
      "metadata": {
        "colab": {
          "base_uri": "https://localhost:8080/"
        },
        "id": "v5CMopozmFGQ",
        "outputId": "46d29df4-f669-4cb7-e60c-41944ab35254"
      },
      "id": "v5CMopozmFGQ",
      "execution_count": null,
      "outputs": [
        {
          "output_type": "stream",
          "name": "stdout",
          "text": [
            "Mora perto da vítima? (s/n): s\n",
            "Já trabalhou com a vítima? (s/n): s\n",
            "Telefonou para a vítima? (s/n): s\n",
            "Esteve no local do crime? (s/n): s\n",
            "Devia para a vítima? (s/n): s\n",
            "Assassino\n"
          ]
        }
      ]
    },
    {
      "cell_type": "markdown",
      "id": "b73da6e2",
      "metadata": {
        "id": "b73da6e2"
      },
      "source": [
        "8) Um produto vai sofrer aumento de acordo com a Tabela 1 abaixo. Faça um programa que peça para o usuário digitar o valor do produto de acordo\n",
        "com o preço antigo e escreva uma das mensagens da Tabela 2, de acordo com o preço reajustado:\n",
        "\n",
        "Tabela 1\n",
        "\n",
        "| Preço Antigo         | % de aumento |\n",
        "|----------------------|--------------|\n",
        "| Até 50 reais         | 5%           |\n",
        "| Entre 50 e 100 reais | 10%          |\n",
        "| De 100 a 150 reais   | 13%          |\n",
        "| Acima de 150 reais   | 15%          |\n",
        "\n",
        "Tabela 2\n",
        "\n",
        "| Preço Novo            | Mensagem   |\n",
        "|-----------------------|------------|\n",
        "| Até 80 reais          | Barato     |\n",
        "| Entre 80 e 115 reais  | Razoável   |\n",
        "| Entre 115 e 150 reais | Normal     |\n",
        "| Entre 150 e 170 reais | Caro       |\n",
        "| Acima de 170 reais    | Muito Caro |"
      ]
    },
    {
      "cell_type": "code",
      "execution_count": null,
      "id": "e8830bae",
      "metadata": {
        "id": "e8830bae",
        "colab": {
          "base_uri": "https://localhost:8080/"
        },
        "outputId": "b304bf4d-873c-4256-f7ec-7a30980eb6cd"
      },
      "outputs": [
        {
          "output_type": "stream",
          "name": "stdout",
          "text": [
            "Digite o valor do produto: 10.5\n",
            "Valor antigo: 10.50\n",
            "Valor novo: 11.03\n",
            "Barato\n"
          ]
        }
      ],
      "source": [
        "valor = float(input(\"Digite o valor do produto: \"))\n",
        "if valor <= 50:\n",
        "  valor_novo = valor + (valor * 0.05)\n",
        "elif valor > 50 and valor <= 100:\n",
        "  valor_novo = valor + (valor * 0.10)\n",
        "elif valor >= 100 and valor <= 150:\n",
        "  valor_novo = valor + (valor * 0.13)\n",
        "else:\n",
        "  valor_novo = valor + (valor * 0.15)\n",
        "\n",
        "print(f\"Valor antigo: {valor:.2f}\")\n",
        "print(f\"Valor novo: {valor_novo:.2f}\")\n",
        "\n",
        "if valor_novo <= 80:\n",
        "  print(\"Barato\")\n",
        "elif valor_novo > 80 and valor_novo <= 115:\n",
        "  print(\"Razoavel\")\n",
        "elif valor_novo > 115 and valor_novo <= 150:\n",
        "  print(\"Normal\")\n",
        "elif valor_novo > 150 and valor_novo <= 170:\n",
        "  print(\"Caro\")\n",
        "else:\n",
        "  print(\"Muito caro\")"
      ]
    },
    {
      "cell_type": "markdown",
      "id": "f8b8d13e",
      "metadata": {
        "id": "f8b8d13e"
      },
      "source": [
        "9) Desafio 1 - Faça um programa que leia 3 números e informe o maior deles."
      ]
    },
    {
      "cell_type": "code",
      "execution_count": null,
      "id": "7cf83082",
      "metadata": {
        "colab": {
          "base_uri": "https://localhost:8080/"
        },
        "id": "7cf83082",
        "outputId": "99aabb13-6c58-482a-b4a8-8c219346f75e"
      },
      "outputs": [
        {
          "name": "stdout",
          "output_type": "stream",
          "text": [
            "Digite 3 numeros:\n",
            "1\n",
            "2\n",
            "3\n",
            "Maior numero: 3.0\n"
          ]
        }
      ],
      "source": [
        "print(\"Digite 3 numeros:\")\n",
        "n1 = float(input())\n",
        "n2 = float(input())\n",
        "n3 = float(input())\n",
        "\n",
        "if n1 > n2 and n1 > n3:\n",
        "  print(f\"Maior numero: {n1}\")\n",
        "elif n2 > n1 and n2 > n3:\n",
        "  print(f\"Maior numero: {n2}\")\n",
        "else:\n",
        "  print(f\"Maior numero: {n3}\")"
      ]
    }
  ],
  "metadata": {
    "colab": {
      "provenance": [],
      "include_colab_link": true
    },
    "kernelspec": {
      "display_name": "Python 3 (ipykernel)",
      "language": "python",
      "name": "python3"
    },
    "language_info": {
      "codemirror_mode": {
        "name": "ipython",
        "version": 3
      },
      "file_extension": ".py",
      "mimetype": "text/x-python",
      "name": "python",
      "nbconvert_exporter": "python",
      "pygments_lexer": "ipython3",
      "version": "3.10.9"
    }
  },
  "nbformat": 4,
  "nbformat_minor": 5
}