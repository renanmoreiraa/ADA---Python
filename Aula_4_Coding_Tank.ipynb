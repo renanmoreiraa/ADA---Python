{
  "cells": [
    {
      "cell_type": "markdown",
      "metadata": {
        "id": "view-in-github",
        "colab_type": "text"
      },
      "source": [
        "<a href=\"https://colab.research.google.com/github/renanmoreiraa/ADA---Python/blob/master/Aula_4_Coding_Tank.ipynb\" target=\"_parent\"><img src=\"https://colab.research.google.com/assets/colab-badge.svg\" alt=\"Open In Colab\"/></a>"
      ]
    },
    {
      "cell_type": "markdown",
      "id": "341a085c",
      "metadata": {
        "id": "341a085c"
      },
      "source": [
        "<div style=\"background-color: black; padding: 18px;\">\n",
        "    <h1> Coding Tank | Vem Ser Tech\n",
        "</div>"
      ]
    },
    {
      "cell_type": "markdown",
      "id": "f0230d44",
      "metadata": {
        "id": "f0230d44"
      },
      "source": [
        "<div style=\"background-color: black; padding: 10px;\">\n",
        "    <h2> Tópicos da aula - AULA 4\n",
        "</div>\n",
        "\n",
        "- Loop for\n",
        "- Listas\n",
        "- Índices\n",
        "- Iterações de listas\n",
        "- Métodos de listas"
      ]
    },
    {
      "cell_type": "markdown",
      "id": "ddaaaec8",
      "metadata": {
        "id": "ddaaaec8"
      },
      "source": [
        "E se quisermos fazer o programa que a pessoa digita 10 números e dizemos o maior, conseguimos?\n",
        "\n",
        "E se quisermos o 2° maior? E se quisermos o 5º?\n",
        "\n",
        "Podemos resolver com **listas**\n",
        "\n",
        "- Listas\n",
        "\n",
        "Listas são coleções de objetos em Python e é expressada em `[]`"
      ]
    },
    {
      "cell_type": "code",
      "execution_count": null,
      "id": "e626193f",
      "metadata": {
        "ExecuteTime": {
          "end_time": "2023-06-29T00:53:10.121923Z",
          "start_time": "2023-06-29T00:53:10.111155Z"
        },
        "colab": {
          "base_uri": "https://localhost:8080/"
        },
        "id": "e626193f",
        "outputId": "3804e593-0e3c-4008-ad08-afa849d89593"
      },
      "outputs": [
        {
          "output_type": "stream",
          "name": "stdout",
          "text": [
            "[]\n",
            "[1, 2, 3, 4]\n",
            "[1, 2, 0, 'savannah']\n",
            "[1, [2, 3]]\n"
          ]
        }
      ],
      "source": [
        "lista = [1, 2, 3, 4, 5, 6, 7, 8, 9, 10]\n",
        "lista_1 = []\n",
        "lista_2 = [1, 2, 3, 4, 5]\n",
        "lista_3 = list()\n",
        "lista_4 = [1, 2, 3, 4]\n",
        "lista_5 = [1, 2, 0, \"savannah\"]\n",
        "lista_6 = [1, [2,3]]\n",
        "print(lista_3)\n",
        "print(lista_4)\n",
        "print(lista_5)\n",
        "print(lista_6)"
      ]
    },
    {
      "cell_type": "code",
      "execution_count": null,
      "id": "8a7398da",
      "metadata": {
        "ExecuteTime": {
          "end_time": "2023-06-29T00:56:41.565104Z",
          "start_time": "2023-06-29T00:56:41.555151Z"
        },
        "colab": {
          "base_uri": "https://localhost:8080/"
        },
        "id": "8a7398da",
        "outputId": "0915e4e8-eeec-4411-cad2-11ac5991a0e9"
      },
      "outputs": [
        {
          "output_type": "execute_result",
          "data": {
            "text/plain": [
              "9"
            ]
          },
          "metadata": {},
          "execution_count": 8
        }
      ],
      "source": [
        "lista[-1]"
      ]
    },
    {
      "cell_type": "code",
      "execution_count": null,
      "id": "4541e94a",
      "metadata": {
        "ExecuteTime": {
          "end_time": "2023-06-29T00:56:58.487031Z",
          "start_time": "2023-06-29T00:56:58.477176Z"
        },
        "colab": {
          "base_uri": "https://localhost:8080/"
        },
        "id": "4541e94a",
        "outputId": "6a0c9dc8-c663-42e2-95ce-a3b3e31036b8"
      },
      "outputs": [
        {
          "output_type": "execute_result",
          "data": {
            "text/plain": [
              "list"
            ]
          },
          "metadata": {},
          "execution_count": 2
        }
      ],
      "source": [
        "type(lista_1)\n",
        "type(lista_2)\n",
        "type(lista_3)\n",
        "type(lista_4)\n",
        "type(lista_5)\n",
        "type(lista_6)\n"
      ]
    },
    {
      "cell_type": "code",
      "execution_count": null,
      "id": "8a57fec8",
      "metadata": {
        "ExecuteTime": {
          "end_time": "2023-06-29T00:57:40.345041Z",
          "start_time": "2023-06-29T00:57:40.339545Z"
        },
        "colab": {
          "base_uri": "https://localhost:8080/"
        },
        "id": "8a57fec8",
        "outputId": "21363307-86e6-43b2-d5e4-e98f6f2bad10"
      },
      "outputs": [
        {
          "output_type": "stream",
          "name": "stdout",
          "text": [
            "[1, 2, 3, 4, 5, 6, 7, 8, 9, 10]\n",
            "[1, 2, 3]\n",
            "[1, 2, 3]\n",
            "[7, 8, 9, 10]\n",
            "[7, 8, 9, 10]\n",
            "[7, 8, 9]\n",
            "[4, 5, 6]\n",
            "1\n",
            "[]\n",
            "[3, 6, 9]\n"
          ]
        }
      ],
      "source": [
        "print(lista[:])\n",
        "print(lista[0:3])\n",
        "print(lista[:3])\n",
        "\n",
        "print(lista[6:10])\n",
        "print(lista[6:])\n",
        "\n",
        "print(lista[6:-1])\n",
        "\n",
        "print(lista[3:6])\n",
        "\n",
        "print(lista[0])\n",
        "print(lista[0:0])\n",
        "\n",
        "print(lista[2:10:3])"
      ]
    },
    {
      "cell_type": "code",
      "execution_count": null,
      "id": "03ac344a",
      "metadata": {
        "ExecuteTime": {
          "end_time": "2023-06-29T22:26:30.681040Z",
          "start_time": "2023-06-29T22:26:30.671086Z"
        },
        "colab": {
          "base_uri": "https://localhost:8080/"
        },
        "id": "03ac344a",
        "outputId": "4719f756-4fb3-461b-e78a-daab97cc9dbb"
      },
      "outputs": [
        {
          "output_type": "stream",
          "name": "stdout",
          "text": [
            "[1, 2, 11, 4, 5, 6, 7, 8, 9, 10]\n"
          ]
        }
      ],
      "source": [
        "lista[2] = 11\n",
        "print(lista)"
      ]
    },
    {
      "cell_type": "code",
      "execution_count": null,
      "id": "f9777dd0",
      "metadata": {
        "ExecuteTime": {
          "end_time": "2023-06-29T22:26:58.328878Z",
          "start_time": "2023-06-29T22:26:58.315522Z"
        },
        "colab": {
          "base_uri": "https://localhost:8080/"
        },
        "id": "f9777dd0",
        "outputId": "075b8a22-7e03-4f43-c2ae-ae8000d40277"
      },
      "outputs": [
        {
          "output_type": "stream",
          "name": "stdout",
          "text": [
            "[1, 2, 3, 4, 5, 6, 7, 8, 9, 10, 99, [1, 2, 3, 4, 5, 6, 7, 8]]\n"
          ]
        }
      ],
      "source": [
        "lista.append([1,2,3,4,5,6,7,8])\n",
        "print(lista)"
      ]
    },
    {
      "cell_type": "code",
      "execution_count": null,
      "id": "fb4cc5b7",
      "metadata": {
        "ExecuteTime": {
          "end_time": "2023-06-29T22:27:19.356689Z",
          "start_time": "2023-06-29T22:27:19.312779Z"
        },
        "colab": {
          "base_uri": "https://localhost:8080/"
        },
        "id": "fb4cc5b7",
        "outputId": "b23b0f58-8adf-4d4c-f56b-e03dbc39494a"
      },
      "outputs": [
        {
          "output_type": "execute_result",
          "data": {
            "text/plain": [
              "[1, 2, 3, 4, 1, 2, 0, 'savannah']"
            ]
          },
          "metadata": {},
          "execution_count": 20
        }
      ],
      "source": [
        "lista_4 + lista_5"
      ]
    },
    {
      "cell_type": "code",
      "execution_count": null,
      "id": "0339c0fc",
      "metadata": {
        "ExecuteTime": {
          "end_time": "2023-06-29T22:28:00.578066Z",
          "start_time": "2023-06-29T22:28:00.567809Z"
        },
        "colab": {
          "base_uri": "https://localhost:8080/"
        },
        "id": "0339c0fc",
        "outputId": "67d9afa0-573e-4aa2-ddfa-c6688d85f857"
      },
      "outputs": [
        {
          "output_type": "stream",
          "name": "stdout",
          "text": [
            "[1, 2, 3, 4, 5, 6, 7, 8, 9, 10, 99, [1, 2, 3, 4, 5, 6, 7, 8]]\n"
          ]
        },
        {
          "output_type": "execute_result",
          "data": {
            "text/plain": [
              "2"
            ]
          },
          "metadata": {},
          "execution_count": 25
        }
      ],
      "source": [
        "print(lista)\n",
        "lista[-1][1]"
      ]
    },
    {
      "cell_type": "code",
      "execution_count": null,
      "id": "1c1228df",
      "metadata": {
        "ExecuteTime": {
          "end_time": "2023-06-29T22:28:53.370752Z",
          "start_time": "2023-06-29T22:28:53.345190Z"
        },
        "id": "1c1228df"
      },
      "outputs": [],
      "source": []
    },
    {
      "cell_type": "code",
      "execution_count": null,
      "id": "20e426c5",
      "metadata": {
        "ExecuteTime": {
          "end_time": "2023-06-29T22:29:03.492265Z",
          "start_time": "2023-06-29T22:29:03.475031Z"
        },
        "id": "20e426c5"
      },
      "outputs": [],
      "source": []
    },
    {
      "cell_type": "code",
      "execution_count": null,
      "id": "459eedd9",
      "metadata": {
        "ExecuteTime": {
          "end_time": "2023-06-29T22:29:09.389792Z",
          "start_time": "2023-06-29T22:29:09.372341Z"
        },
        "id": "459eedd9"
      },
      "outputs": [],
      "source": []
    },
    {
      "cell_type": "code",
      "execution_count": null,
      "id": "f2fc4556",
      "metadata": {
        "ExecuteTime": {
          "end_time": "2023-06-29T22:29:58.239341Z",
          "start_time": "2023-06-29T22:29:58.227247Z"
        },
        "id": "f2fc4556"
      },
      "outputs": [],
      "source": []
    },
    {
      "cell_type": "code",
      "execution_count": null,
      "id": "329ac2df",
      "metadata": {
        "ExecuteTime": {
          "end_time": "2023-06-29T22:50:42.362629Z",
          "start_time": "2023-06-29T22:50:42.336530Z"
        },
        "id": "329ac2df"
      },
      "outputs": [],
      "source": []
    },
    {
      "cell_type": "code",
      "execution_count": null,
      "id": "afc26e8e",
      "metadata": {
        "ExecuteTime": {
          "end_time": "2023-06-29T22:53:07.476480Z",
          "start_time": "2023-06-29T22:53:07.455763Z"
        },
        "id": "afc26e8e"
      },
      "outputs": [],
      "source": []
    },
    {
      "cell_type": "code",
      "execution_count": null,
      "id": "7c369dcf",
      "metadata": {
        "ExecuteTime": {
          "end_time": "2023-06-29T22:54:39.387621Z",
          "start_time": "2023-06-29T22:54:39.366577Z"
        },
        "id": "7c369dcf"
      },
      "outputs": [],
      "source": []
    },
    {
      "cell_type": "code",
      "execution_count": null,
      "id": "56be891f",
      "metadata": {
        "ExecuteTime": {
          "end_time": "2023-06-29T23:38:11.739834Z",
          "start_time": "2023-06-29T23:38:11.715051Z"
        },
        "id": "56be891f"
      },
      "outputs": [],
      "source": []
    },
    {
      "cell_type": "markdown",
      "id": "f4bac6d5",
      "metadata": {
        "ExecuteTime": {
          "end_time": "2023-06-29T22:52:13.757377Z",
          "start_time": "2023-06-29T22:52:13.737024Z"
        },
        "id": "f4bac6d5"
      },
      "source": [
        "Existem várias outras funções/métodos de listas que vocês irão aprender no próximo módulo, como:\n",
        "\n",
        "- append: Adiciona um elemento ao final da lista.\n",
        "- insert: Insere um elemento em uma posição específica da lista.\n",
        "- remove: Remove a primeira ocorrência de um elemento da lista\n",
        "- pop: Remove e retorna o elemento em uma posição específica da lista. Se nenhum índice for fornecido, remove e retorna o último elemento.\n",
        "- sort: Ordena a lista in-place (modifica a lista original).\n",
        "- sorted : Retorna uma nova lista ordenada a partir de um iterável, sem modificar o original.\n",
        "- reverse: Inverte a ordem dos elementos na lista in-place.\n",
        "- index: Retorna o índice da primeira ocorrência de um elemento na lista.\n",
        "- max, min, len\n",
        "    "
      ]
    },
    {
      "cell_type": "code",
      "execution_count": null,
      "id": "eb90e370",
      "metadata": {
        "ExecuteTime": {
          "end_time": "2023-06-29T22:56:30.796648Z",
          "start_time": "2023-06-29T22:56:30.777686Z"
        },
        "colab": {
          "base_uri": "https://localhost:8080/"
        },
        "id": "eb90e370",
        "outputId": "5c7dd699-8fdc-4556-ef82-5e25c29c23fe"
      },
      "outputs": [
        {
          "output_type": "stream",
          "name": "stdout",
          "text": [
            "[1, 3, 2, 7, 5, 6, 4, 8, 9, 10]\n",
            "[1, 2, 3, 4, 5, 6, 7, 8, 9, 10]\n"
          ]
        }
      ],
      "source": [
        "lista = [1, 3, 2, 7, 5, 6, 4, 8, 9, 10]\n",
        "lista2 = sorted(lista)\n",
        "print(lista)\n",
        "print(lista2)"
      ]
    },
    {
      "cell_type": "code",
      "execution_count": null,
      "id": "cd79e129",
      "metadata": {
        "ExecuteTime": {
          "end_time": "2023-06-29T22:56:52.653894Z",
          "start_time": "2023-06-29T22:56:52.636248Z"
        },
        "colab": {
          "base_uri": "https://localhost:8080/"
        },
        "id": "cd79e129",
        "outputId": "c4ac3242-ef38-4459-8990-cb9c2a00f5c7"
      },
      "outputs": [
        {
          "output_type": "execute_result",
          "data": {
            "text/plain": [
              "10"
            ]
          },
          "metadata": {},
          "execution_count": 29
        }
      ],
      "source": [
        "max(lista)"
      ]
    },
    {
      "cell_type": "code",
      "execution_count": null,
      "id": "7d06c247",
      "metadata": {
        "ExecuteTime": {
          "end_time": "2023-06-29T22:56:59.905041Z",
          "start_time": "2023-06-29T22:56:59.879562Z"
        },
        "colab": {
          "base_uri": "https://localhost:8080/"
        },
        "id": "7d06c247",
        "outputId": "d5153c74-0ea0-44ed-867d-b59ab1f43b34"
      },
      "outputs": [
        {
          "output_type": "execute_result",
          "data": {
            "text/plain": [
              "1"
            ]
          },
          "metadata": {},
          "execution_count": 34
        }
      ],
      "source": [
        "min(lista)"
      ]
    },
    {
      "cell_type": "code",
      "execution_count": null,
      "id": "2e1a56b6",
      "metadata": {
        "ExecuteTime": {
          "end_time": "2023-06-29T23:09:55.227172Z",
          "start_time": "2023-06-29T23:09:49.854071Z"
        },
        "id": "2e1a56b6"
      },
      "outputs": [],
      "source": []
    },
    {
      "cell_type": "markdown",
      "id": "d9df7da1",
      "metadata": {
        "id": "d9df7da1"
      },
      "source": [
        "**Percorrer a lista**"
      ]
    },
    {
      "cell_type": "code",
      "execution_count": null,
      "id": "d53d4480",
      "metadata": {
        "ExecuteTime": {
          "end_time": "2023-06-29T23:22:53.411814Z",
          "start_time": "2023-06-29T23:22:53.402698Z"
        },
        "colab": {
          "base_uri": "https://localhost:8080/"
        },
        "id": "d53d4480",
        "outputId": "a5a56a92-c032-4765-d928-dc8f283b5046"
      },
      "outputs": [
        {
          "output_type": "stream",
          "name": "stdout",
          "text": [
            "Digite um número para inserir na lista ou 0 para encerrar: 1\n",
            "\n",
            "Digite um número para inserir na lista ou 0 para encerrar: 1\n",
            "\n",
            "Digite um número para inserir na lista ou 0 para encerrar: 1\n",
            "\n",
            "Digite um número para inserir na lista ou 0 para encerrar: 1\n",
            "\n",
            "Digite um número para inserir na lista ou 0 para encerrar: 0\n",
            "\n",
            "[1.0, 1.0, 1.0, 1.0]\n",
            "4.0\n"
          ]
        }
      ],
      "source": [
        "# Dada uma lista de números, somar os elementos dessa lista usando os índices\n",
        "numeros = []\n",
        "soma = 0\n",
        "\n",
        "while input != 0:\n",
        "    entrada = float(input(\"Digite um número para inserir na lista ou 0 para encerrar: \"))\n",
        "    print(\"\")\n",
        "    if entrada == 0:\n",
        "        break\n",
        "    else:\n",
        "        numeros.append(entrada)\n",
        "        soma += entrada\n",
        "\n",
        "print(f\"{numeros}\\n{soma}\")\n",
        "#outra forma print(f\"{numeros}\\n{sum(numeros)}\")\n",
        "\n"
      ]
    },
    {
      "cell_type": "code",
      "execution_count": null,
      "id": "bf65f123",
      "metadata": {
        "ExecuteTime": {
          "end_time": "2023-06-29T23:23:25.535201Z",
          "start_time": "2023-06-29T23:23:25.519513Z"
        },
        "id": "bf65f123"
      },
      "outputs": [],
      "source": []
    },
    {
      "cell_type": "code",
      "execution_count": null,
      "id": "a4ea6ea3",
      "metadata": {
        "ExecuteTime": {
          "end_time": "2023-06-29T23:27:35.335331Z",
          "start_time": "2023-06-29T23:27:35.312749Z"
        },
        "id": "a4ea6ea3"
      },
      "outputs": [],
      "source": []
    },
    {
      "cell_type": "code",
      "execution_count": null,
      "id": "c65aa2e3",
      "metadata": {
        "ExecuteTime": {
          "end_time": "2023-06-29T23:33:04.852539Z",
          "start_time": "2023-06-29T23:33:02.725599Z"
        },
        "id": "c65aa2e3"
      },
      "outputs": [],
      "source": []
    },
    {
      "cell_type": "code",
      "execution_count": null,
      "id": "f7d29b9c",
      "metadata": {
        "ExecuteTime": {
          "end_time": "2023-06-29T23:42:43.573109Z",
          "start_time": "2023-06-29T23:42:43.562622Z"
        },
        "id": "f7d29b9c"
      },
      "outputs": [],
      "source": []
    },
    {
      "cell_type": "code",
      "execution_count": null,
      "id": "1b5dfd34",
      "metadata": {
        "ExecuteTime": {
          "end_time": "2023-06-29T23:43:22.469671Z",
          "start_time": "2023-06-29T23:43:22.454646Z"
        },
        "id": "1b5dfd34"
      },
      "outputs": [],
      "source": []
    },
    {
      "cell_type": "code",
      "execution_count": null,
      "id": "bb5da1d9",
      "metadata": {
        "ExecuteTime": {
          "end_time": "2023-06-29T23:46:18.391787Z",
          "start_time": "2023-06-29T23:46:16.515786Z"
        },
        "id": "bb5da1d9"
      },
      "outputs": [],
      "source": []
    },
    {
      "cell_type": "markdown",
      "id": "9d63c551",
      "metadata": {
        "id": "9d63c551"
      },
      "source": [
        "**Maneiras de percorrer uma lista**\n",
        "\n",
        "numeros = [1, 3, 5, 7, 9]\n",
        "\n",
        "- Usando while\n",
        "\n",
        "Pros: Eu sei não só o elemento mas sei o indice também   \n",
        "Contra: Eu preciso controlar o índice\n",
        "\n",
        "```python\n",
        "contador = 0\n",
        "while (contador < len(numeros)):\n",
        "    print(numeros[contador])\n",
        "    contador = contador + 1  Se eu esquecer essa linha vira um loop infinito\n",
        "```\n",
        "\n",
        "\n",
        "- Jeito intermediario: for in range\n",
        "\n",
        "Pros: Sei o indice, não preciso controlar o loop  \n",
        "Contra: Precisa saber usar a função range  \n",
        "range(5) ->  [0, 1, 2, 3, 4]\n",
        "\n",
        "```python\n",
        "numeros = [1, 3, 5, 7, 9]\n",
        "for indice in range(len(numeros)):\n",
        "    print(numeros[indice])\n",
        "```\n",
        "\n",
        "\n",
        "- Usando só for (sem índice)\n",
        "\n",
        "Pros: não preciso me preocupar com o índice e nem com loop  \n",
        "Contra: não sei índice\n",
        "\n",
        "```python\n",
        "numeros = [1, 3, 5, 7, 9]\n",
        "for numero in numeros:        numero é uma especie de variavel temporaria, usamos item, elemento, etc\n",
        "    print(numero)\n",
        "```"
      ]
    },
    {
      "cell_type": "markdown",
      "id": "d9b25c6c",
      "metadata": {
        "id": "d9b25c6c"
      },
      "source": [
        "Vamos ver um exemplo:"
      ]
    },
    {
      "cell_type": "code",
      "execution_count": null,
      "id": "575436e8",
      "metadata": {
        "ExecuteTime": {
          "end_time": "2023-06-29T23:57:04.136886Z",
          "start_time": "2023-06-29T23:57:04.125680Z"
        },
        "colab": {
          "base_uri": "https://localhost:8080/"
        },
        "id": "575436e8",
        "outputId": "88118929-a5d4-4f52-d09a-c87c6c61b04c"
      },
      "outputs": [
        {
          "output_type": "stream",
          "name": "stdout",
          "text": [
            "1\n",
            "2\n",
            "3\n",
            "4\n",
            "5\n",
            "6\n",
            "7\n"
          ]
        }
      ],
      "source": [
        "numeros = [1, 2, 3, 4, 5, 6, 7]\n",
        "\n",
        "print(numeros[0])\n",
        "print(numeros[1])\n",
        "print(numeros[2])\n",
        "print(numeros[3])\n",
        "print(numeros[4])\n",
        "print(numeros[5])\n",
        "print(numeros[6])"
      ]
    },
    {
      "cell_type": "code",
      "execution_count": null,
      "id": "8026d21c",
      "metadata": {
        "ExecuteTime": {
          "end_time": "2023-06-29T23:58:36.091895Z",
          "start_time": "2023-06-29T23:58:36.078306Z"
        },
        "colab": {
          "base_uri": "https://localhost:8080/"
        },
        "id": "8026d21c",
        "outputId": "1dc2f9d5-bd11-45d3-d71f-89d6cb4fc418"
      },
      "outputs": [
        {
          "output_type": "stream",
          "name": "stdout",
          "text": [
            "1\n",
            "2\n",
            "3\n",
            "4\n",
            "5\n",
            "6\n",
            "7\n"
          ]
        }
      ],
      "source": [
        "numeros = [1, 2, 3, 4, 5, 6, 7]\n",
        "cont = 0\n",
        "while cont < len(numeros):\n",
        "    print(numeros[cont])\n",
        "    cont = cont + 1\n"
      ]
    },
    {
      "cell_type": "code",
      "source": [
        "print(lista[2:8:2])\n",
        "print(list(range(len(numeros))))"
      ],
      "metadata": {
        "colab": {
          "base_uri": "https://localhost:8080/"
        },
        "id": "pSNcOb3TRvav",
        "outputId": "918a8088-dc14-425e-93be-43c8b19b6216"
      },
      "id": "pSNcOb3TRvav",
      "execution_count": null,
      "outputs": [
        {
          "output_type": "stream",
          "name": "stdout",
          "text": [
            "[2, 5, 4]\n",
            "[0, 1, 2, 3, 4, 5, 6]\n"
          ]
        }
      ]
    },
    {
      "cell_type": "code",
      "source": [
        "for indice in range(len(numeros)):\n",
        "    print(numeros[indice])"
      ],
      "metadata": {
        "colab": {
          "base_uri": "https://localhost:8080/"
        },
        "id": "E3JqeJH4U12t",
        "outputId": "67845b15-53f8-4706-a923-da7fe53735c7"
      },
      "id": "E3JqeJH4U12t",
      "execution_count": null,
      "outputs": [
        {
          "output_type": "stream",
          "name": "stdout",
          "text": [
            "1\n",
            "2\n",
            "3\n",
            "4\n",
            "5\n",
            "6\n",
            "7\n"
          ]
        }
      ]
    },
    {
      "cell_type": "code",
      "source": [
        "numeros = [1, 2, 3, 4, 5, 6, 7]\n",
        "for numero in numeros:\n",
        "    print(numero)"
      ],
      "metadata": {
        "id": "ljxog3IwU6A2"
      },
      "id": "ljxog3IwU6A2",
      "execution_count": null,
      "outputs": []
    },
    {
      "cell_type": "code",
      "source": [
        "nome_alunos = [\"Nara\", \"Naiara\", \"Thais\", \"Thiago\", \"Rodrigo\", \"Renan\"]\n",
        "for nome in nome_alunos:\n",
        "    print(nome)"
      ],
      "metadata": {
        "colab": {
          "base_uri": "https://localhost:8080/"
        },
        "id": "HedWL1dYVbDI",
        "outputId": "5f9fec87-9fab-4520-f6f8-6f589ef66c78"
      },
      "id": "HedWL1dYVbDI",
      "execution_count": null,
      "outputs": [
        {
          "output_type": "stream",
          "name": "stdout",
          "text": [
            "Nara\n",
            "Naiara\n",
            "Thais\n",
            "Thiago\n",
            "Rodrigo\n",
            "Renan\n"
          ]
        }
      ]
    },
    {
      "cell_type": "markdown",
      "id": "efb6b72d",
      "metadata": {
        "id": "efb6b72d"
      },
      "source": [
        "**Exercícios**"
      ]
    },
    {
      "cell_type": "markdown",
      "id": "80de8ffc",
      "metadata": {
        "id": "80de8ffc"
      },
      "source": [
        "1. Crie uma lista qualquer e faça um programa que imprima cada elemento da lista usando o for."
      ]
    },
    {
      "cell_type": "code",
      "execution_count": null,
      "id": "4afe9330",
      "metadata": {
        "ExecuteTime": {
          "end_time": "2023-06-30T00:28:06.089625Z",
          "start_time": "2023-06-30T00:28:06.070133Z"
        },
        "colab": {
          "base_uri": "https://localhost:8080/"
        },
        "id": "4afe9330",
        "outputId": "93fbd2aa-d30e-4e80-f66f-6da4edd6f322"
      },
      "outputs": [
        {
          "output_type": "stream",
          "name": "stdout",
          "text": [
            "1\n",
            "2\n",
            "3\n",
            "4\n",
            "5\n",
            "6\n",
            "7\n",
            "8\n",
            "9\n",
            "10\n"
          ]
        }
      ],
      "source": [
        "lista = [1, 2, 3, 4, 5]\n",
        "for num in lista:\n",
        "    print(num)"
      ]
    },
    {
      "cell_type": "code",
      "execution_count": null,
      "id": "db91686b",
      "metadata": {
        "ExecuteTime": {
          "end_time": "2023-06-30T00:29:01.575343Z",
          "start_time": "2023-06-30T00:29:01.569330Z"
        },
        "id": "db91686b"
      },
      "outputs": [],
      "source": []
    },
    {
      "cell_type": "code",
      "execution_count": null,
      "id": "c045c4ec",
      "metadata": {
        "ExecuteTime": {
          "end_time": "2023-06-30T00:30:28.135037Z",
          "start_time": "2023-06-30T00:30:28.126561Z"
        },
        "id": "c045c4ec"
      },
      "outputs": [],
      "source": []
    },
    {
      "cell_type": "markdown",
      "id": "5ba15420",
      "metadata": {
        "id": "5ba15420"
      },
      "source": [
        "2. Faça um programa que imprima todos os itens de uma lista usando while e compare com o exercício 1.\n",
        "\n"
      ]
    },
    {
      "cell_type": "code",
      "execution_count": null,
      "id": "7e410b03",
      "metadata": {
        "ExecuteTime": {
          "end_time": "2023-06-30T00:32:38.591587Z",
          "start_time": "2023-06-30T00:32:38.581504Z"
        },
        "id": "7e410b03",
        "colab": {
          "base_uri": "https://localhost:8080/"
        },
        "outputId": "9eacf893-b318-4483-98cd-a7d7de080d04"
      },
      "outputs": [
        {
          "output_type": "stream",
          "name": "stdout",
          "text": [
            "Item: 1\n",
            "Item: 2\n",
            "Item: 3\n",
            "Item: 4\n",
            "Item: 5\n"
          ]
        }
      ],
      "source": [
        "lista = [1, 2, 3, 4, 5]\n",
        "i = 0\n",
        "\n",
        "while i < len(lista):\n",
        "    print(f\"Item: {lista[i]}\")\n",
        "    i +=1"
      ]
    },
    {
      "cell_type": "markdown",
      "id": "b8fc8680",
      "metadata": {
        "id": "b8fc8680"
      },
      "source": [
        "3) Faça um programa que peça para o usuário digitar um número n e imprima uma lista com todos os números de 0 a n-1."
      ]
    },
    {
      "cell_type": "code",
      "execution_count": null,
      "id": "e4c19751",
      "metadata": {
        "ExecuteTime": {
          "end_time": "2023-06-30T00:36:12.335746Z",
          "start_time": "2023-06-30T00:36:10.254113Z"
        },
        "id": "e4c19751",
        "colab": {
          "base_uri": "https://localhost:8080/"
        },
        "outputId": "f0e69744-439d-4782-db42-12e425fa596d"
      },
      "outputs": [
        {
          "output_type": "stream",
          "name": "stdout",
          "text": [
            "Digite qualquer número: 10\n",
            "[0, 1, 2, 3, 4, 5, 6, 7, 8, 9]\n"
          ]
        }
      ],
      "source": [
        "n = int(input(\"Digite qualquer número: \"))\n",
        "\n",
        "lista = list(range(n))\n",
        "\n",
        "print(lista)"
      ]
    },
    {
      "cell_type": "code",
      "execution_count": null,
      "id": "68004d4f",
      "metadata": {
        "ExecuteTime": {
          "end_time": "2023-06-30T00:37:33.286644Z",
          "start_time": "2023-06-30T00:37:31.718426Z"
        },
        "id": "68004d4f",
        "colab": {
          "base_uri": "https://localhost:8080/"
        },
        "outputId": "91d9d1b3-2345-40f4-a5ef-49e0c7ce5f74"
      },
      "outputs": [
        {
          "output_type": "stream",
          "name": "stdout",
          "text": [
            "n = 10\n",
            "[0, 1, 2, 3, 4, 5, 6, 7, 8, 9]\n"
          ]
        }
      ],
      "source": [
        "n = int(input(\"n = \"))\n",
        "\n",
        "lista = []\n",
        "\n",
        "for i in range(n):\n",
        "    lista.append(i)\n",
        "\n",
        "print(lista)"
      ]
    },
    {
      "cell_type": "code",
      "execution_count": null,
      "id": "56ddb966",
      "metadata": {
        "ExecuteTime": {
          "end_time": "2023-06-30T00:37:54.324393Z",
          "start_time": "2023-06-30T00:37:52.698680Z"
        },
        "id": "56ddb966"
      },
      "outputs": [],
      "source": []
    },
    {
      "cell_type": "markdown",
      "id": "2a24e132",
      "metadata": {
        "id": "2a24e132"
      },
      "source": [
        "4. Faça um programa que olhe todos os itens de uma lista e diga quantos deles são pares."
      ]
    },
    {
      "cell_type": "code",
      "execution_count": null,
      "id": "167af989",
      "metadata": {
        "ExecuteTime": {
          "end_time": "2023-06-30T00:40:26.677401Z",
          "start_time": "2023-06-30T00:40:26.667897Z"
        },
        "id": "167af989",
        "colab": {
          "base_uri": "https://localhost:8080/"
        },
        "outputId": "d55aafde-919a-4a81-a939-2af4dcffbdba"
      },
      "outputs": [
        {
          "output_type": "stream",
          "name": "stdout",
          "text": [
            "5\n"
          ]
        }
      ],
      "source": [
        "num = [1, 2, 3, 4, 5, 6, 7, 8, 9, 10]\n",
        "pares = 0\n",
        "\n",
        "for i in num:\n",
        "    if i % 2 == 0:\n",
        "        pares += 1\n",
        "\n",
        "print(pares)"
      ]
    },
    {
      "cell_type": "code",
      "execution_count": null,
      "id": "b7c5e7eb",
      "metadata": {
        "ExecuteTime": {
          "end_time": "2023-06-30T00:42:50.875811Z",
          "start_time": "2023-06-30T00:42:50.847667Z"
        },
        "id": "b7c5e7eb"
      },
      "outputs": [],
      "source": []
    },
    {
      "cell_type": "markdown",
      "id": "d18b5e09",
      "metadata": {
        "id": "d18b5e09"
      },
      "source": [
        "5. Faça um programa que imprima o maior número de uma lista, sem usar o método max()"
      ]
    },
    {
      "cell_type": "code",
      "execution_count": null,
      "id": "9fca7730",
      "metadata": {
        "ExecuteTime": {
          "end_time": "2023-06-30T00:43:38.103964Z",
          "start_time": "2023-06-30T00:43:38.087649Z"
        },
        "id": "9fca7730",
        "colab": {
          "base_uri": "https://localhost:8080/"
        },
        "outputId": "4a863641-d6ff-4297-bcaf-684f4843dc39"
      },
      "outputs": [
        {
          "output_type": "stream",
          "name": "stdout",
          "text": [
            "22\n"
          ]
        }
      ],
      "source": [
        "lista = [1 , 22 , 3, 5, 9]\n",
        "maior = lista[0]\n",
        "\n",
        "for i in lista:\n",
        "    if i > maior:\n",
        "        maior = i\n",
        "\n",
        "print(maior)"
      ]
    },
    {
      "cell_type": "code",
      "execution_count": null,
      "id": "397a3869",
      "metadata": {
        "ExecuteTime": {
          "end_time": "2023-06-30T00:44:52.164241Z",
          "start_time": "2023-06-30T00:44:52.141961Z"
        },
        "id": "397a3869"
      },
      "outputs": [],
      "source": []
    },
    {
      "cell_type": "code",
      "execution_count": null,
      "id": "b2de34f2",
      "metadata": {
        "ExecuteTime": {
          "end_time": "2023-06-30T00:47:07.551587Z",
          "start_time": "2023-06-30T00:47:07.534567Z"
        },
        "id": "b2de34f2"
      },
      "outputs": [],
      "source": []
    },
    {
      "cell_type": "markdown",
      "id": "de77429c",
      "metadata": {
        "id": "de77429c"
      },
      "source": [
        "6. Agora usando o método max() faça um programa que imprima os três maiores números de uma lista."
      ]
    },
    {
      "cell_type": "code",
      "execution_count": null,
      "id": "b7811538",
      "metadata": {
        "ExecuteTime": {
          "end_time": "2023-06-30T00:49:02.203695Z",
          "start_time": "2023-06-30T00:49:02.189583Z"
        },
        "colab": {
          "base_uri": "https://localhost:8080/"
        },
        "id": "b7811538",
        "outputId": "1488e4e6-b936-4730-e4c2-44f499af1247"
      },
      "outputs": [
        {
          "output_type": "stream",
          "name": "stdout",
          "text": [
            "[81, 10, 7]\n"
          ]
        }
      ],
      "source": [
        "num = [1, 5, 6, 81, 7, 10]\n",
        "maior = []\n",
        "\n",
        "for i in range(3):\n",
        "    maior.append(max(num))\n",
        "    num.remove(max(num))\n",
        "\n",
        "print(maior)"
      ]
    },
    {
      "cell_type": "markdown",
      "id": "805a40b8",
      "metadata": {
        "id": "805a40b8"
      },
      "source": [
        "7. Faça um programa que, dadas duas listas de mesmo tamanho, crie uma nova lista com cada elemento igual a soma dos elementos da lista 1 com os da lista 2, na mesma posição."
      ]
    },
    {
      "cell_type": "code",
      "execution_count": null,
      "id": "6819a3bd",
      "metadata": {
        "ExecuteTime": {
          "end_time": "2023-06-30T01:01:48.670088Z",
          "start_time": "2023-06-30T01:01:48.649865Z"
        },
        "colab": {
          "base_uri": "https://localhost:8080/"
        },
        "id": "6819a3bd",
        "outputId": "9589839f-c038-46f7-dae8-97d02764e57e"
      },
      "outputs": [
        {
          "output_type": "stream",
          "name": "stdout",
          "text": [
            "[21, 27, 18, 18, 15, 7]\n"
          ]
        }
      ],
      "source": [
        "lista1 = [1, 5, 7, 1, 2, 3]\n",
        "lista2 = [20, 22, 11, 17, 13, 4]\n",
        "lista3 = []\n",
        "\n",
        "for i in range(len(lista1)):\n",
        "    lista3.append(lista1[i] + lista2[i])\n",
        "\n",
        "print(lista3)"
      ]
    },
    {
      "cell_type": "markdown",
      "id": "d2ee0a79",
      "metadata": {
        "id": "d2ee0a79"
      },
      "source": [
        "8. Faça um programa que dadas duas listas de mesmo tamanho, imprima o produto escalar entre elas."
      ]
    },
    {
      "cell_type": "code",
      "execution_count": null,
      "id": "ccfcd767",
      "metadata": {
        "ExecuteTime": {
          "end_time": "2023-06-30T00:55:17.103825Z",
          "start_time": "2023-06-30T00:55:17.078094Z"
        },
        "id": "ccfcd767"
      },
      "outputs": [],
      "source": [
        "lista1 = [1, 4, 5]\n",
        "lista2 = [2, 2, 3]\n",
        "soma = 0\n",
        "\n",
        "for i in range(len(lista1)):\n",
        "    soma = soma + lista1[i]*lista2[i]\n",
        "print(soma)"
      ]
    },
    {
      "cell_type": "markdown",
      "id": "551c234e",
      "metadata": {
        "id": "551c234e"
      },
      "source": [
        "9. Faça um programa que pede para o usuário digitar 5 números e, ao final, imprime uma lista com os 5 números digitados pelo usuário (sem converter os números para int ou float)."
      ]
    },
    {
      "cell_type": "code",
      "execution_count": null,
      "id": "1083f943",
      "metadata": {
        "ExecuteTime": {
          "end_time": "2023-06-30T00:58:14.308593Z",
          "start_time": "2023-06-30T00:58:02.724853Z"
        },
        "id": "1083f943"
      },
      "outputs": [],
      "source": [
        "lista = []\n",
        "for i in range(5):\n",
        "    num = input(\"Digite um número: \")\n",
        "    lista.append(num)\n",
        "print(lista)"
      ]
    },
    {
      "cell_type": "markdown",
      "id": "437b4b02",
      "metadata": {
        "id": "437b4b02"
      },
      "source": [
        "10. Pegue a lista gerada no exercício anterior e transforme cada um dos itens dessa lista em um float."
      ]
    },
    {
      "cell_type": "code",
      "execution_count": null,
      "id": "ac33840d",
      "metadata": {
        "ExecuteTime": {
          "end_time": "2023-06-30T00:57:02.197028Z",
          "start_time": "2023-06-30T00:57:02.178601Z"
        },
        "colab": {
          "base_uri": "https://localhost:8080/"
        },
        "id": "ac33840d",
        "outputId": "48c538a3-c9c1-4866-e8c6-d9cef96a6474"
      },
      "outputs": [
        {
          "output_type": "stream",
          "name": "stdout",
          "text": [
            "[5.0, 6.0, 7.0, 3.0, 2.5]\n"
          ]
        }
      ],
      "source": [
        "num = [\"5\", \"6\", \"7\", \"3\", \"2.5\" ]\n",
        "\n",
        "for i in range(len(num)):\n",
        "    num[i] = float(num[i])\n",
        "\n",
        "print(num)"
      ]
    },
    {
      "cell_type": "code",
      "execution_count": null,
      "id": "8c31450c",
      "metadata": {
        "ExecuteTime": {
          "end_time": "2023-06-30T00:59:44.028566Z",
          "start_time": "2023-06-30T00:59:44.008261Z"
        },
        "id": "8c31450c"
      },
      "outputs": [],
      "source": []
    },
    {
      "cell_type": "markdown",
      "id": "1f274ced",
      "metadata": {
        "id": "1f274ced"
      },
      "source": [
        "11. Faça um Programa que peça as 4 notas bimestrais e mostre a média, usando listas."
      ]
    },
    {
      "cell_type": "code",
      "execution_count": null,
      "id": "7211dfca",
      "metadata": {
        "ExecuteTime": {
          "end_time": "2023-06-30T01:00:21.646709Z",
          "start_time": "2023-06-30T01:00:14.613647Z"
        },
        "id": "7211dfca"
      },
      "outputs": [],
      "source": [
        "lista = []\n",
        "\n",
        "for i in range(4):\n",
        "    nota = float(input(\"Digite a nota: \"))\n",
        "    lista.append(nota)\n",
        "print(sum(lista) / len(lista))"
      ]
    },
    {
      "cell_type": "code",
      "execution_count": null,
      "id": "0beeca4f",
      "metadata": {
        "id": "0beeca4f"
      },
      "outputs": [],
      "source": []
    }
  ],
  "metadata": {
    "kernelspec": {
      "display_name": "Python 3 (ipykernel)",
      "language": "python",
      "name": "python3"
    },
    "language_info": {
      "codemirror_mode": {
        "name": "ipython",
        "version": 3
      },
      "file_extension": ".py",
      "mimetype": "text/x-python",
      "name": "python",
      "nbconvert_exporter": "python",
      "pygments_lexer": "ipython3",
      "version": "3.10.9"
    },
    "varInspector": {
      "cols": {
        "lenName": 16,
        "lenType": 16,
        "lenVar": 40
      },
      "kernels_config": {
        "python": {
          "delete_cmd_postfix": "",
          "delete_cmd_prefix": "del ",
          "library": "var_list.py",
          "varRefreshCmd": "print(var_dic_list())"
        },
        "r": {
          "delete_cmd_postfix": ") ",
          "delete_cmd_prefix": "rm(",
          "library": "var_list.r",
          "varRefreshCmd": "cat(var_dic_list()) "
        }
      },
      "types_to_exclude": [
        "module",
        "function",
        "builtin_function_or_method",
        "instance",
        "_Feature"
      ],
      "window_display": false
    },
    "colab": {
      "provenance": [],
      "include_colab_link": true
    }
  },
  "nbformat": 4,
  "nbformat_minor": 5
}