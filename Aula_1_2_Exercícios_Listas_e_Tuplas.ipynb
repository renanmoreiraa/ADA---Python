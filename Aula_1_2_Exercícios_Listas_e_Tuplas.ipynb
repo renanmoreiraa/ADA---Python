{
  "cells": [
    {
      "cell_type": "markdown",
      "metadata": {
        "id": "view-in-github",
        "colab_type": "text"
      },
      "source": [
        "<a href=\"https://colab.research.google.com/github/renanmoreiraa/ADA---Python/blob/master/Aula_1_2_Exerc%C3%ADcios_Listas_e_Tuplas.ipynb\" target=\"_parent\"><img src=\"https://colab.research.google.com/assets/colab-badge.svg\" alt=\"Open In Colab\"/></a>"
      ]
    },
    {
      "cell_type": "markdown",
      "metadata": {
        "id": "rTurmX79ZQVr"
      },
      "source": [
        "# Aula 1 | Exercícios de listas e tuplas"
      ]
    },
    {
      "cell_type": "markdown",
      "metadata": {
        "id": "LdHqzxVjZQVs"
      },
      "source": [
        "### Questão 1\n",
        "Crie uma lista vazia chamada frutas. Adicione três frutas à lista e, em seguida, imprima a lista."
      ]
    },
    {
      "cell_type": "code",
      "source": [
        "frutas = []\n",
        "frutas.append(\"maça\")\n",
        "frutas.append(\"banana\")\n",
        "frutas.append(\"uva\")\n",
        "print(frutas)"
      ],
      "metadata": {
        "colab": {
          "base_uri": "https://localhost:8080/"
        },
        "id": "miGGPR6FZR5d",
        "outputId": "d288a5df-a7f4-402a-abee-433bdc8fbd3a"
      },
      "execution_count": 2,
      "outputs": [
        {
          "output_type": "stream",
          "name": "stdout",
          "text": [
            "['maça', 'banana', 'uva']\n"
          ]
        }
      ]
    },
    {
      "cell_type": "markdown",
      "metadata": {
        "id": "yuQz4ijjZQVs"
      },
      "source": [
        "### Questão 2\n",
        "\n",
        "Dada a lista numeros = [1, 2, 3, 4, 5], escreva um programa para calcular a soma de todos os números na lista."
      ]
    },
    {
      "cell_type": "code",
      "source": [
        "lista_numeros = [1, 2, 3, 4, 5]\n",
        "soma = sum(lista_numeros)\n",
        "print(soma)"
      ],
      "metadata": {
        "colab": {
          "base_uri": "https://localhost:8080/"
        },
        "id": "9ynv0a2vZh-Y",
        "outputId": "5995c2a5-7fcb-4dad-ba60-1ffafc2a26a0"
      },
      "execution_count": 4,
      "outputs": [
        {
          "output_type": "stream",
          "name": "stdout",
          "text": [
            "15\n"
          ]
        }
      ]
    },
    {
      "cell_type": "markdown",
      "metadata": {
        "id": "x933ZJGlZQVt"
      },
      "source": [
        "### Questão 3\n",
        "\n",
        "Crie uma tupla chamada meses contendo os nomes dos meses do ano. Peça ao usuário para digitar um número de 1 a 12 e imprima o mês correspondente. Lembre-se de tratar casos inválidos."
      ]
    },
    {
      "cell_type": "code",
      "source": [
        "meses = (\"Janeiro\", \"Fevereiro\", \"Março\", \"Abril\", \"Maio\", \"Junho\", \"Julho\", \"Agosto\", \"Setembro\", \"Outubro\", \"Novembro\", \"Dezembro\")\n",
        "num = int(input(\"Digite um número de 1 a 12: \"))\n",
        "\n",
        "if num < 1 or num > 12:\n",
        "    print(\"Número inválido\")\n",
        "else:\n",
        "    print(meses[num-1])"
      ],
      "metadata": {
        "colab": {
          "base_uri": "https://localhost:8080/"
        },
        "id": "SqYJzB4uZuq4",
        "outputId": "7713194c-c7fa-4967-e787-65c2197fd3bb"
      },
      "execution_count": 17,
      "outputs": [
        {
          "output_type": "stream",
          "name": "stdout",
          "text": [
            "Digite um número de 1 a 12: 3\n",
            "Março\n"
          ]
        }
      ]
    },
    {
      "cell_type": "markdown",
      "metadata": {
        "id": "zpRc5pRfZQVt"
      },
      "source": [
        "### Questão 4\n",
        "\n",
        "Dada uma lista de números, crie uma nova lista chamada squared que contenha o quadrado de cada número da lista original."
      ]
    },
    {
      "cell_type": "code",
      "source": [
        "lista_num = [1, 2, 3, 4, 5]\n",
        "squared = [i**2 for i in lista_num]\n",
        "print(squared)"
      ],
      "metadata": {
        "colab": {
          "base_uri": "https://localhost:8080/"
        },
        "id": "0gQUx3BFa2UH",
        "outputId": "1b2fdc7b-b0cc-4338-b332-aabfb35d848f"
      },
      "execution_count": 18,
      "outputs": [
        {
          "output_type": "stream",
          "name": "stdout",
          "text": [
            "[1, 4, 9, 16, 25]\n"
          ]
        }
      ]
    },
    {
      "cell_type": "markdown",
      "metadata": {
        "id": "iJVcnjwSZQVt"
      },
      "source": [
        "### Questão 5\n",
        "\n",
        "Escreva um programa que recebe uma lista de palavras e retorna a lista apenas com as palavras que começam com a letra 'a'. Use uma função para fazer isso."
      ]
    },
    {
      "cell_type": "code",
      "source": [
        "def filtrar(palavras):\n",
        "    return [palavra for palavra in palavras if palavra.lower().startswith('a')]\n",
        "\n",
        "lista_de_palavras = [\"abacaxi\", \"banana\", \"ameixa\", \"laranja\", \"amora\"]\n",
        "palavras_com_a = filtrar(lista_de_palavras)\n",
        "\n",
        "print(palavras_com_a)"
      ],
      "metadata": {
        "colab": {
          "base_uri": "https://localhost:8080/"
        },
        "id": "6G9CGGIubnay",
        "outputId": "01913b55-5769-47fb-b1a6-a13573d1ecd4"
      },
      "execution_count": 22,
      "outputs": [
        {
          "output_type": "stream",
          "name": "stdout",
          "text": [
            "['abacaxi', 'ameixa', 'amora']\n"
          ]
        }
      ]
    },
    {
      "cell_type": "markdown",
      "metadata": {
        "id": "X0bev4z8ZQVt"
      },
      "source": [
        "### Questão 6\n",
        "\n",
        "Considere a lista [(4, 5), (4, ), (8, 6, 7), (1, ), (3, 4, 6, 7)]. Faça um programa que remova as tuplas de tamanho k.  \n"
      ]
    },
    {
      "cell_type": "code",
      "source": [
        "lista = [(4, 5), (4, ), (8, 6, 7), (1, ), (3, 4, 6, 7)]\n",
        "k = 2\n",
        "nova_lista = [tupla for tupla in lista if len(tupla) != k]\n",
        "print(nova_lista)"
      ],
      "metadata": {
        "colab": {
          "base_uri": "https://localhost:8080/"
        },
        "id": "cpvnXKCKccrd",
        "outputId": "34efb2c4-a186-48e7-ab2a-38a610674dce"
      },
      "execution_count": 23,
      "outputs": [
        {
          "output_type": "stream",
          "name": "stdout",
          "text": [
            "[(4,), (8, 6, 7), (1,), (3, 4, 6, 7)]\n"
          ]
        }
      ]
    },
    {
      "cell_type": "code",
      "source": [
        "#outra resolução\n",
        "#função\n",
        "def remover_tuplas(lista_de_tuplas, k):\n",
        "    return [tupla for tupla in lista_de_tuplas if len(tupla) != k]\n",
        "\n",
        "lista = [(4, 5), (4,), (8, 6, 7), (1,), (3, 4, 6, 7)]\n",
        "k = 2\n",
        "lista_filtrada = remover_tuplas(lista, k)\n",
        "\n",
        "print(lista_filtrada)\n"
      ],
      "metadata": {
        "colab": {
          "base_uri": "https://localhost:8080/"
        },
        "id": "v7P7fES3d6da",
        "outputId": "26bdd083-b00f-45f5-ab8a-81a85b821669"
      },
      "execution_count": 26,
      "outputs": [
        {
          "output_type": "stream",
          "name": "stdout",
          "text": [
            "[(4,), (8, 6, 7), (1,), (3, 4, 6, 7)]\n"
          ]
        }
      ]
    }
  ],
  "metadata": {
    "kernelspec": {
      "display_name": "Python 3",
      "language": "python",
      "name": "python3"
    },
    "language_info": {
      "codemirror_mode": {
        "name": "ipython",
        "version": 3
      },
      "file_extension": ".py",
      "mimetype": "text/x-python",
      "name": "python",
      "nbconvert_exporter": "python",
      "pygments_lexer": "ipython3",
      "version": "3.11.2"
    },
    "colab": {
      "provenance": [],
      "include_colab_link": true
    }
  },
  "nbformat": 4,
  "nbformat_minor": 0
}