{
  "nbformat": 4,
  "nbformat_minor": 0,
  "metadata": {
    "colab": {
      "provenance": [],
      "authorship_tag": "ABX9TyOUzUCxZQUgCTT0oTx15YRC",
      "include_colab_link": true
    },
    "kernelspec": {
      "name": "python3",
      "display_name": "Python 3"
    },
    "language_info": {
      "name": "python"
    }
  },
  "cells": [
    {
      "cell_type": "markdown",
      "metadata": {
        "id": "view-in-github",
        "colab_type": "text"
      },
      "source": [
        "<a href=\"https://colab.research.google.com/github/renanmoreiraa/ADA---Python/blob/master/Avalia%C3%A7%C3%A3oADA_Coding_Tank.ipynb\" target=\"_parent\"><img src=\"https://colab.research.google.com/assets/colab-badge.svg\" alt=\"Open In Colab\"/></a>"
      ]
    },
    {
      "cell_type": "markdown",
      "source": [
        "Questão 1:\n",
        "Na área de registro de pagamento de um grande banco, é importantíssimo que os dados sejam tratados apropriadamente. Sendo assim, é fundamental que os tipos de variáveis sejam definidos de acordo com a finalidade a que se destinam. Isto posto, considere o trecho de código abaixo, parte de um sistema de processamento de dados de pagamentos:\n",
        "\n",
        "v = input(\"Digite o valor da compra: \")\n",
        "Avaliando as assertivas que se seguem, assinale a alternativa correta.\n",
        "\n",
        "I – a variável v será do tipo str (string).\n",
        "\n",
        "II – sabemos que operações algébricas serão feitas com a variável v no decorrer do programa. Sendo assim, o tipo desta variável é irrelevante.\n",
        "\n",
        "III – a variável v será sempre numérica, dado que a instrução no input indica claramente que seja digitado um valor de compra (que é numérico)\n",
        "\n",
        "a) Apenas a assertiva I é correta\n",
        "b) Apenas a assertiva II é correta\n",
        "c) Apenas a assertiva III é correta\n",
        "d) Todas as assertivas são corretas\n",
        "e) Todas as assertivas são incorretas\n"
      ],
      "metadata": {
        "id": "PSTudUNsDy5O"
      }
    },
    {
      "cell_type": "code",
      "execution_count": null,
      "metadata": {
        "id": "gE2SNp3iDe2L"
      },
      "outputs": [],
      "source": [
        "#Resposta: a)\n",
        "#I é verdadeira pq o input sempre retorna o valor em string caso nao seja dito que o input é int/float.\n",
        "#II é incorreta pois \"v\" continua sendo string e não é possivel fazer operações algébricas com ela.\n",
        "#III é incorreta pois se o usuário digitar uma letra esse valor vai ser atribuido a variável \"v\", para que isso nao ocorra é necessario fazer validação."
      ]
    },
    {
      "cell_type": "markdown",
      "source": [
        "Questão 2:\n",
        "Como parte do código de uma rotina de processamento de informações financeiras, precisamos guardar, em uma lista, informações sobre as taxas de manutenção cobradas em certos tipos de contas. No que diz respeito à inicialização de listas em Python, avalie as formas de inicialização abaixo, indicando a alternativa correta:\n",
        "\n",
        "I) lista_taxas = []\n",
        "II) lista_taxas = (0.08, 0.09)\n",
        "III) lista_taxas = list[0.08, 0.09]\n",
        "IV) lista_taxas = [0.08, 0.09]\n",
        "V) lista_taxas = list(“89”)\n",
        "\n",
        "a) Nenhuma das formas acima é uma maneira válida de inicializar uma lista em Python\n",
        "b) Apenas as alternativas I e II são válidas para inicializar uma lista em Python\n",
        "c) Apenas as alternativas II, III e IV são válidas para inicializar uma lista em Python\n",
        "d) Apenas as alternativas I, IV e V são válidas para inicializar uma lista em Python\n",
        "e) Todas as alternativas são opções viáveis de inicialização de listas em Python"
      ],
      "metadata": {
        "id": "hFkCbzTqFeAW"
      }
    },
    {
      "cell_type": "code",
      "source": [
        "#Resposta: d)\n",
        "#I Inicializa com uma lista vazia, pois nao a nada dentro dos colchetes.\n",
        "#II Incorreto. Para inicializar precisaria estar entre colchetes [0.08, 0.09] assim como a alternativa IV.\n",
        "#III Incorreto pois o list precisaria estar com parenteses. list([]).\n",
        "#IV Inicializa com dois elementos, o \"0.08\" e \"0.09\".\n",
        "#V Inicializaria uma lista com os caracteres da string \"89\"."
      ],
      "metadata": {
        "id": "Hq7MfCswFkxb"
      },
      "execution_count": null,
      "outputs": []
    },
    {
      "cell_type": "markdown",
      "source": [
        "Questão 3:\n",
        "Como parte da equipe de facilities de um banco, você precisa implementar um código em Python que calcula o preço total de uma compra, dado o preço unitário de um dado produto (armazenado na variável preco) e a quantidade de unidades compradas (armazenado na variável quantidade). Assuma que temos apenas um único produto comprado. Assinale a alternativa que corretamente implementa este procedimento:\n",
        "\n",
        "a) preco_total = quantidade *= preco\n",
        "\n",
        "b) preco_total = quantidade * preco\n",
        "\n",
        "c) preco_total = quantidade += preco\n",
        "\n",
        "d) preco_total = quantidade / preco\n",
        "\n",
        "e) nda"
      ],
      "metadata": {
        "id": "Diblt-XrKb8f"
      }
    },
    {
      "cell_type": "code",
      "source": [
        "#Resposta: b)\n",
        "#Está correta pois a variável preco_total é igual a quatidade de produtos multiplicados pelo preço, ou seja um produto que vale 50 e a quantidade seja igual a 2 o preço total seria 100.\n",
        "#As outras alternativas utilizam sintaxes invalidas ou operaçoes matematicas que nao fazem sentido para calcular o preço total da compra. Ex: preco_total = quantidade / preco."
      ],
      "metadata": {
        "id": "HE5SX5JHKePR"
      },
      "execution_count": null,
      "outputs": []
    },
    {
      "cell_type": "markdown",
      "source": [
        "Questão 4:\n",
        "Analise o seguinte código e indique a alternativa que corretamente indica as mensagens que foram exibidas na tela:\n",
        "\n",
        "var_a = 4\n",
        "var_b = -6\n",
        "var_c = 8\n",
        "\n",
        "if var_a > var_b:\n",
        "    print('Saída 1')\n",
        "    \n",
        "if var_a > var_c:\n",
        "    print('Saída 2')\n",
        "elif var_a > var_b + var_c:\n",
        "    print('Saída 3')\n",
        "else:\n",
        "    print('Saída 4')\n",
        "    \n",
        "print('Saída 5')\n",
        "a) Saída 5\n",
        "b) Saída 1 e Saída 3\n",
        "c) Saída 1 e Saída 5\n",
        "d) Saída 1, Saída 3 e Saída 5\n",
        "e) Saída 1, Saída 4 e Saída 5\n",
        "\n"
      ],
      "metadata": {
        "id": "mRH9P-5QMscB"
      }
    },
    {
      "cell_type": "code",
      "source": [
        "#Resposta: d)\n",
        "#Saída 1 estaria certo pois o valor atribuido a var_a é maior que o valor de var_b.\n",
        "#Saída 2 estaria errado pois o valor atribuido a var_a é menor que o valor de var_c.\n",
        "#Saída 3 estaria certo pois o valor atribuido a var_a é maior que o valor de var_b + var_c.\n",
        "#Saída 4 estaria errado pois o valor atribuido a var_a é maior que o valor de var_b + var_c e a condição anterior ja tinha sido dada como verdadeira.\n",
        "#Saída 5 está correto pois printa no final do código e seria executado de qualquer forma."
      ],
      "metadata": {
        "id": "NoEwawg1MvNW"
      },
      "execution_count": null,
      "outputs": []
    },
    {
      "cell_type": "markdown",
      "source": [
        "Questão 5:\n",
        "Sobre operadores condicionais em Python, avalie as afirmativas abaixo como verdadeiras ou falsas:\n",
        "\n",
        "V I) O uso de : é obrigatório para indicar o final da condição a ser avaliada em um bloco if; F II) Identação é opcional no Python; F III) O que indica o final de um bloco if é o else ao final; V IV) Obrigatoriamente deve existir ao menos um comando dentro da estrutura de um if (isto é, no bloco identado após o :); V V) Obrigatoriamente deve existir ao menos um comando dentro da estrutura de um elif (isto é, no bloco identado após o :);\n",
        "\n",
        "São verdadeiras as afirmativas:\n",
        "\n",
        "a) IV) e V), apenas\n",
        "b) I) e III), apenas\n",
        "c) I), IV) e V), apenas\n",
        "d) II) e IV), apenas\n",
        "e) I), III) e V), apenas"
      ],
      "metadata": {
        "id": "FlrwM5UJFps2"
      }
    },
    {
      "cell_type": "code",
      "source": [
        "ANULADA"
      ],
      "metadata": {
        "id": "iTzP6zZTFtUD"
      },
      "execution_count": null,
      "outputs": []
    },
    {
      "cell_type": "markdown",
      "source": [
        "Questão 6:\n",
        "Considere o seguinte trecho de código em Python:\n",
        "\n",
        "lista_1 = [0, 1, 2, 3, 4]\n",
        "lista_2 = lista_1[:]\n",
        "lista_2[0] = 42\n",
        "print(lista_1[0])\n",
        "Qual o valor exibido na tela, a partir da execução deste trecho de código?\n",
        "\n",
        "a) [0, 1, 2, 3, 4]\n",
        "b) 0\n",
        "c) 4\n",
        "d) [4, 3, 2, 1, 0]\n",
        "e) None"
      ],
      "metadata": {
        "id": "5BafzBebPWRi"
      }
    },
    {
      "cell_type": "code",
      "source": [
        "#Resposta b)\n",
        "#A lista_1 é composta pelos valores já setados, na segunda linha do código a lista_2 cria uma nova lista com os mesmos valores da lista_1,\n",
        "#na terceira linha do código a lista_2 modifica o valor no indice 0 da lista e teria essa exibição caso fosse printado lista_2 = [42, 1, 2, 3, 4], porém não muda nada da lista_1,\n",
        "#por fim, na ultima linha do código é printado apenas valor no indice zero da lista_1, que no caso é \"0\"\n",
        "lista_1 = [0, 1, 2, 3, 4]\n",
        "lista_2 = lista_1[:]\n",
        "lista_2[0] = 42\n",
        "print(lista_1[0])\n",
        "#print(lista_2)"
      ],
      "metadata": {
        "colab": {
          "base_uri": "https://localhost:8080/"
        },
        "id": "Enuy3b-xPZcq",
        "outputId": "566ec948-9665-42a2-d97c-139a4f2bf61a"
      },
      "execution_count": null,
      "outputs": [
        {
          "output_type": "stream",
          "name": "stdout",
          "text": [
            "0\n"
          ]
        }
      ]
    },
    {
      "cell_type": "markdown",
      "source": [
        "Questão 7:\n",
        "Ao prospectar clientes, é importante que sejam mapeadas características capazes de definir perfis específicos, para que se possam estabelecer campanhas mais direcionadas a cada público. Dentre estas características, considerando o contexto de ofertas de produtos para clientes PJ de um banco, pode ser importante saber, por exemplo, quanto em média o cliente PJ fatura por dia em uma semana típica.\n",
        "\n",
        "Neste contexto, você precisa implementar um protótipo de uma solução, em Python, que faz o seguinte:\n",
        "\n",
        "recebe, como entrada, o faturamento total de cada dia de uma semana (recebendo, portanto, 7 números);\n",
        "exibe na tela, como saída, o faturamento diário médio (com base nas informações de faturamento da semana informada).\n"
      ],
      "metadata": {
        "id": "lhRrCfAtS3Cl"
      }
    },
    {
      "cell_type": "code",
      "source": [
        "lista_fat = []\n",
        "for i in range(7):\n",
        "    faturamento = float(input(f\"Digite o faturamento do dia {i + 1}: \"))\n",
        "    lista_fat.append(faturamento)\n",
        "\n",
        "media_fat = sum(lista_fat) / 7 #pega a somatória dos números inputados e divide pelos 7 elementos da lista.\n",
        "\n",
        "print(f\"O faturamento diário médio: {media_fat:.2f}\")"
      ],
      "metadata": {
        "colab": {
          "base_uri": "https://localhost:8080/"
        },
        "id": "No7mkaysS5XE",
        "outputId": "c196e51a-4fcc-487e-d4b6-ea2470432bb5"
      },
      "execution_count": null,
      "outputs": [
        {
          "output_type": "stream",
          "name": "stdout",
          "text": [
            "Digite o faturamento do dia 1: 10\n",
            "Digite o faturamento do dia 2: 20\n",
            "Digite o faturamento do dia 3: 30\n",
            "Digite o faturamento do dia 4: 40\n",
            "Digite o faturamento do dia 5: 50\n",
            "Digite o faturamento do dia 6: 60\n",
            "Digite o faturamento do dia 7: 70\n",
            "O faturamento diário médio: 40.00\n"
          ]
        }
      ]
    },
    {
      "cell_type": "markdown",
      "source": [
        "Questão 8:\n",
        "Trabalhando na equipe de facilities de um banco, muitas vezes você faz compras internacionais, e acaba se deparando com diversas unidades de medida que caracterizam os produtos: em alguns países, medidas como onça fluida, libra e pés são muito comuns para medir volume, massa e comprimento, respectivamente.\n",
        "\n",
        "Neste contexto, escreva um programa que seja uma calculadora para converter as medidas mencionadas acima para o sistema internacional (litro, quilograma e metro). Os fatores de conversão são os seguintes:\n",
        "\n",
        "1 onça fluida = 0,0295735 litros 1 libra = 0,453592 quilogramas 1 pé = 0,3048 metros\n",
        "\n",
        "A calculadora deve ser capaz de realizar tanto a conversão para o sistema internacional quanto a conversão de volta para as unidades originais.\n",
        "\n",
        "Seu programa deve receber os inputs adequados do usuário para que seja completamente especificada a quantidade a ser convertida, e quais as unidades envolvidas na conversão desejada. Por fim, o programa deve exibir na tela tanto o valor na unidade original quanto na unidade convertida.\n",
        "\n",
        "Exemplo: se o usuário quiser converter 5 libras para quilogramas, a mensagem a ser exibida na tela como resultado do programa deve ser: \"5.0 libras é igual a 2.26796 quilogramas.\"."
      ],
      "metadata": {
        "id": "ZAwLdWhpS5wX"
      }
    },
    {
      "cell_type": "code",
      "source": [
        "oncafluida_litros = 0.0295735\n",
        "libra_kg = 0.453592\n",
        "pe_metros = 0.3048\n",
        "\n",
        "litros_oncafluida = 1 / oncafluida_litros\n",
        "kg_libra = 1 / libra_kg\n",
        "metros_pe = 1 / pe_metros\n",
        "\n",
        "valor = float(input(\"Digite o valor que será convertido: \"))\n",
        "unidade_original = input(\"Digite a unidade original (onça fluida, litros, libra, quilogramas, pé, metros): \").strip().lower()\n",
        "unidade_convercao = input(\"Digite a unidade para converter (onça fluida, litros, libra, quilogramas, pé, metros): \").strip().lower()\n",
        "\n",
        "if unidade_original == unidade_convercao:\n",
        "    resultado = valor\n",
        "else:\n",
        "    if unidade_original == \"onça fluida\":\n",
        "        if unidade_convercao == \"litros\":\n",
        "            resultado = valor * oncafluida_litros\n",
        "        elif unidade_convercao == \"onça fluida\":\n",
        "            resultado = valor\n",
        "        else:\n",
        "            resultado = None\n",
        "\n",
        "    elif unidade_original == \"litros\":\n",
        "        if unidade_convercao == \"onça fluida\":\n",
        "            resultado = valor * litros_oncafluida\n",
        "        else:\n",
        "            resultado = None\n",
        "\n",
        "    elif unidade_original == \"libra\":\n",
        "        if unidade_convercao == \"quilogramas\":\n",
        "            resultado = valor * libra_kg\n",
        "        elif unidade_convercao == \"libra\":\n",
        "            resultado = valor\n",
        "        else:\n",
        "            resultado = None\n",
        "\n",
        "    elif unidade_original == \"quilogramas\":\n",
        "        if unidade_convercao == \"libra\":\n",
        "            resultado = valor * kg_libra\n",
        "        else:\n",
        "            resultado = None\n",
        "\n",
        "    elif unidade_original == \"pé\":\n",
        "        if unidade_convercao == \"metros\":\n",
        "            resultado = valor * pe_metros\n",
        "        elif unidade_convercao == \"pé\":\n",
        "            resultado = valor\n",
        "        else:\n",
        "            resultado = None\n",
        "\n",
        "    elif unidade_original == \"metros\":\n",
        "        if unidade_convercao == \"pé\":\n",
        "            resultado = valor * metros_pe\n",
        "        else:\n",
        "            resultado = None\n",
        "\n",
        "if resultado is not None:\n",
        "    print(f\"{valor} {unidade_original} é igual a {resultado} {unidade_convercao}.\")\n",
        "else:\n",
        "    print(\"Conversão não suportada, utilize unidades corretas\")"
      ],
      "metadata": {
        "colab": {
          "base_uri": "https://localhost:8080/"
        },
        "id": "ABfWJMVcS7hq",
        "outputId": "8e674f39-9501-4e58-9c30-3df2a191d288"
      },
      "execution_count": null,
      "outputs": [
        {
          "output_type": "stream",
          "name": "stdout",
          "text": [
            "Digite o valor que será convertido: 1\n",
            "Digite a unidade original (onça fluida, litros, libra, quilogramas, pé, metros): pé\n",
            "Digite a unidade para converter (onça fluida, litros, libra, quilogramas, pé, metros): metros\n",
            "1.0 pé é igual a 0.3048 metros.\n"
          ]
        }
      ]
    },
    {
      "cell_type": "markdown",
      "source": [
        "Questão 9:\n",
        "Um conceito muito comum no mercado financeiro é o de média móvel. A ideia da média móvel é suavizar uma série temporal de dados para identificar tendências ao longo do tempo. Em vez de considerar cada ponto de dados individualmente, a média móvel calcula a média de um conjunto de dados dentro de uma janela de tempo específica, deslocando essa janela ao longo da série temporal.\n",
        "\n",
        "Em outras palavras: ao calcular a média móvel com janela de tamanho n para uma lista de valores, cada elemento da lista original é substituído pela média dos n elementos dentro da janela que termina no próprio elemento -- ou seja, a soma dos n-1 valores anteriores ao elemento com o valor do próprio elemento, dividido por n.\n",
        "\n",
        "Considere a lista de 10 valores a seguir: [3, 5, 8, 2, 7, 10, 3, 6, 9, 4].\n",
        "\n",
        "Escreva um programa que calcula a média móvel em janelas de 3 valores dessa lista (ou seja, n=3) e exiba na tela a lista resultante deste procedimento.\n",
        "\n"
      ],
      "metadata": {
        "id": "Fpi3fHBeS79N"
      }
    },
    {
      "cell_type": "code",
      "source": [
        "lista = [3, 5, 8, 2, 7, 10, 3, 6, 9, 4]\n",
        "\n",
        "n = 3\n",
        "media_m = [] #variável da média móvel\n",
        "\n",
        "for i in range(len(lista) - n + 1):\n",
        "    janela = lista[i:i + n]\n",
        "    media = sum(janela) / n\n",
        "    media_m.append(media)\n",
        "\n",
        "print(\"Lista:\", lista)\n",
        "print(\"Média móvel:\", media_m)"
      ],
      "metadata": {
        "colab": {
          "base_uri": "https://localhost:8080/"
        },
        "id": "55LiorfpS9dL",
        "outputId": "ee694184-cdd2-4cbe-8542-fcab3f6ed397"
      },
      "execution_count": null,
      "outputs": [
        {
          "output_type": "stream",
          "name": "stdout",
          "text": [
            "Lista: [3, 5, 8, 2, 7, 10, 3, 6, 9, 4]\n",
            "Média móvel: [5.333333333333333, 5.0, 5.666666666666667, 6.333333333333333, 6.666666666666667, 6.333333333333333, 6.0, 6.333333333333333]\n"
          ]
        }
      ]
    },
    {
      "cell_type": "markdown",
      "source": [
        "Questão 10:\n",
        "Um sistema de avaliação de saúde será desenvolvido por você para ajudar médicos do trabalho a avaliar a saúde de seus pacientes, que são funcionários de um grande banco.\n",
        "\n",
        "Os pacientes recebem uma nota de 0 a 100 para cada um dos seguintes critérios: preparo físico, alimentação saudável, saúde do coração e saúde mental.\n",
        "\n",
        "Um paciente com nota média acima de 70 é considerado saudável, enquanto pacientes com nota média abaixo de 70 são enviados para uma avaliação completa. Entretanto, caso a saúde do coração ou a saúde mental de um paciente estejam abaixo de 30, o paciente será encaminhado para uma avaliação completa independente da média.\n",
        "\n",
        "Escreva um programa que implementa a lógica acima, em que é exibido na tela o resultado da avaliação (\"paciente saudável\" ou \"paciente encaminhado para avaliação completa\") com base nas notas para os 4 critérios supracitados (você pode atribuir valores específicos para as notas para testar seu programa)."
      ],
      "metadata": {
        "id": "zrQL62jzS-9y"
      }
    },
    {
      "cell_type": "code",
      "source": [
        "preparo_fisico = float(input(\"Digite a nota do preparo físico [0 a 100]: \"))\n",
        "alimentacao = float(input(\"Digite a nota da alimentação saudável [0 a 100]: \"))\n",
        "s_coracao = float(input(\"Digite a nota da saúde do coração [0 a 100]: \"))\n",
        "s_mental = float(input(\"Digite a nota da saúde mental [0 a 100]: \"))\n",
        "\n",
        "if s_coracao < 30 or s_mental < 30: #se saude mental ou do coração for abaixo de 30 printar resultado av. completa\n",
        "    resultado = \"Paciente encaminhado para avaliação completa.\"\n",
        "else:\n",
        "    media = (preparo_fisico + alimentacao + s_coracao + s_mental) / 4 #calculo da media do paciente\n",
        "    if media > 70:\n",
        "        resultado = \"Paciente saudável.\"\n",
        "    else:\n",
        "        resultado = \"Paciente encaminhado para avaliação completa.\"\n",
        "\n",
        "print(f\"Média do paciente: {media}\")\n",
        "print(resultado)"
      ],
      "metadata": {
        "colab": {
          "base_uri": "https://localhost:8080/"
        },
        "id": "6e2oYwmxS_sA",
        "outputId": "a958f882-4698-4d76-a68b-89b1b82778fa"
      },
      "execution_count": null,
      "outputs": [
        {
          "output_type": "stream",
          "name": "stdout",
          "text": [
            "Digite a nota do preparo físico [0 a 100]: 100\n",
            "Digite a nota da alimentação saudável [0 a 100]: 100\n",
            "Digite a nota da saúde do coração [0 a 100]: 100\n",
            "Digite a nota da saúde mental [0 a 100]: 29\n",
            "Média do paciente: 75.0\n",
            "Paciente encaminhado para avaliação completa.\n"
          ]
        }
      ]
    }
  ]
}