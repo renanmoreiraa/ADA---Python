{
  "cells": [
    {
      "cell_type": "markdown",
      "metadata": {
        "id": "view-in-github",
        "colab_type": "text"
      },
      "source": [
        "<a href=\"https://colab.research.google.com/github/renanmoreiraa/ADA---Python/blob/master/Aula_1_1_Listas_e_Tuplas.ipynb\" target=\"_parent\"><img src=\"https://colab.research.google.com/assets/colab-badge.svg\" alt=\"Open In Colab\"/></a>"
      ]
    },
    {
      "cell_type": "markdown",
      "metadata": {
        "id": "njWDtoUnAXzd"
      },
      "source": [
        "# Aula 1 | Listas e Tuplas\n",
        "\n",
        "Nesta aula, vamos explorar conceitos fundamentais de Python focados em listas, tuplas e operações comuns com essas estruturas.\n",
        "\n",
        "**Nosso problema hoje**: Como fazer um sistema que cadastre usuários, permita buscá-los e não permita modificações acidentais.\n",
        "\n",
        "__________"
      ]
    },
    {
      "cell_type": "markdown",
      "metadata": {
        "id": "f9xa0T2rAXze"
      },
      "source": [
        "## 1. Revisão de listas\n",
        "Listas em Python são estruturas de dados que permitem armazenar uma coleção de itens. As listas são:\n",
        "\n",
        "- Ordenadas: os itens em uma lista são ordenados, o que significa que cada item tem uma posição específica ou índice começando do zero. Você pode acessar itens individuais usando estes índices. O fatiamento (`slicing`) permite acessar subconjuntos da lista\n",
        "- Indexadas: os elementos individuais de uma lista podem ser acessados usando índices.\n",
        "- Heterogêneas: podem conter diferentes tipos de dados como `int`, `float`, `str`, outras listas, e etc.\n",
        "- Mutáveis: é possível alterar seus elementos após a criação. Você pode adicionar, remover ou modificar itens. Elas são dinâmicas e podem ser manipuladas em tempo de execução.\n",
        "\n",
        "**Usos comuns**: listas são usadas para coletar dados que precisam ser sequenciados, como uma lista de nomes, números ou mesmo objetos complexos em programas mais avançados.\n",
        "\n",
        "> Exemplos: Lista de compras, vagão de trem."
      ]
    },
    {
      "cell_type": "markdown",
      "metadata": {
        "id": "PkeSNC-LAXze"
      },
      "source": [
        "### Criação de listas\n",
        "\n",
        "Listas são definidas usando conlchetes [] ou com a função list()."
      ]
    },
    {
      "cell_type": "code",
      "execution_count": null,
      "metadata": {
        "colab": {
          "base_uri": "https://localhost:8080/"
        },
        "id": "3aINN3kFAXzf",
        "outputId": "2bd1698e-49a2-40de-f984-b473544a70ba"
      },
      "outputs": [
        {
          "output_type": "stream",
          "name": "stdout",
          "text": [
            "[]\n",
            "[]\n"
          ]
        }
      ],
      "source": [
        "lista1 = []\n",
        "lista2 = list()\n",
        "\n",
        "print(lista1)\n",
        "print(lista2)\n"
      ]
    },
    {
      "cell_type": "code",
      "execution_count": null,
      "metadata": {
        "colab": {
          "base_uri": "https://localhost:8080/"
        },
        "id": "nQ4KQ3nqAXzf",
        "outputId": "9a1a631e-6108-4f69-e02d-3a6be7120c15"
      },
      "outputs": [
        {
          "output_type": "execute_result",
          "data": {
            "text/plain": [
              "['José', 'Maria', 'Ana', 'João']"
            ]
          },
          "metadata": {},
          "execution_count": 2
        }
      ],
      "source": [
        "usuarios = ['José', 'Maria', 'Ana', 'João']\n",
        "usuarios"
      ]
    },
    {
      "cell_type": "code",
      "execution_count": null,
      "metadata": {
        "colab": {
          "base_uri": "https://localhost:8080/"
        },
        "id": "bJ0cMVElAXzf",
        "outputId": "0a2af3cb-108d-4f56-becd-146016b7699e"
      },
      "outputs": [
        {
          "output_type": "execute_result",
          "data": {
            "text/plain": [
              "[10, 28.5, True, 'babi']"
            ]
          },
          "metadata": {},
          "execution_count": 4
        }
      ],
      "source": [
        "lista_heterogenea = [10, 28.5, True, \"babi\"]\n",
        "lista_heterogenea"
      ]
    },
    {
      "cell_type": "code",
      "execution_count": null,
      "metadata": {
        "colab": {
          "base_uri": "https://localhost:8080/"
        },
        "id": "vneHjKwHAXzf",
        "outputId": "75f7d671-6264-4c7d-dbd8-258c97324591"
      },
      "outputs": [
        {
          "output_type": "execute_result",
          "data": {
            "text/plain": [
              "[['lucas', 'Belem', 'PA'], ['Nara', 'Guaratingueta', 'SP']]"
            ]
          },
          "metadata": {},
          "execution_count": 5
        }
      ],
      "source": [
        "listas_de_listas = [[\"lucas\", \"Belem\", \"PA\"], [\"Nara\", \"Guaratingueta\", \"SP\"]]\n",
        "listas_de_listas"
      ]
    },
    {
      "cell_type": "code",
      "source": [
        "cursos = [\"Big Data\", \"Analytics Engineering,\", \"Arquitetura de Dados\", \"Logica de programação\"]\n",
        "cursos[0]\n",
        "cursos[-1]"
      ],
      "metadata": {
        "id": "9nhX4OtkC_D8"
      },
      "execution_count": null,
      "outputs": []
    },
    {
      "cell_type": "markdown",
      "metadata": {
        "id": "UzYhZg5eAXzf"
      },
      "source": [
        "### Consulta de elementos em listas e slicing\n",
        "\n",
        "Como cada elemento da lista possui um índice associado à ele, podemos consultar o conteúdo da lista a partir do número do índice. Se quisermos mais de um elemento, podemos 'fatiar' ou fazer o slicing da lista, selecionando um ou mais índices.\n",
        "\n",
        "- Índices começando em 0: o primeiro elemento de uma lista tem índice 0, o segundo tem índice 1, e assim por diante.\n",
        "- Índices negativos: começam do final da lista. Por exemplo, -1 refere-se ao último elemento, -2 ao penúltimo, etc."
      ]
    },
    {
      "cell_type": "markdown",
      "metadata": {
        "id": "shWxpSENAXzf"
      },
      "source": [
        "![](../img/slicing.png)"
      ]
    },
    {
      "cell_type": "code",
      "execution_count": null,
      "metadata": {
        "colab": {
          "base_uri": "https://localhost:8080/",
          "height": 35
        },
        "id": "55veBdJIAXzf",
        "outputId": "aa71220f-1f7d-4061-f05a-8e98ffb279a2"
      },
      "outputs": [
        {
          "output_type": "execute_result",
          "data": {
            "text/plain": [
              "'Logica de programação'"
            ],
            "application/vnd.google.colaboratory.intrinsic+json": {
              "type": "string"
            }
          },
          "metadata": {},
          "execution_count": 8
        }
      ],
      "source": [
        "listas_de_listas = [[\"lucas\", \"Belem\", \"PA\"], [\"Nara\", \"Guaratingueta\", \"SP\"]]\n",
        "listas_de_listas[1][0]"
      ]
    },
    {
      "cell_type": "markdown",
      "metadata": {
        "id": "cK75QiB1AXzf"
      },
      "source": [
        "No slicing, usamos a notação *lista[start:stop]* para selecionar a seção (fatia) que precisamos.\n",
        "\n",
        "Importante: o elemento no índice _start_ é incluído, o _stop_ não. Sendo assim, o número de elementos no resultado será _stop_-_start_"
      ]
    },
    {
      "cell_type": "code",
      "execution_count": null,
      "metadata": {
        "colab": {
          "base_uri": "https://localhost:8080/"
        },
        "id": "2i-PVL-1AXzg",
        "outputId": "0fe9b0d8-0099-422e-f4bc-9b4bae5606d2"
      },
      "outputs": [
        {
          "output_type": "execute_result",
          "data": {
            "text/plain": [
              "['Analytics Engineering,', 'Arquitetura de Dados']"
            ]
          },
          "metadata": {},
          "execution_count": 17
        }
      ],
      "source": [
        "cursos = [\"Extraçao de dados\", \"Big Data\", \"Analytics Engineering,\", \"Arquitetura de Dados\", \"Logica de programação\"]\n",
        "cursos[2:4]\n"
      ]
    },
    {
      "cell_type": "code",
      "execution_count": null,
      "metadata": {
        "colab": {
          "base_uri": "https://localhost:8080/"
        },
        "id": "F-1VCxlLAXzg",
        "outputId": "24d2e97a-1b48-4646-8389-6acd2c829eb8"
      },
      "outputs": [
        {
          "output_type": "execute_result",
          "data": {
            "text/plain": [
              "['Extraçao de dados', 'Analytics Engineering,', 'Logica de programação']"
            ]
          },
          "metadata": {},
          "execution_count": 18
        }
      ],
      "source": [
        "cursos[0:len(cursos):2]"
      ]
    },
    {
      "cell_type": "markdown",
      "metadata": {
        "id": "K_hCJR9UAXzg"
      },
      "source": [
        "### Adicionando e removendo elementos\n",
        "\n",
        "Podemos adicionar e remover elementos de uma lista usando os seguintes métodos:\n",
        "- `append()`: adiciona um elemento ao final da lista\n",
        "- `insert()`: insere um elemento em uma posição específica\n",
        "- `pop()`: remove e retorna um elemento em uma posição específica. Caso nenhum índice seja específicado, ele considera o último elemento\n",
        "- `remove()`: remove a primeira ocorrência de um elemento específico. _Se o elemento não estiver na lista, gera um ValueError._\n"
      ]
    },
    {
      "cell_type": "code",
      "execution_count": null,
      "metadata": {
        "colab": {
          "base_uri": "https://localhost:8080/"
        },
        "id": "iwFPGR1AAXzg",
        "outputId": "7c985eca-6cea-4d54-fb07-cfb7791abce0"
      },
      "outputs": [
        {
          "output_type": "execute_result",
          "data": {
            "text/plain": [
              "['José', 'Maria', 'Ana', 'João']"
            ]
          },
          "metadata": {},
          "execution_count": 19
        }
      ],
      "source": [
        "usuarios"
      ]
    },
    {
      "cell_type": "code",
      "execution_count": null,
      "metadata": {
        "id": "d0B6vp4HAXzg"
      },
      "outputs": [],
      "source": [
        "usuarios.insert(-1, \"Marcelo\")\n"
      ]
    },
    {
      "cell_type": "code",
      "execution_count": null,
      "metadata": {
        "colab": {
          "base_uri": "https://localhost:8080/"
        },
        "id": "mgvqhxjNAXzg",
        "outputId": "e6f404a3-4d0d-4fdf-c705-dcc47335b287"
      },
      "outputs": [
        {
          "output_type": "execute_result",
          "data": {
            "text/plain": [
              "123"
            ]
          },
          "metadata": {},
          "execution_count": 29
        }
      ],
      "source": [
        "usuarios.pop()"
      ]
    },
    {
      "cell_type": "code",
      "execution_count": null,
      "metadata": {
        "colab": {
          "base_uri": "https://localhost:8080/"
        },
        "id": "Oc13P-MMAXzg",
        "outputId": "de7c45bd-4b79-4951-d5c6-0cb9b45c17a3"
      },
      "outputs": [
        {
          "output_type": "execute_result",
          "data": {
            "text/plain": [
              "['José', 'Maria', 'Ana', 'João', 'Marcelo']"
            ]
          },
          "metadata": {},
          "execution_count": 30
        }
      ],
      "source": [
        "usuarios"
      ]
    },
    {
      "cell_type": "code",
      "execution_count": null,
      "metadata": {
        "colab": {
          "base_uri": "https://localhost:8080/"
        },
        "id": "LF7EyfjfAXzg",
        "outputId": "954bf063-879c-43bb-ece6-6109b7b87409"
      },
      "outputs": [
        {
          "output_type": "execute_result",
          "data": {
            "text/plain": [
              "['José', 'Maria', 'João', 'Marcelo']"
            ]
          },
          "metadata": {},
          "execution_count": 34
        }
      ],
      "source": [
        "usuarios.remove(\"Ana\")\n",
        "usuarios"
      ]
    },
    {
      "cell_type": "markdown",
      "metadata": {
        "id": "rc0zST7BAXzg"
      },
      "source": [
        "### Concatenando listas\n",
        "\n",
        "Podemos concatenar listas usando o operador `+` ou o método `extend`, a diferença é a performance:\n",
        "\n",
        "- `+`: Cria uma nova lista e copia os elementos das listas originais para ela. Não é a maneira mais eficiente para listas grandes, pois cada concatenação cria uma nova lista.\n",
        "- `extend`: Modifica a lista original (lista1 neste caso) ao adicionar os elementos de lista2. Mais eficiente do que usar +, especialmente para listas grandes, pois não cria uma nova lista.\n",
        "\n",
        "> Esses dois comportamentos são conhecidos como shalow copy e deep copy, mais detalhes [aqui](https://realpython.com/copying-python-objects/#:~:text=A%20shallow%20copy%20means%20constructing,of%20the%20child%20objects%20themselves.)."
      ]
    },
    {
      "cell_type": "code",
      "execution_count": null,
      "metadata": {
        "colab": {
          "base_uri": "https://localhost:8080/"
        },
        "id": "orIrmQfXAXzg",
        "outputId": "b107bc48-be16-4cf8-d4b8-6b182b74e069"
      },
      "outputs": [
        {
          "output_type": "execute_result",
          "data": {
            "text/plain": [
              "[1, 2, 3, 4, 5, 6]"
            ]
          },
          "metadata": {},
          "execution_count": 41
        }
      ],
      "source": [
        "lista1 = [1, 2, 3]\n",
        "lista2 = [4, 5, 6]\n",
        "lista1 + lista2"
      ]
    },
    {
      "cell_type": "code",
      "execution_count": null,
      "metadata": {
        "colab": {
          "base_uri": "https://localhost:8080/"
        },
        "id": "kSLZKQDuAXzg",
        "outputId": "0ca687a8-27f6-48c8-d1c9-46ffd63b5d4d"
      },
      "outputs": [
        {
          "output_type": "execute_result",
          "data": {
            "text/plain": [
              "[1, 2, 3, 4, 5, 6]"
            ]
          },
          "metadata": {},
          "execution_count": 42
        }
      ],
      "source": [
        "lista3 = lista1 + lista2\n",
        "lista3"
      ]
    },
    {
      "cell_type": "code",
      "execution_count": null,
      "metadata": {
        "colab": {
          "base_uri": "https://localhost:8080/"
        },
        "id": "JoPTnSKsAXzg",
        "outputId": "4567a9a2-29f0-4d53-b985-cf4754a84f90"
      },
      "outputs": [
        {
          "output_type": "execute_result",
          "data": {
            "text/plain": [
              "[1, 2, 3, 4, 5, 6]"
            ]
          },
          "metadata": {},
          "execution_count": 43
        }
      ],
      "source": [
        "lista3"
      ]
    },
    {
      "cell_type": "markdown",
      "metadata": {
        "id": "QiyR55__AXzg"
      },
      "source": [
        "#### 🤓 Curiosidade: shalow e deep copy()"
      ]
    },
    {
      "cell_type": "code",
      "source": [
        "lista1.extend(lista2)\n",
        "lista1"
      ],
      "metadata": {
        "colab": {
          "base_uri": "https://localhost:8080/"
        },
        "id": "uV7ii91xPOpE",
        "outputId": "ee26ef4d-88bb-4160-b2fd-8136e00b6ace"
      },
      "execution_count": null,
      "outputs": [
        {
          "output_type": "execute_result",
          "data": {
            "text/plain": [
              "[1, 2, 3, 4, 5, 6]"
            ]
          },
          "metadata": {},
          "execution_count": 44
        }
      ]
    },
    {
      "cell_type": "markdown",
      "metadata": {
        "id": "QJcfyTNcAXzh"
      },
      "source": [
        "1. Shallow copy\n",
        "    \n",
        "    Cria uma nova coleção de objetos, mas não cria cópias dos objetos contidos nessa coleção. Em vez disso, ela apenas copia as referências aos objetos originais.\n",
        "\n",
        "    Comportamento: Se você modificar um objeto mutável dentro da coleção copiada, essa mudança também será refletida na coleção original, porque ambas as coleções apontam para os mesmos objetos."
      ]
    },
    {
      "cell_type": "code",
      "execution_count": null,
      "metadata": {
        "colab": {
          "base_uri": "https://localhost:8080/"
        },
        "id": "Iaf7is3HAXzh",
        "outputId": "ce81b535-822a-4b87-e708-ecfa535ec3b5"
      },
      "outputs": [
        {
          "output_type": "stream",
          "name": "stdout",
          "text": [
            "Lista original: [[1, 2, 3], [4, 5, 6]]\n",
            "Lista cópia: [[1, 2, 3], [4, 5, 6]]\n"
          ]
        }
      ],
      "source": [
        "lista_original = [[1, 2, 3], [4, 5, 6]]\n",
        "lista_copia = lista_original.copy()\n",
        "\n",
        "print(f\"Lista original: {lista_original}\\nLista cópia: {lista_copia}\")"
      ]
    },
    {
      "cell_type": "code",
      "execution_count": null,
      "metadata": {
        "id": "qKVJqdRBAXzh"
      },
      "outputs": [],
      "source": [
        "lista_copia[0][2] = 4"
      ]
    },
    {
      "cell_type": "code",
      "source": [
        "print(f\"Lista original: {lista_original}\\nLista cópia: {lista_copia}\")"
      ],
      "metadata": {
        "colab": {
          "base_uri": "https://localhost:8080/"
        },
        "id": "h6C93eCDRefr",
        "outputId": "b1693907-cc0c-421a-e8b3-83e5cd1294db"
      },
      "execution_count": null,
      "outputs": [
        {
          "output_type": "stream",
          "name": "stdout",
          "text": [
            "Lista original: [[1, 2, 4], [4, 5, 6]]\n",
            "Lista cópia: [[1, 2, 4], [4, 5, 6]]\n"
          ]
        }
      ]
    },
    {
      "cell_type": "code",
      "source": [
        "print(f\"Lista original: {id(lista_original)}\\nLista cópia: {id(lista_copia)}\")\n",
        "print(f\"Valor lista original: {id(lista_original[0])}\\nValor lista cópia: {id(lista_copia[0])}\")"
      ],
      "metadata": {
        "colab": {
          "base_uri": "https://localhost:8080/"
        },
        "id": "QAeGv07VSBz9",
        "outputId": "5a139874-c54f-4f15-b74c-6d89ff5e7516"
      },
      "execution_count": null,
      "outputs": [
        {
          "output_type": "stream",
          "name": "stdout",
          "text": [
            "Lista original: 135496004434048\n",
            "Lista cópia: 135496004430912\n",
            "Valor lista original: 135496004422528\n",
            "Valor lista cópia: 135496004422528\n"
          ]
        }
      ]
    },
    {
      "cell_type": "markdown",
      "metadata": {
        "id": "4mMa1WRAAXzh"
      },
      "source": [
        "2. Deep copy\n",
        "\n",
        "    Cria uma nova coleção e também cria cópias completas de todos os objetos que estavam contidos na coleção original.\n",
        "\n",
        "    Comportamento: Alterações feitas nos objetos na cópia não afetam os objetos na coleção original, pois são objetos completamente distintos."
      ]
    },
    {
      "cell_type": "code",
      "execution_count": null,
      "metadata": {
        "colab": {
          "base_uri": "https://localhost:8080/"
        },
        "id": "_JpuFuKlAXzh",
        "outputId": "cebb0b29-edef-424b-d216-cda81ee7a82a"
      },
      "outputs": [
        {
          "output_type": "stream",
          "name": "stdout",
          "text": [
            "Lista original: [[1, 2, 3], [4, 5, 6]]\n",
            "Lista cópia: [[1, 2, 3], [4, 5, 6]]\n"
          ]
        }
      ],
      "source": [
        "import copy\n",
        "\n",
        "lista_original = [[1, 2, 3], [4, 5, 6]]\n",
        "lista_copia = copy.deepcopy(lista_original)\n",
        "\n",
        "print(f\"Lista original: {lista_original}\\nLista cópia: {lista_copia}\")"
      ]
    },
    {
      "cell_type": "code",
      "source": [
        "lista_copia[0][2] = 7"
      ],
      "metadata": {
        "id": "jr8fI0_7VKFh"
      },
      "execution_count": null,
      "outputs": []
    },
    {
      "cell_type": "code",
      "source": [
        "print(f\"Lista original: {lista_original}\\nLista cópia: {lista_copia}\")"
      ],
      "metadata": {
        "colab": {
          "base_uri": "https://localhost:8080/"
        },
        "id": "N7pbzEVHVPQM",
        "outputId": "e09dbe5c-ea51-4b1a-e433-775487e8e2f9"
      },
      "execution_count": null,
      "outputs": [
        {
          "output_type": "stream",
          "name": "stdout",
          "text": [
            "Lista original: [[1, 2, 3], [4, 5, 6]]\n",
            "Lista cópia: [[1, 2, 7], [4, 5, 6]]\n"
          ]
        }
      ]
    },
    {
      "cell_type": "code",
      "source": [
        "print(f\"Lista original: {id(lista_original)}\\nLista cópia: {id(lista_copia)}\")\n",
        "print(f\"Valor lista original: {id(lista_original[0][2])}\\nValor lista cópia: {id(lista_copia[0][2])}\")"
      ],
      "metadata": {
        "colab": {
          "base_uri": "https://localhost:8080/"
        },
        "id": "2u03ABpHU1e1",
        "outputId": "8a0bd4ed-7f48-4db6-9e87-1e7cf695be10"
      },
      "execution_count": null,
      "outputs": [
        {
          "output_type": "stream",
          "name": "stdout",
          "text": [
            "Lista original: 135496004423104\n",
            "Lista cópia: 135496004426240\n",
            "Valor lista original: 135497288778032\n",
            "Valor lista cópia: 135497288778160\n"
          ]
        }
      ]
    },
    {
      "cell_type": "markdown",
      "metadata": {
        "id": "qIfzoaZZAXzh"
      },
      "source": [
        "### Iterando uma lista\n",
        "\n",
        "Iterar uma lista em Python significa percorrer todos os seus elementos, um por um. A ideia, no geral é: dada uma lista, para cada elemento, execute uma tarefa. Podemos fazer isso de algumas formas:"
      ]
    },
    {
      "cell_type": "code",
      "execution_count": null,
      "metadata": {
        "colab": {
          "base_uri": "https://localhost:8080/"
        },
        "id": "CG1CdsRrAXzh",
        "outputId": "823c015d-8748-4eff-a026-ca730328fe6a"
      },
      "outputs": [
        {
          "output_type": "stream",
          "name": "stdout",
          "text": [
            "José\n",
            "Maria\n",
            "Ana\n",
            "João\n"
          ]
        }
      ],
      "source": [
        "usuarios = ['José', 'Maria', 'Ana', 'João']\n",
        "\n",
        "for usuario in usuarios:\n",
        "    print(usuario)"
      ]
    },
    {
      "cell_type": "markdown",
      "metadata": {
        "id": "CFWRcerMAXzh"
      },
      "source": [
        "Podemos incrementar o código acima, trazendo não só o conteúdo de cada elemento da lista, mas também o índice correspondente.\n",
        "\n",
        "- Para cada elemento da nossa lista\n",
        "- Imprima esse elemento, além do seu indice e o nome do usuário.\n",
        "\n",
        "Por exemplo:\n",
        "\n",
        "`0 - Mariana`                                       \n",
        "`1 - Ana`                        \n",
        "`2 - João`\n",
        "\n",
        "Para recuperar o índice junto com o conteúdo do elemnto da lista numa iteração, devemos usar `enumerate()`. Esta função adiciona im contador aos itens da lista."
      ]
    },
    {
      "cell_type": "code",
      "execution_count": null,
      "metadata": {
        "colab": {
          "base_uri": "https://localhost:8080/"
        },
        "id": "vIu75TMdAXzh",
        "outputId": "59c4aad5-ec93-4f2f-8240-732927dd32aa"
      },
      "outputs": [
        {
          "output_type": "stream",
          "name": "stdout",
          "text": [
            "0 José\n",
            "1 Maria\n",
            "2 Ana\n",
            "3 João\n"
          ]
        }
      ],
      "source": [
        "for indice, usuario in enumerate(usuarios):\n",
        "    print(indice, usuario)"
      ]
    },
    {
      "cell_type": "markdown",
      "metadata": {
        "id": "YhLnsUurAXzh"
      },
      "source": [
        "#### 👩‍💻 Mão na massa"
      ]
    },
    {
      "cell_type": "markdown",
      "metadata": {
        "id": "-gyhnEbEAXzh"
      },
      "source": [
        "Crie um laço (loop) que obedeça o seguinte pseudocódigo:\n",
        "\n",
        "- Para cada elemento de uma lista\n",
        "- Imprima esse elemento, além do seu indice e o total da lista\n",
        "\n",
        "Por exemplo:\n",
        "\n",
        "Utilizando a lista `frutas = ['banana', 'maca', 'uva', 'pera']`\n",
        "\n",
        "Teriamos nos dois primeiros resultados:\n",
        "\n",
        "`>>> #1/4: banana`     \n",
        "`>>> #2/4: maca`"
      ]
    },
    {
      "cell_type": "code",
      "execution_count": 8,
      "metadata": {
        "id": "H_P6NWDxAXzi",
        "colab": {
          "base_uri": "https://localhost:8080/"
        },
        "outputId": "c30dc6b4-4ea3-46d9-8255-6c803a4778df"
      },
      "outputs": [
        {
          "output_type": "stream",
          "name": "stdout",
          "text": [
            "#1/4: banana\n",
            "#2/4: maca\n",
            "#3/4: uva\n",
            "#4/4: pera\n"
          ]
        }
      ],
      "source": [
        "frutas = ['banana', 'maca', 'uva', 'pera']\n",
        "total = len(frutas)\n",
        "\n",
        "for i, fruta in enumerate(frutas, start=1):\n",
        "    print(f\"#{i}/{total}: {fruta}\")\n"
      ]
    },
    {
      "cell_type": "markdown",
      "metadata": {
        "id": "jyV5SfbdAXzi"
      },
      "source": [
        "## 2. Tuplas\n",
        "\n",
        "Tuplas são estruturas de dados bastante similares às listas:\n",
        "\n",
        "- Ordenadas\n",
        "- Indexadas\n",
        "- Heterogêneas\n",
        "\n",
        "No entanto, são **imutáveis**. Uma tupla é uma coleção de itens que não pode ser modificada após sua criação. Isso significa que você não pode adicionar, remover ou alterar elementos em uma tupla.\n",
        "\n",
        "**Usos comuns**: tuplas são frequentemente usadas para armazenar dados que não devem ser alterados, como coordenadas geográficas, ou para retornar múltiplos valores de uma função.\n",
        "\n",
        "_E mais_: por serem imutáveis, tuplas geralmente ocupam menos espaço na memória do que listas e podem ser mais eficientes em termos de desempenho para coleções de dados fixas.\n"
      ]
    },
    {
      "cell_type": "markdown",
      "metadata": {
        "id": "S7VjTNzEAXzi"
      },
      "source": [
        "### Criando tuplas\n",
        "\n",
        "As tuplas são normalmente definidas usando parênteses (), usando a função tuple() ou apenas pela separação de itens por vírgulas.\n"
      ]
    },
    {
      "cell_type": "code",
      "execution_count": 2,
      "metadata": {
        "colab": {
          "base_uri": "https://localhost:8080/"
        },
        "id": "6au33PMJAXzi",
        "outputId": "bfa1cec3-9599-4bb2-bf37-6fe88fed3d1d"
      },
      "outputs": [
        {
          "output_type": "stream",
          "name": "stdout",
          "text": [
            "('Diana', 'Lucas', 'Felipe')\n",
            "('Diana', 'Lucas', 'Felipe')\n",
            "()\n"
          ]
        }
      ],
      "source": [
        "tupla1 = (\"Diana\", \"Lucas\", \"Felipe\") # [] -> lista, () -> tupla\n",
        "\n",
        "tupla2 = \"Diana\", \"Lucas\", \"Felipe\"\n",
        "\n",
        "tupla3 = tuple()\n",
        "\n",
        "# valor, valor2 = get_valores()\n",
        "\n",
        "print(tupla1)\n",
        "print(tupla2)\n",
        "print(tupla3)"
      ]
    },
    {
      "cell_type": "code",
      "execution_count": 6,
      "metadata": {
        "colab": {
          "base_uri": "https://localhost:8080/"
        },
        "id": "bDL9lnTsAXzk",
        "outputId": "8ce4b421-e572-4306-a167-2eb2bd930c4e"
      },
      "outputs": [
        {
          "output_type": "execute_result",
          "data": {
            "text/plain": [
              "(('Módulo 1', 'Módulo 2'),\n",
              " ('Lógica 1', 'Lógica 2'),\n",
              " ('Estatística 1', 'Estatística 2'))"
            ]
          },
          "metadata": {},
          "execution_count": 6
        }
      ],
      "source": [
        "tupla_de_tuplas = ((\"Módulo 1\", \"Módulo 2\"), (\"Lógica 1\", \"Lógica 2\"), (\"Estatística 1\", \"Estatística 2\"))\n",
        "tupla_de_tuplas\n"
      ]
    },
    {
      "cell_type": "markdown",
      "metadata": {
        "id": "1ujw-7sNAXzk"
      },
      "source": [
        "### Consultando elementos da tupla e slicing\n",
        "\n",
        "A maneira de consultar os elementos deuma tupla segue a lógica das listas, sempre baseada no índice do elemento (ou elementos) que desejamos recuperar."
      ]
    },
    {
      "cell_type": "code",
      "execution_count": 3,
      "metadata": {
        "id": "VtV3QAZ3AXzk",
        "colab": {
          "base_uri": "https://localhost:8080/"
        },
        "outputId": "17d40ecc-77f8-4f3f-9356-2439ef53bfee"
      },
      "outputs": [
        {
          "output_type": "stream",
          "name": "stdout",
          "text": [
            "('Diana', 'Lucas', 'Felipe')\n"
          ]
        }
      ],
      "source": [
        "print(tupla1)"
      ]
    },
    {
      "cell_type": "code",
      "source": [
        "tupla1[2]"
      ],
      "metadata": {
        "id": "_v15roexaQPe",
        "colab": {
          "base_uri": "https://localhost:8080/",
          "height": 36
        },
        "outputId": "e88a99ff-652b-4a10-afd6-c4dbd6f01ce1"
      },
      "execution_count": 4,
      "outputs": [
        {
          "output_type": "execute_result",
          "data": {
            "text/plain": [
              "'Felipe'"
            ],
            "application/vnd.google.colaboratory.intrinsic+json": {
              "type": "string"
            }
          },
          "metadata": {},
          "execution_count": 4
        }
      ]
    },
    {
      "cell_type": "code",
      "source": [
        "tupla_de_tuplas[1][0]"
      ],
      "metadata": {
        "id": "A4PGtgcAaQgw",
        "colab": {
          "base_uri": "https://localhost:8080/",
          "height": 36
        },
        "outputId": "de3277d7-d112-409f-e9c8-2e2e0eecfca3"
      },
      "execution_count": 7,
      "outputs": [
        {
          "output_type": "execute_result",
          "data": {
            "text/plain": [
              "'Lógica 1'"
            ],
            "application/vnd.google.colaboratory.intrinsic+json": {
              "type": "string"
            }
          },
          "metadata": {},
          "execution_count": 7
        }
      ]
    },
    {
      "cell_type": "markdown",
      "metadata": {
        "id": "GOWsa8QSAXzk"
      },
      "source": [
        "### Concatenando tuplas\n",
        "\n",
        "Podemos concatenar tuplas usando o operador `+`."
      ]
    },
    {
      "cell_type": "code",
      "execution_count": null,
      "metadata": {
        "colab": {
          "base_uri": "https://localhost:8080/"
        },
        "id": "CqHTXeZwAXzk",
        "outputId": "1ec23251-410b-4546-faa9-be252254af14"
      },
      "outputs": [
        {
          "output_type": "execute_result",
          "data": {
            "text/plain": [
              "('Diana', 'Lucas', 'Felipe', 'Diana', 'Lucas', 'Felipe')"
            ]
          },
          "metadata": {},
          "execution_count": 65
        }
      ],
      "source": [
        "tupla3 = tupla1 + tupla2\n",
        "tupla3"
      ]
    },
    {
      "cell_type": "code",
      "execution_count": null,
      "metadata": {
        "colab": {
          "base_uri": "https://localhost:8080/"
        },
        "id": "Z05Y8P6NAXzk",
        "outputId": "0b3c24fa-241a-471d-ba88-b582e17fcc77"
      },
      "outputs": [
        {
          "output_type": "execute_result",
          "data": {
            "text/plain": [
              "('Diana', 'Lucas', 'Felipe', 'Diana', 'Lucas', 'Felipe', 1.25, 5)"
            ]
          },
          "metadata": {},
          "execution_count": 66
        }
      ],
      "source": [
        "tupla1 = (\"Diana\", \"Lucas\", \"Felipe\") # [] -> lista, () -> tupla\n",
        "\n",
        "tupla2 = \"Diana\", \"Lucas\", \"Felipe\", 1.25, 5\n",
        "\n",
        "tupla3 = tupla1 + tupla2\n",
        "tupla3"
      ]
    },
    {
      "cell_type": "code",
      "source": [
        "tupla4 = tupla3 * 2\n",
        "tupla4"
      ],
      "metadata": {
        "colab": {
          "base_uri": "https://localhost:8080/"
        },
        "id": "viniFSHOa7tA",
        "outputId": "5b148d5f-2736-4cb4-c890-aba4b9e3e1ae"
      },
      "execution_count": null,
      "outputs": [
        {
          "output_type": "execute_result",
          "data": {
            "text/plain": [
              "('Diana',\n",
              " 'Lucas',\n",
              " 'Felipe',\n",
              " 'Diana',\n",
              " 'Lucas',\n",
              " 'Felipe',\n",
              " 1.25,\n",
              " 5,\n",
              " 'Diana',\n",
              " 'Lucas',\n",
              " 'Felipe',\n",
              " 'Diana',\n",
              " 'Lucas',\n",
              " 'Felipe',\n",
              " 1.25,\n",
              " 5)"
            ]
          },
          "metadata": {},
          "execution_count": 68
        }
      ]
    },
    {
      "cell_type": "markdown",
      "metadata": {
        "id": "Q07BhXO9AXzk"
      },
      "source": [
        "### Iterando uma tupla\n",
        "\n",
        "Também seguindo a lógica de iteração de listas, podemos percorrer os elementos de uma tupla."
      ]
    },
    {
      "cell_type": "code",
      "execution_count": null,
      "metadata": {
        "colab": {
          "base_uri": "https://localhost:8080/"
        },
        "id": "FU-n8VP9AXzk",
        "outputId": "53d901da-f7b3-44a0-ef36-bbf734297be8"
      },
      "outputs": [
        {
          "output_type": "stream",
          "name": "stdout",
          "text": [
            "Lauro\n",
            "Amanda\n",
            "Rubens\n"
          ]
        }
      ],
      "source": [
        "alunos = ((\"Lauro\", 28), (\"Amanda\", 26), (\"Rubens\", 37))\n",
        "\n",
        "for aluno in alunos:\n",
        "    print(aluno[0])"
      ]
    },
    {
      "cell_type": "markdown",
      "metadata": {
        "id": "AKPZ6VKiAXzk"
      },
      "source": [
        "### Outras características e funcionalidades das tuplas"
      ]
    },
    {
      "cell_type": "markdown",
      "metadata": {
        "id": "Omb_KUeiAXzl"
      },
      "source": [
        "#### Tuplas podem virar listas (_e listas podem virar tuplas_)"
      ]
    },
    {
      "cell_type": "code",
      "execution_count": null,
      "metadata": {
        "colab": {
          "base_uri": "https://localhost:8080/"
        },
        "id": "0exnkRCmAXzl",
        "outputId": "efb3090b-389d-45f8-92ef-08acb31e3d23"
      },
      "outputs": [
        {
          "output_type": "execute_result",
          "data": {
            "text/plain": [
              "list"
            ]
          },
          "metadata": {},
          "execution_count": 82
        }
      ],
      "source": [
        "usuarios\n",
        "type(usuarios)"
      ]
    },
    {
      "cell_type": "code",
      "source": [
        "usuarios"
      ],
      "metadata": {
        "colab": {
          "base_uri": "https://localhost:8080/"
        },
        "id": "y8JaCyiNbqpB",
        "outputId": "b3e5851b-63c8-4caa-962e-dd8a3eab49b8"
      },
      "execution_count": null,
      "outputs": [
        {
          "output_type": "execute_result",
          "data": {
            "text/plain": [
              "['José', 'Maria', 'Ana', 'João']"
            ]
          },
          "metadata": {},
          "execution_count": 80
        }
      ]
    },
    {
      "cell_type": "code",
      "execution_count": null,
      "metadata": {
        "colab": {
          "base_uri": "https://localhost:8080/"
        },
        "id": "A0Mb4sfeAXzl",
        "outputId": "66e4db61-857a-4eda-ba6f-deddfc02d846"
      },
      "outputs": [
        {
          "output_type": "execute_result",
          "data": {
            "text/plain": [
              "('lauro', 'alessandra', 'agnes')"
            ]
          },
          "metadata": {},
          "execution_count": 22
        }
      ],
      "source": [
        "tupla_usuarios =  tuple(usuarios)\n",
        "type(tupla_usuarios)\n",
        "tupla_usuarios"
      ]
    },
    {
      "cell_type": "markdown",
      "metadata": {
        "id": "ZiG9sQI7AXzl"
      },
      "source": [
        "#### Podemos desempacotar tuplas\n",
        "Isso pode ser relevante quando precisamos extrair seus elementos e atribuí-los a variáveis separadas. Alguns casos em que o desempacotamento é útil incluem:\n",
        "\n",
        "- Clareza e conveniência: Desempacotar uma tupla diretamente em variáveis torna o código mais claro e fácil de entender do que acessar cada elemento da tupla por índices.\n",
        "\n",
        "- Troca de Valores: Permite uma maneira elegante e eficiente de trocar valores entre variáveis sem a necessidade de uma variável temporária.\n"
      ]
    },
    {
      "cell_type": "markdown",
      "metadata": {
        "id": "fkvmaq6TAXzl"
      },
      "source": [
        "Desempacotamento básico: cada elemento da tupla será atribuído a uma variável diferente"
      ]
    },
    {
      "cell_type": "code",
      "execution_count": null,
      "metadata": {
        "colab": {
          "base_uri": "https://localhost:8080/"
        },
        "id": "ydsf99m_AXzl",
        "outputId": "edefa130-259c-402b-8509-69d6004549b5"
      },
      "outputs": [
        {
          "output_type": "stream",
          "name": "stdout",
          "text": [
            "José\n",
            "Maria\n",
            "Ana\n"
          ]
        }
      ],
      "source": [
        "u1, u2, u3, u4 = tupla_usuarios\n",
        "print(u1)\n",
        "print(u2)\n",
        "print(u3)\n",
        "print(u4)\n"
      ]
    },
    {
      "cell_type": "markdown",
      "metadata": {
        "id": "WqX7H6yaAXzl"
      },
      "source": [
        "Desempacotamento parcial: cada elemento da tupla será atribuído a uma variável diferente"
      ]
    },
    {
      "cell_type": "code",
      "execution_count": null,
      "metadata": {
        "id": "u82vip4LAXzl",
        "colab": {
          "base_uri": "https://localhost:8080/"
        },
        "outputId": "de37be11-0318-41a4-a972-f4cb279a788c"
      },
      "outputs": [
        {
          "output_type": "stream",
          "name": "stdout",
          "text": [
            "1\n",
            "[2, 3, 4]\n",
            "5\n"
          ]
        }
      ],
      "source": [
        "tupla = [1, 2, 3, 4, 5]\n",
        "primeiro, *meio, ultimo = tupla\n",
        "print(primeiro)\n",
        "print(meio)\n",
        "print(ultimo)"
      ]
    },
    {
      "cell_type": "markdown",
      "metadata": {
        "id": "Jpf4OToGAXzl"
      },
      "source": [
        "Troca de valores entre variáveis"
      ]
    },
    {
      "cell_type": "code",
      "execution_count": null,
      "metadata": {
        "id": "p7dGqmeMAXzl",
        "colab": {
          "base_uri": "https://localhost:8080/"
        },
        "outputId": "396830e7-64f4-43cd-9199-01cbd43677fd"
      },
      "outputs": [
        {
          "output_type": "stream",
          "name": "stdout",
          "text": [
            "valor 1, valor 2\n",
            "valor 2, valor 1\n"
          ]
        }
      ],
      "source": [
        "a, b = 1, 2\n",
        "print(f\"valor {a}, valor {b}\")\n",
        "\n",
        "a, b = b, a\n",
        "print(f\"valor {a}, valor {b}\")"
      ]
    },
    {
      "cell_type": "markdown",
      "metadata": {
        "id": "xaO7LMbnAXzl"
      },
      "source": [
        "Retorno múltiplo de funções: funções podem retornar múltiplos valores na forma de uma tupla, que podem ser facilmente desempacotados."
      ]
    },
    {
      "cell_type": "code",
      "execution_count": null,
      "metadata": {
        "id": "orT9YDYWAXzl",
        "colab": {
          "base_uri": "https://localhost:8080/"
        },
        "outputId": "2d69d605-5a69-4c84-ae0d-33e8eea1824c"
      },
      "outputs": [
        {
          "output_type": "stream",
          "name": "stdout",
          "text": [
            "minimo 1, maximo 45\n"
          ]
        }
      ],
      "source": [
        "def min_max(lista):\n",
        "    return min(lista), max(lista)\n",
        "\n",
        "minimo, maximo = min_max([1, 23, 45, 3, 4])\n",
        "\n",
        "print(f\"minimo {minimo}, maximo {maximo}\")"
      ]
    },
    {
      "cell_type": "markdown",
      "metadata": {
        "id": "p3CZWMGSAXzl"
      },
      "source": [
        "Iteração com múltiplas variáveis: ao iterar sobre uma lista de tuplas, podemos desempacotar as tuplas diretamente no loop."
      ]
    },
    {
      "cell_type": "code",
      "execution_count": null,
      "metadata": {
        "id": "5WyMAck6AXzl",
        "colab": {
          "base_uri": "https://localhost:8080/"
        },
        "outputId": "26de014b-a54b-4620-ca28-a8735bf9630d"
      },
      "outputs": [
        {
          "output_type": "stream",
          "name": "stdout",
          "text": [
            "numero 1, nome um\n",
            "numero 2, nome dois\n",
            "numero 3, nome tres\n"
          ]
        }
      ],
      "source": [
        "pares = [(1, \"um\"), (2, \"dois\"), (3, \"tres\")]\n",
        "\n",
        "for numero, nome in pares:\n",
        "    print(f\"numero {numero}, nome {nome}\")"
      ]
    },
    {
      "cell_type": "code",
      "source": [
        "pares = [(12, \"um\"), (2, \"dois\"), (3, \"tres\")]\n",
        "\n",
        "for indice, valor in enumerate(pares):\n",
        "    print(f\"indice {indice} numero {valor[0]}, nome {valor[1]}\")"
      ],
      "metadata": {
        "colab": {
          "base_uri": "https://localhost:8080/"
        },
        "id": "p97y4RCLS8nh",
        "outputId": "2ae126aa-cd37-4692-efe8-cecd1cb0f8cb"
      },
      "execution_count": null,
      "outputs": [
        {
          "output_type": "stream",
          "name": "stdout",
          "text": [
            "indice 0 numero 12, nome um\n",
            "indice 1 numero 2, nome dois\n",
            "indice 2 numero 3, nome tres\n"
          ]
        }
      ]
    },
    {
      "cell_type": "markdown",
      "metadata": {
        "id": "sqsVkz7fAXzm"
      },
      "source": [
        "Contagem de elementos"
      ]
    },
    {
      "cell_type": "code",
      "execution_count": null,
      "metadata": {
        "id": "4gTVcT8AAXzm",
        "colab": {
          "base_uri": "https://localhost:8080/"
        },
        "outputId": "92476208-2294-4380-e082-ff02143e3992"
      },
      "outputs": [
        {
          "output_type": "execute_result",
          "data": {
            "text/plain": [
              "2"
            ]
          },
          "metadata": {},
          "execution_count": 13
        }
      ],
      "source": [
        "diversos = (\"a\", 23, \"b\", 24, \"c\", 11, \"d\", 12, \"a\")\n",
        "diversos.count(\"a\")"
      ]
    },
    {
      "cell_type": "markdown",
      "metadata": {
        "id": "NUrHKtF2AXzm"
      },
      "source": [
        "#### Named tuples\n",
        "\n",
        "🤔 Como lembrar a posição que cada valor significa na tupla?\n",
        "\n",
        "Named tuples são uma extensão das tuplas normais, oferecendo mais legibilidade e funcionalidade. Elas são parte do módulo collections e oferecem algumas vantagens sobre as tuplas regulares, **simplificando o processo de acesso aos valores** da tupla."
      ]
    },
    {
      "cell_type": "code",
      "execution_count": null,
      "metadata": {
        "id": "oALENcV0AXzm"
      },
      "outputs": [],
      "source": [
        "from collections import namedtuple"
      ]
    },
    {
      "cell_type": "code",
      "execution_count": null,
      "metadata": {
        "id": "a9Ya3S3YAXzm",
        "colab": {
          "base_uri": "https://localhost:8080/"
        },
        "outputId": "8284b3fb-33db-49c8-b588-ab224ab4361b"
      },
      "outputs": [
        {
          "output_type": "stream",
          "name": "stdout",
          "text": [
            "Pessoa 1:\n",
            "Lucas 23 PA\n"
          ]
        }
      ],
      "source": [
        "pessoa = namedtuple(\"Pessoa\", [\"nome\", \"idade\", \"estado\"])\n",
        "pessoa1 = pessoa(\"Lucas\", 23, \"PA\")\n",
        "\n",
        "print(\"Pessoa 1:\")\n",
        "print(f\"{pessoa1.nome} {pessoa1.idade} {pessoa1.estado}\")"
      ]
    },
    {
      "cell_type": "code",
      "execution_count": null,
      "metadata": {
        "id": "8kLBXKQ0AXzm",
        "colab": {
          "base_uri": "https://localhost:8080/"
        },
        "outputId": "1951725d-aa9c-4e78-8765-78f93aadbf87"
      },
      "outputs": [
        {
          "output_type": "execute_result",
          "data": {
            "text/plain": [
              "__main__.Pessoa"
            ]
          },
          "metadata": {},
          "execution_count": 19
        }
      ],
      "source": [
        "pessoa"
      ]
    },
    {
      "cell_type": "markdown",
      "metadata": {
        "id": "6le9cgdFAXzm"
      },
      "source": [
        "### 🤷‍♀️ Mas e a imutabilidade?\n",
        "\n",
        "Como faço para alterar algo numa tupla se eu precisar?"
      ]
    },
    {
      "cell_type": "markdown",
      "metadata": {
        "id": "9IPkmrZ5AXzm"
      },
      "source": [
        "Para tuplas **não é possível**: alterar elementos individuais, adicionar elementos, remover elementos ou alterar a ordem dos elementos. Uma vez criada, não é possível alterar nada de uma tupla!"
      ]
    },
    {
      "cell_type": "code",
      "execution_count": null,
      "metadata": {
        "id": "8r-akle_AXzm",
        "colab": {
          "base_uri": "https://localhost:8080/"
        },
        "outputId": "c3188935-8cc3-49b1-e1f4-e94592c5be85"
      },
      "outputs": [
        {
          "output_type": "stream",
          "name": "stdout",
          "text": [
            "lista ['lauro', 'alessandra', 'agnes']\n",
            "tupla ('lauro', 'alessandra', 'agnes')\n",
            "lista modificada ['abacate', 'alessandra', 'agnes']\n"
          ]
        }
      ],
      "source": [
        "usuarios = [\"lauro\", \"alessandra\", \"agnes\"]\n",
        "print(\"lista\", usuarios)\n",
        "print(\"tupla\", tupla_usuarios)\n",
        "usuarios[0] = \"abacate\"\n",
        "print(\"lista modificada\", usuarios)"
      ]
    },
    {
      "cell_type": "code",
      "execution_count": null,
      "metadata": {
        "id": "kQ7h5xdqAXzm"
      },
      "outputs": [],
      "source": []
    },
    {
      "cell_type": "markdown",
      "metadata": {
        "id": "uH3RNxIyAXzm"
      },
      "source": [
        "Poderíamos criar uma tupla de listas, caso faça sentido:"
      ]
    },
    {
      "cell_type": "code",
      "execution_count": null,
      "metadata": {
        "id": "nCLnZT3gAXzm",
        "colab": {
          "base_uri": "https://localhost:8080/"
        },
        "outputId": "0840055a-6989-4670-c550-a77988941dee"
      },
      "outputs": [
        {
          "output_type": "stream",
          "name": "stdout",
          "text": [
            "([1, 2, 3], [4, 5, 6], [7, 8, 9])\n"
          ]
        }
      ],
      "source": [
        "tupla_de_listas = ([1, 2, 3], [4, 5, 6], [7, 8, 9])\n",
        "print(tupla_de_listas)\n"
      ]
    },
    {
      "cell_type": "code",
      "execution_count": null,
      "metadata": {
        "id": "_U-wr76eAXzm"
      },
      "outputs": [],
      "source": [
        "tupla_de_listas[0].append(4)"
      ]
    },
    {
      "cell_type": "code",
      "source": [
        "print(tupla_de_listas)"
      ],
      "metadata": {
        "colab": {
          "base_uri": "https://localhost:8080/"
        },
        "id": "wTfg7oaYYpt9",
        "outputId": "a2a583c6-e083-485d-979d-55080fc23cc4"
      },
      "execution_count": null,
      "outputs": [
        {
          "output_type": "stream",
          "name": "stdout",
          "text": [
            "([1, 2, 3, 4], [4, 5, 6], [7, 8, 9])\n"
          ]
        }
      ]
    },
    {
      "cell_type": "markdown",
      "metadata": {
        "id": "N5euLXugAXzm"
      },
      "source": [
        "### Mais detalhes sobre iteração em listas e tuplas\n",
        "\n",
        "No Python temos duas funções integradas que oferecem maneiras convenientes e eficientes de iterar sobre listas, tuplas e outras sequências iteráveis: **zip()** e **enumerate().** Vamos explorar cada uma delas com exemplos para entender seu uso e utilidade."
      ]
    },
    {
      "cell_type": "markdown",
      "metadata": {
        "id": "uolX3MznAXzm"
      },
      "source": [
        "1. **enumerate**: é usado para iterar sobre uma sequência, obtendo ao mesmo tempo o índice e o valor de cada elemento.\n",
        "\n",
        "    Fornece uma maneira limpa e legível de obter o índice dos elementos durante a iteração, evitando a necessidade de inicializar e atualizar manualmente um contador."
      ]
    },
    {
      "cell_type": "code",
      "execution_count": null,
      "metadata": {
        "id": "vqC4qKoFAXzn",
        "colab": {
          "base_uri": "https://localhost:8080/"
        },
        "outputId": "16a200a8-90ba-4fc0-a6bf-74b58c4df65e"
      },
      "outputs": [
        {
          "output_type": "stream",
          "name": "stdout",
          "text": [
            "0 vermelho\n",
            "1 verde\n",
            "2 azul\n"
          ]
        }
      ],
      "source": [
        "cores = [\"vermelho\", \"verde\", \"azul\"]\n",
        "\n",
        "for indice, cor in enumerate(cores):\n",
        "    print(indice, cor)"
      ]
    },
    {
      "cell_type": "markdown",
      "metadata": {
        "id": "j8RV1oG_AXzn"
      },
      "source": [
        "2. **zip**: é usado para iterar sobre múltiplas sequências em paralelo. Ele retorna um iterador de tuplas, onde a i-ésima tupla contém o i-ésimo elemento de cada uma das sequências de entrada.\n",
        "\n",
        "    Permite combinar elementos de várias sequências de uma maneira que é clara e concisa, útil para operações paralelas em dados correlacionados."
      ]
    },
    {
      "cell_type": "code",
      "execution_count": null,
      "metadata": {
        "id": "63GFon5AAXzn",
        "colab": {
          "base_uri": "https://localhost:8080/"
        },
        "outputId": "f3dcb13d-f2f1-4552-cf81-8a3c4ba572c9"
      },
      "outputs": [
        {
          "output_type": "stream",
          "name": "stdout",
          "text": [
            "Nome: alessandra Idade: 10\n",
            "Nome: agnes Idade: 0\n",
            "Nome: diana Idade: 20\n"
          ]
        }
      ],
      "source": [
        "nomes = [\"alessandra\", \"agnes\", \"diana\"]\n",
        "idades = [10, 0, 20]\n",
        "for nome, idade in zip(nomes, idades):\n",
        "    print(f\"Nome: {nome} Idade: {idade}\")"
      ]
    },
    {
      "cell_type": "markdown",
      "metadata": {
        "id": "kwV7EgZxAXzn"
      },
      "source": [
        "## Set\n",
        "\n",
        "Conjuntos (sets) em Python são coleções desordenadas de elementos únicos e imutáveis.\n",
        "\n",
        "- **Desordenados**: Os itens em um conjunto não têm uma ordem definida; portanto, não podem ser acessados por índices ou chaves.\n",
        "- **Elementos únicos:** Cada elemento em um conjunto é único. Se você tentar adicionar elementos duplicados, eles não serão incluídos mais de uma vez.\n",
        "- **Imutáveis**: Enquanto o conjunto em si é mutável (você pode adicionar ou remover elementos), os elementos contidos no conjunto devem ser de tipos imutáveis, como números, strings e tuplas."
      ]
    },
    {
      "cell_type": "code",
      "execution_count": null,
      "metadata": {
        "id": "dJNErXITAXzn",
        "colab": {
          "base_uri": "https://localhost:8080/"
        },
        "outputId": "5108e71a-44f1-4b95-c647-3151ffafdaa7"
      },
      "outputs": [
        {
          "output_type": "execute_result",
          "data": {
            "text/plain": [
              "{1, 3, 5, 6, 7, 17, 18}"
            ]
          },
          "metadata": {},
          "execution_count": 30
        }
      ],
      "source": [
        "conjunto = {}\n",
        "conjunto = {17, 18, 7, 1, 3 , 3, 5, 6}\n",
        "conjunto"
      ]
    },
    {
      "cell_type": "code",
      "execution_count": null,
      "metadata": {
        "id": "Np1E3KiuAXzn",
        "colab": {
          "base_uri": "https://localhost:8080/"
        },
        "outputId": "a82f5d03-1902-4a7d-f319-e1e2e62e7d9e"
      },
      "outputs": [
        {
          "output_type": "execute_result",
          "data": {
            "text/plain": [
              "{1, 3, 5, 6, 7, 17, 18}"
            ]
          },
          "metadata": {},
          "execution_count": 31
        }
      ],
      "source": [
        "conjunto_set = set([17, 18, 7, 1, 3 , 3, 5, 6])\n",
        "conjunto_set"
      ]
    },
    {
      "cell_type": "code",
      "execution_count": null,
      "metadata": {
        "id": "vIY3M37iAXzn",
        "colab": {
          "base_uri": "https://localhost:8080/"
        },
        "outputId": "e47f17ff-41fb-45dc-c20b-d61d05b846c2"
      },
      "outputs": [
        {
          "output_type": "execute_result",
          "data": {
            "text/plain": [
              "{1, 3, 5, 6, 7, 17, 18, 96}"
            ]
          },
          "metadata": {},
          "execution_count": 32
        }
      ],
      "source": [
        "conjunto_set.add(96)\n",
        "conjunto_set"
      ]
    },
    {
      "cell_type": "code",
      "execution_count": null,
      "metadata": {
        "id": "Em0R4NdgAXzn",
        "colab": {
          "base_uri": "https://localhost:8080/"
        },
        "outputId": "03bd9f00-b03d-406c-ef3a-564afd9a550f"
      },
      "outputs": [
        {
          "output_type": "execute_result",
          "data": {
            "text/plain": [
              "['abacate', 'abacate', 'maca', 'uva', 'mamao']"
            ]
          },
          "metadata": {},
          "execution_count": 35
        }
      ],
      "source": [
        "lista = [\"abacate\", \"abacate\", \"maca\", \"uva\", \"mamao\"]\n",
        "lista"
      ]
    },
    {
      "cell_type": "code",
      "execution_count": null,
      "metadata": {
        "id": "AvWsZhHgAXzn",
        "colab": {
          "base_uri": "https://localhost:8080/"
        },
        "outputId": "a10dd0a2-26f2-4ea0-99b4-83de6b50f9f5"
      },
      "outputs": [
        {
          "output_type": "execute_result",
          "data": {
            "text/plain": [
              "{'abacate', 'maca', 'mamao', 'uva'}"
            ]
          },
          "metadata": {},
          "execution_count": 39
        }
      ],
      "source": [
        "lista_unica = set(lista)\n",
        "lista_unica"
      ]
    },
    {
      "cell_type": "code",
      "execution_count": null,
      "metadata": {
        "id": "7JpKKUPFAXzn",
        "colab": {
          "base_uri": "https://localhost:8080/"
        },
        "outputId": "645d5f69-0d27-4b04-ead9-585d2b735801"
      },
      "outputs": [
        {
          "output_type": "execute_result",
          "data": {
            "text/plain": [
              "{1, 2, 4, 5, 6, 9, 10}"
            ]
          },
          "metadata": {},
          "execution_count": 40
        }
      ],
      "source": [
        "c1 = {1, 2, 4, 6, 9}\n",
        "c2 = {2, 4, 5, 10}\n",
        "\n",
        "c1.union(c2)"
      ]
    },
    {
      "cell_type": "code",
      "execution_count": null,
      "metadata": {
        "id": "MB2wEkoFAXzn",
        "colab": {
          "base_uri": "https://localhost:8080/"
        },
        "outputId": "044fa808-561a-4853-dc35-2c8a2f61e37c"
      },
      "outputs": [
        {
          "output_type": "execute_result",
          "data": {
            "text/plain": [
              "{2, 4}"
            ]
          },
          "metadata": {},
          "execution_count": 41
        }
      ],
      "source": [
        "c1 & c2"
      ]
    },
    {
      "cell_type": "code",
      "execution_count": null,
      "metadata": {
        "id": "7Q1JpHGxAXzn"
      },
      "outputs": [],
      "source": []
    },
    {
      "cell_type": "markdown",
      "metadata": {
        "id": "6Ci3yqp7AXzn"
      },
      "source": [
        "## 🙃 Voltando ao problema inicial da aula\n",
        "**Nosso problema hoje**: Como fazer um sistema que cadastre usuários, permita buscá-los e não permita modificações acidentais."
      ]
    },
    {
      "cell_type": "code",
      "execution_count": null,
      "metadata": {
        "id": "I5hLkO8QAXzn",
        "colab": {
          "base_uri": "https://localhost:8080/"
        },
        "outputId": "24e07878-9760-4c4d-9322-35c3d5ddae88"
      },
      "outputs": [
        {
          "output_type": "stream",
          "name": "stdout",
          "text": [
            "Deseja cadastrar um novo usuário? (s/n)s\n",
            "Digite o nome: renan\n",
            "Digite a idade: 20\n",
            "Digite o estado: pa\n",
            "Deseja cadastrar um novo usuário? (s/n)s\n",
            "Digite o nome: lauro\n",
            "Digite a idade: 20\n",
            "Digite o estado: sp\n",
            "Deseja cadastrar um novo usuário? (s/n)n\n",
            "\n",
            "\n",
            "Nome: renan Idade: 20 Estado: pa\n",
            "Nome: lauro Idade: 20 Estado: sp\n"
          ]
        }
      ],
      "source": [
        "from collections import namedtuple\n",
        "Pessoa = namedtuple(\"Pessoa\", [\"nome\", \"idade\", \"estado\"])\n",
        "\n",
        "continuar_cadastro = True\n",
        "cadastros = []\n",
        "\n",
        "while continuar_cadastro:\n",
        "  cadastrar = input(\"Deseja cadastrar um novo usuário? (s/n)\")\n",
        "\n",
        "  if cadastrar.lower() == \"n\":\n",
        "    continuar_cadastro = False\n",
        "    print(\"\\n\")\n",
        "\n",
        "  elif  cadastrar.lower() == \"s\":\n",
        "    nome = input(\"Digite o nome: \")\n",
        "    idade = int(input(\"Digite a idade: \"))\n",
        "    estado = input(\"Digite o estado: \")\n",
        "    cadastro = Pessoa(nome, idade, estado)\n",
        "    cadastros.append(cadastro)\n",
        "\n",
        "  else:\n",
        "    print(\"Opção inválida, insira s ou n\")\n",
        "\n",
        "for c in cadastros:\n",
        "  print(f\"Nome: {c.nome} Idade: {c.idade} Estado: {c.estado}\")"
      ]
    },
    {
      "cell_type": "code",
      "execution_count": null,
      "metadata": {
        "id": "6LpRLPruAXzo"
      },
      "outputs": [],
      "source": []
    },
    {
      "cell_type": "code",
      "execution_count": null,
      "metadata": {
        "id": "QyBGbY6RAXzo"
      },
      "outputs": [],
      "source": []
    },
    {
      "cell_type": "markdown",
      "metadata": {
        "id": "2q6EdKMyAXzo"
      },
      "source": []
    }
  ],
  "metadata": {
    "kernelspec": {
      "display_name": "Python 3",
      "language": "python",
      "name": "python3"
    },
    "language_info": {
      "codemirror_mode": {
        "name": "ipython",
        "version": 3
      },
      "file_extension": ".py",
      "mimetype": "text/x-python",
      "name": "python",
      "nbconvert_exporter": "python",
      "pygments_lexer": "ipython3",
      "version": "3.12.2"
    },
    "colab": {
      "provenance": [],
      "include_colab_link": true
    }
  },
  "nbformat": 4,
  "nbformat_minor": 0
}